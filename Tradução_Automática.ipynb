{
  "nbformat": 4,
  "nbformat_minor": 0,
  "metadata": {
    "colab": {
      "provenance": []
    },
    "kernelspec": {
      "name": "python3",
      "display_name": "Python 3"
    },
    "language_info": {
      "name": "python"
    }
  },
  "cells": [
    {
      "cell_type": "markdown",
      "source": [
        "# Tradução Automática\n",
        "\n",
        "Esse tutorial foi realizado seguindo o passo a passo da seção 9.5 do Dive into Deep Learning, disponível no link: https://pt.d2l.ai/chapter_recurrent-modern/machine-translation-and-dataset.html"
      ],
      "metadata": {
        "id": "1R1axSKpCFxW"
      }
    },
    {
      "cell_type": "code",
      "source": [
        "# Instala dependências\n",
        "!pip install numpy==1.26.4\n",
        "!pip install git+https://github.com/d2l-ai/d2l-en --no-deps\n",
        "\n",
        "\n",
        "# Importa bibliotecas\n",
        "import os\n",
        "import tensorflow as tf\n",
        "from tensorflow.keras import layers\n",
        "from d2l import tensorflow as d2l\n",
        "import pandas as pd\n",
        "import matplotlib.pyplot as plt\n",
        "from collections import Counter\n",
        "from sklearn.metrics import f1_score\n",
        "import numpy as np\n",
        "\n"
      ],
      "metadata": {
        "colab": {
          "base_uri": "https://localhost:8080/"
        },
        "id": "2lJSkny8_6AQ",
        "outputId": "e20de487-ab33-4865-e6b6-6c50e0a562b6"
      },
      "execution_count": 29,
      "outputs": [
        {
          "output_type": "stream",
          "name": "stdout",
          "text": [
            "Requirement already satisfied: numpy==1.26.4 in /usr/local/lib/python3.12/dist-packages (1.26.4)\n",
            "Collecting git+https://github.com/d2l-ai/d2l-en\n",
            "  Cloning https://github.com/d2l-ai/d2l-en to /tmp/pip-req-build-dh_4txeo\n",
            "  Running command git clone --filter=blob:none --quiet https://github.com/d2l-ai/d2l-en /tmp/pip-req-build-dh_4txeo\n",
            "  Resolved https://github.com/d2l-ai/d2l-en to commit 23d7a5aecceee57d1292c56e90cce307f183bb0a\n",
            "  Preparing metadata (setup.py) ... \u001b[?25l\u001b[?25hdone\n"
          ]
        }
      ]
    },
    {
      "cell_type": "markdown",
      "source": [
        "## Download do Dataset do Projeto Tatoeba"
      ],
      "metadata": {
        "id": "8jtw9Zbkiac_"
      }
    },
    {
      "cell_type": "code",
      "source": [
        "# Download Dataset\n",
        "d2l.DATA_HUB['fra-eng'] = (\n",
        "    d2l.DATA_URL + 'fra-eng.zip',\n",
        "    '94646ad1522d915e7b0f9296181140edcf86a4f5'\n",
        ")\n",
        "\n",
        "def read_data_nmt():\n",
        "    \"\"\"\n",
        "    Lê o dataset de tradução automática Inglês–Francês.\n",
        "\n",
        "    Passos executados:\n",
        "    - Faz o download do dataset a partir do DATA_HUB (se ainda não estiver na máquina).\n",
        "    - Extrai o arquivo ZIP.\n",
        "    - Abre o arquivo 'fra.txt' (que contém as frases pareadas Inglês–Francês).\n",
        "    - Retorna o conteúdo bruto do arquivo como uma string única.\n",
        "    \"\"\"\n",
        "    data_dir = d2l.download_extract('fra-eng')  # baixa e extrai os arquivos\n",
        "    with open(os.path.join(data_dir, 'fra.txt'), 'r', encoding=\"utf-8\") as f:\n",
        "        return f.read()\n",
        "\n",
        "# Carrega o dataset bruto em uma string\n",
        "raw_text = read_data_nmt()\n",
        "\n",
        "# Visualiza apenas os primeiros 75 caracteres para inspecionar o formato\n",
        "print(raw_text[:75])"
      ],
      "metadata": {
        "colab": {
          "base_uri": "https://localhost:8080/"
        },
        "id": "QDi0h06TBnvV",
        "outputId": "1d7e62c9-62ef-4d27-ea68-871c5d3b3eab"
      },
      "execution_count": 30,
      "outputs": [
        {
          "output_type": "stream",
          "name": "stdout",
          "text": [
            "Go.\tVa !\n",
            "Hi.\tSalut !\n",
            "Run!\tCours !\n",
            "Run!\tCourez !\n",
            "Who?\tQui ?\n",
            "Wow!\tÇa alors !\n",
            "\n"
          ]
        }
      ]
    },
    {
      "cell_type": "markdown",
      "source": [
        "## Análise do dataset do Projeto Tatoeba"
      ],
      "metadata": {
        "id": "XKdFfCQ9iXiR"
      }
    },
    {
      "cell_type": "code",
      "source": [
        "# Carregar dataset bruto\n",
        "raw_text = read_data_nmt()\n",
        "lines = raw_text.split(\"\\n\")\n",
        "pairs = [l.split(\"\\t\") for l in lines if \"\\t\" in l]\n",
        "\n",
        "# Converter para DataFrame para facilitar a exploração\n",
        "df = pd.DataFrame(pairs, columns=[\"english\", \"french\"])\n",
        "print(\"Dimensão do dataset:\", df.shape)\n",
        "print(df.head())\n",
        "\n",
        "# Comprimento em caracteres e tokens\n",
        "df[\"len_en_chars\"] = df[\"english\"].str.len()\n",
        "df[\"len_fr_chars\"] = df[\"french\"].str.len()\n",
        "df[\"len_en_tokens\"] = df[\"english\"].str.split().apply(len)\n",
        "df[\"len_fr_tokens\"] = df[\"french\"].str.split().apply(len)\n",
        "\n",
        "# Estatísticas descritivas\n",
        "print(\"\\n--- Estatísticas Inglês (tokens) ---\")\n",
        "print(df[\"len_en_tokens\"].describe())\n",
        "print(\"\\n--- Estatísticas Francês (tokens) ---\")\n",
        "print(df[\"len_fr_tokens\"].describe())\n",
        "\n",
        "# Histogramas de comprimento\n",
        "plt.figure(figsize=(10,4))\n",
        "plt.hist(df[\"len_en_tokens\"], bins=30, alpha=0.5, label=\"Inglês\")\n",
        "plt.hist(df[\"len_fr_tokens\"], bins=30, alpha=0.5, label=\"Francês\")\n",
        "plt.xlabel(\"Comprimento (tokens)\")\n",
        "plt.ylabel(\"Número de frases\")\n",
        "plt.legend()\n",
        "plt.title(\"Distribuição do comprimento das frases\")\n",
        "plt.show()\n",
        "\n",
        "# Frequência de palavras (top 20)\n",
        "en_tokens = [w for sent in df[\"english\"].str.lower().str.split() for w in sent]\n",
        "fr_tokens = [w for sent in df[\"french\"].str.lower().str.split() for w in sent]\n",
        "\n",
        "en_freq = Counter(en_tokens)\n",
        "fr_freq = Counter(fr_tokens)\n",
        "\n",
        "print(\"\\nTop 20 palavras em Inglês:\")\n",
        "print(en_freq.most_common(20))\n",
        "\n",
        "print(\"\\nTop 20 palavras em Francês:\")\n",
        "print(fr_freq.most_common(20))\n",
        "\n",
        "# Tamanho dos vocabulários\n",
        "print(\"\\nTamanho do vocabulário inglês:\", len(en_freq))\n",
        "print(\"Tamanho do vocabulário francês:\", len(fr_freq))\n"
      ],
      "metadata": {
        "colab": {
          "base_uri": "https://localhost:8080/",
          "height": 1000
        },
        "id": "kjqiKLCchzAg",
        "outputId": "b40d5d11-cf5a-4fbe-8c5d-b0b5c8226e1a"
      },
      "execution_count": 31,
      "outputs": [
        {
          "output_type": "stream",
          "name": "stdout",
          "text": [
            "Dimensão do dataset: (167130, 2)\n",
            "  english    french\n",
            "0     Go.      Va !\n",
            "1     Hi.   Salut !\n",
            "2    Run!   Cours !\n",
            "3    Run!  Courez !\n",
            "4    Who?     Qui ?\n",
            "\n",
            "--- Estatísticas Inglês (tokens) ---\n",
            "count    167130.000000\n",
            "mean          6.151469\n",
            "std           2.475642\n",
            "min           1.000000\n",
            "25%           4.000000\n",
            "50%           6.000000\n",
            "75%           7.000000\n",
            "max          47.000000\n",
            "Name: len_en_tokens, dtype: float64\n",
            "\n",
            "--- Estatísticas Francês (tokens) ---\n",
            "count    167130.000000\n",
            "mean          6.693454\n",
            "std           2.779339\n",
            "min           1.000000\n",
            "25%           5.000000\n",
            "50%           6.000000\n",
            "75%           8.000000\n",
            "max          54.000000\n",
            "Name: len_fr_tokens, dtype: float64\n"
          ]
        },
        {
          "output_type": "display_data",
          "data": {
            "text/plain": [
              "<Figure size 1000x400 with 1 Axes>"
            ],
            "image/svg+xml": "<?xml version=\"1.0\" encoding=\"utf-8\" standalone=\"no\"?>\n<!DOCTYPE svg PUBLIC \"-//W3C//DTD SVG 1.1//EN\"\n  \"http://www.w3.org/Graphics/SVG/1.1/DTD/svg11.dtd\">\n<svg xmlns:xlink=\"http://www.w3.org/1999/xlink\" width=\"624.890625pt\" height=\"281.83875pt\" viewBox=\"0 0 624.890625 281.83875\" xmlns=\"http://www.w3.org/2000/svg\" version=\"1.1\">\n <metadata>\n  <rdf:RDF xmlns:dc=\"http://purl.org/dc/elements/1.1/\" xmlns:cc=\"http://creativecommons.org/ns#\" xmlns:rdf=\"http://www.w3.org/1999/02/22-rdf-syntax-ns#\">\n   <cc:Work>\n    <dc:type rdf:resource=\"http://purl.org/dc/dcmitype/StillImage\"/>\n    <dc:date>2025-09-18T14:02:06.894558</dc:date>\n    <dc:format>image/svg+xml</dc:format>\n    <dc:creator>\n     <cc:Agent>\n      <dc:title>Matplotlib v3.10.0, https://matplotlib.org/</dc:title>\n     </cc:Agent>\n    </dc:creator>\n   </cc:Work>\n  </rdf:RDF>\n </metadata>\n <defs>\n  <style type=\"text/css\">*{stroke-linejoin: round; stroke-linecap: butt}</style>\n </defs>\n <g id=\"figure_1\">\n  <g id=\"patch_1\">\n   <path d=\"M -0 281.83875 \nL 624.890625 281.83875 \nL 624.890625 0 \nL -0 0 \nz\n\" style=\"fill: #ffffff\"/>\n  </g>\n  <g id=\"axes_1\">\n   <g id=\"patch_2\">\n    <path d=\"M 59.690625 244.2825 \nL 617.690625 244.2825 \nL 617.690625 22.5225 \nL 59.690625 22.5225 \nz\n\" style=\"fill: #ffffff\"/>\n   </g>\n   <g id=\"patch_3\">\n    <path d=\"M 85.054261 244.2825 \nL 99.730076 244.2825 \nL 99.730076 229.859473 \nL 85.054261 229.859473 \nz\n\" clip-path=\"url(#p99b0f21ffb)\" style=\"fill: #1f77b4; opacity: 0.5\"/>\n   </g>\n   <g id=\"patch_4\">\n    <path d=\"M 99.730076 244.2825 \nL 114.405891 244.2825 \nL 114.405891 96.120392 \nL 99.730076 96.120392 \nz\n\" clip-path=\"url(#p99b0f21ffb)\" style=\"fill: #1f77b4; opacity: 0.5\"/>\n   </g>\n   <g id=\"patch_5\">\n    <path d=\"M 114.405891 244.2825 \nL 129.081706 244.2825 \nL 129.081706 122.81528 \nL 114.405891 122.81528 \nz\n\" clip-path=\"url(#p99b0f21ffb)\" style=\"fill: #1f77b4; opacity: 0.5\"/>\n   </g>\n   <g id=\"patch_6\">\n    <path d=\"M 129.081706 244.2825 \nL 143.75752 244.2825 \nL 143.75752 45.301432 \nL 129.081706 45.301432 \nz\n\" clip-path=\"url(#p99b0f21ffb)\" style=\"fill: #1f77b4; opacity: 0.5\"/>\n   </g>\n   <g id=\"patch_7\">\n    <path d=\"M 143.75752 244.2825 \nL 158.433335 244.2825 \nL 158.433335 186.790763 \nL 143.75752 186.790763 \nz\n\" clip-path=\"url(#p99b0f21ffb)\" style=\"fill: #1f77b4; opacity: 0.5\"/>\n   </g>\n   <g id=\"patch_8\">\n    <path d=\"M 158.433335 244.2825 \nL 173.10915 244.2825 \nL 173.10915 187.773722 \nL 158.433335 187.773722 \nz\n\" clip-path=\"url(#p99b0f21ffb)\" style=\"fill: #1f77b4; opacity: 0.5\"/>\n   </g>\n   <g id=\"patch_9\">\n    <path d=\"M 173.10915 244.2825 \nL 187.784965 244.2825 \nL 187.784965 230.532421 \nL 173.10915 230.532421 \nz\n\" clip-path=\"url(#p99b0f21ffb)\" style=\"fill: #1f77b4; opacity: 0.5\"/>\n   </g>\n   <g id=\"patch_10\">\n    <path d=\"M 187.784965 244.2825 \nL 202.460779 244.2825 \nL 202.460779 231.160003 \nL 187.784965 231.160003 \nz\n\" clip-path=\"url(#p99b0f21ffb)\" style=\"fill: #1f77b4; opacity: 0.5\"/>\n   </g>\n   <g id=\"patch_11\">\n    <path d=\"M 202.460779 244.2825 \nL 217.136594 244.2825 \nL 217.136594 241.084104 \nL 202.460779 241.084104 \nz\n\" clip-path=\"url(#p99b0f21ffb)\" style=\"fill: #1f77b4; opacity: 0.5\"/>\n   </g>\n   <g id=\"patch_12\">\n    <path d=\"M 217.136594 244.2825 \nL 231.812409 244.2825 \nL 231.812409 241.295818 \nL 217.136594 241.295818 \nz\n\" clip-path=\"url(#p99b0f21ffb)\" style=\"fill: #1f77b4; opacity: 0.5\"/>\n   </g>\n   <g id=\"patch_13\">\n    <path d=\"M 231.812409 244.2825 \nL 246.488224 244.2825 \nL 246.488224 243.741873 \nL 231.812409 243.741873 \nz\n\" clip-path=\"url(#p99b0f21ffb)\" style=\"fill: #1f77b4; opacity: 0.5\"/>\n   </g>\n   <g id=\"patch_14\">\n    <path d=\"M 246.488224 244.2825 \nL 261.164038 244.2825 \nL 261.164038 243.685164 \nL 246.488224 243.685164 \nz\n\" clip-path=\"url(#p99b0f21ffb)\" style=\"fill: #1f77b4; opacity: 0.5\"/>\n   </g>\n   <g id=\"patch_15\">\n    <path d=\"M 261.164038 244.2825 \nL 275.839853 244.2825 \nL 275.839853 244.116153 \nL 261.164038 244.116153 \nz\n\" clip-path=\"url(#p99b0f21ffb)\" style=\"fill: #1f77b4; opacity: 0.5\"/>\n   </g>\n   <g id=\"patch_16\">\n    <path d=\"M 275.839853 244.2825 \nL 290.515668 244.2825 \nL 290.515668 244.055663 \nL 275.839853 244.055663 \nz\n\" clip-path=\"url(#p99b0f21ffb)\" style=\"fill: #1f77b4; opacity: 0.5\"/>\n   </g>\n   <g id=\"patch_17\">\n    <path d=\"M 290.515668 244.2825 \nL 305.191483 244.2825 \nL 305.191483 244.22201 \nL 290.515668 244.22201 \nz\n\" clip-path=\"url(#p99b0f21ffb)\" style=\"fill: #1f77b4; opacity: 0.5\"/>\n   </g>\n   <g id=\"patch_18\">\n    <path d=\"M 305.191483 244.2825 \nL 319.867297 244.2825 \nL 319.867297 244.21823 \nL 305.191483 244.21823 \nz\n\" clip-path=\"url(#p99b0f21ffb)\" style=\"fill: #1f77b4; opacity: 0.5\"/>\n   </g>\n   <g id=\"patch_19\">\n    <path d=\"M 319.867297 244.2825 \nL 334.543112 244.2825 \nL 334.543112 244.237133 \nL 319.867297 244.237133 \nz\n\" clip-path=\"url(#p99b0f21ffb)\" style=\"fill: #1f77b4; opacity: 0.5\"/>\n   </g>\n   <g id=\"patch_20\">\n    <path d=\"M 334.543112 244.2825 \nL 349.218927 244.2825 \nL 349.218927 244.278719 \nL 334.543112 244.278719 \nz\n\" clip-path=\"url(#p99b0f21ffb)\" style=\"fill: #1f77b4; opacity: 0.5\"/>\n   </g>\n   <g id=\"patch_21\">\n    <path d=\"M 349.218927 244.2825 \nL 363.894742 244.2825 \nL 363.894742 244.271158 \nL 349.218927 244.271158 \nz\n\" clip-path=\"url(#p99b0f21ffb)\" style=\"fill: #1f77b4; opacity: 0.5\"/>\n   </g>\n   <g id=\"patch_22\">\n    <path d=\"M 363.894742 244.2825 \nL 378.570556 244.2825 \nL 378.570556 244.271158 \nL 363.894742 244.271158 \nz\n\" clip-path=\"url(#p99b0f21ffb)\" style=\"fill: #1f77b4; opacity: 0.5\"/>\n   </g>\n   <g id=\"patch_23\">\n    <path d=\"M 378.570556 244.2825 \nL 393.246371 244.2825 \nL 393.246371 244.274939 \nL 378.570556 244.274939 \nz\n\" clip-path=\"url(#p99b0f21ffb)\" style=\"fill: #1f77b4; opacity: 0.5\"/>\n   </g>\n   <g id=\"patch_24\">\n    <path d=\"M 393.246371 244.2825 \nL 407.922186 244.2825 \nL 407.922186 244.274939 \nL 393.246371 244.274939 \nz\n\" clip-path=\"url(#p99b0f21ffb)\" style=\"fill: #1f77b4; opacity: 0.5\"/>\n   </g>\n   <g id=\"patch_25\">\n    <path d=\"M 407.922186 244.2825 \nL 422.598001 244.2825 \nL 422.598001 244.278719 \nL 407.922186 244.278719 \nz\n\" clip-path=\"url(#p99b0f21ffb)\" style=\"fill: #1f77b4; opacity: 0.5\"/>\n   </g>\n   <g id=\"patch_26\">\n    <path d=\"M 422.598001 244.2825 \nL 437.273815 244.2825 \nL 437.273815 244.278719 \nL 422.598001 244.278719 \nz\n\" clip-path=\"url(#p99b0f21ffb)\" style=\"fill: #1f77b4; opacity: 0.5\"/>\n   </g>\n   <g id=\"patch_27\">\n    <path d=\"M 437.273815 244.2825 \nL 451.94963 244.2825 \nL 451.94963 244.2825 \nL 437.273815 244.2825 \nz\n\" clip-path=\"url(#p99b0f21ffb)\" style=\"fill: #1f77b4; opacity: 0.5\"/>\n   </g>\n   <g id=\"patch_28\">\n    <path d=\"M 451.94963 244.2825 \nL 466.625445 244.2825 \nL 466.625445 244.2825 \nL 451.94963 244.2825 \nz\n\" clip-path=\"url(#p99b0f21ffb)\" style=\"fill: #1f77b4; opacity: 0.5\"/>\n   </g>\n   <g id=\"patch_29\">\n    <path d=\"M 466.625445 244.2825 \nL 481.30126 244.2825 \nL 481.30126 244.2825 \nL 466.625445 244.2825 \nz\n\" clip-path=\"url(#p99b0f21ffb)\" style=\"fill: #1f77b4; opacity: 0.5\"/>\n   </g>\n   <g id=\"patch_30\">\n    <path d=\"M 481.30126 244.2825 \nL 495.977074 244.2825 \nL 495.977074 244.278719 \nL 481.30126 244.278719 \nz\n\" clip-path=\"url(#p99b0f21ffb)\" style=\"fill: #1f77b4; opacity: 0.5\"/>\n   </g>\n   <g id=\"patch_31\">\n    <path d=\"M 495.977074 244.2825 \nL 510.652889 244.2825 \nL 510.652889 244.278719 \nL 495.977074 244.278719 \nz\n\" clip-path=\"url(#p99b0f21ffb)\" style=\"fill: #1f77b4; opacity: 0.5\"/>\n   </g>\n   <g id=\"patch_32\">\n    <path d=\"M 510.652889 244.2825 \nL 525.328704 244.2825 \nL 525.328704 244.278719 \nL 510.652889 244.278719 \nz\n\" clip-path=\"url(#p99b0f21ffb)\" style=\"fill: #1f77b4; opacity: 0.5\"/>\n   </g>\n   <g id=\"patch_33\">\n    <path d=\"M 85.054261 244.2825 \nL 101.963352 244.2825 \nL 101.963352 234.570113 \nL 85.054261 234.570113 \nz\n\" clip-path=\"url(#p99b0f21ffb)\" style=\"fill: #ff7f0e; opacity: 0.5\"/>\n   </g>\n   <g id=\"patch_34\">\n    <path d=\"M 101.963352 244.2825 \nL 118.872443 244.2825 \nL 118.872443 122.622468 \nL 101.963352 122.622468 \nz\n\" clip-path=\"url(#p99b0f21ffb)\" style=\"fill: #ff7f0e; opacity: 0.5\"/>\n   </g>\n   <g id=\"patch_35\">\n    <path d=\"M 118.872443 244.2825 \nL 135.781534 244.2825 \nL 135.781534 33.0825 \nL 118.872443 33.0825 \nz\n\" clip-path=\"url(#p99b0f21ffb)\" style=\"fill: #ff7f0e; opacity: 0.5\"/>\n   </g>\n   <g id=\"patch_36\">\n    <path d=\"M 135.781534 244.2825 \nL 152.690625 244.2825 \nL 152.690625 87.999642 \nL 135.781534 87.999642 \nz\n\" clip-path=\"url(#p99b0f21ffb)\" style=\"fill: #ff7f0e; opacity: 0.5\"/>\n   </g>\n   <g id=\"patch_37\">\n    <path d=\"M 152.690625 244.2825 \nL 169.599716 244.2825 \nL 169.599716 197.849047 \nL 152.690625 197.849047 \nz\n\" clip-path=\"url(#p99b0f21ffb)\" style=\"fill: #ff7f0e; opacity: 0.5\"/>\n   </g>\n   <g id=\"patch_38\">\n    <path d=\"M 169.599716 244.2825 \nL 186.508807 244.2825 \nL 186.508807 193.225361 \nL 169.599716 193.225361 \nz\n\" clip-path=\"url(#p99b0f21ffb)\" style=\"fill: #ff7f0e; opacity: 0.5\"/>\n   </g>\n   <g id=\"patch_39\">\n    <path d=\"M 186.508807 244.2825 \nL 203.417898 244.2825 \nL 203.417898 223.681956 \nL 186.508807 223.681956 \nz\n\" clip-path=\"url(#p99b0f21ffb)\" style=\"fill: #ff7f0e; opacity: 0.5\"/>\n   </g>\n   <g id=\"patch_40\">\n    <path d=\"M 203.417898 244.2825 \nL 220.326989 244.2825 \nL 220.326989 235.488801 \nL 203.417898 235.488801 \nz\n\" clip-path=\"url(#p99b0f21ffb)\" style=\"fill: #ff7f0e; opacity: 0.5\"/>\n   </g>\n   <g id=\"patch_41\">\n    <path d=\"M 220.326989 244.2825 \nL 237.23608 244.2825 \nL 237.23608 242.146455 \nL 220.326989 242.146455 \nz\n\" clip-path=\"url(#p99b0f21ffb)\" style=\"fill: #ff7f0e; opacity: 0.5\"/>\n   </g>\n   <g id=\"patch_42\">\n    <path d=\"M 237.23608 244.2825 \nL 254.14517 244.2825 \nL 254.14517 242.199384 \nL 237.23608 242.199384 \nz\n\" clip-path=\"url(#p99b0f21ffb)\" style=\"fill: #ff7f0e; opacity: 0.5\"/>\n   </g>\n   <g id=\"patch_43\">\n    <path d=\"M 254.14517 244.2825 \nL 271.054261 244.2825 \nL 271.054261 243.257955 \nL 254.14517 243.257955 \nz\n\" clip-path=\"url(#p99b0f21ffb)\" style=\"fill: #ff7f0e; opacity: 0.5\"/>\n   </g>\n   <g id=\"patch_44\">\n    <path d=\"M 271.054261 244.2825 \nL 287.963352 244.2825 \nL 287.963352 243.912 \nL 271.054261 243.912 \nz\n\" clip-path=\"url(#p99b0f21ffb)\" style=\"fill: #ff7f0e; opacity: 0.5\"/>\n   </g>\n   <g id=\"patch_45\">\n    <path d=\"M 287.963352 244.2825 \nL 304.872443 244.2825 \nL 304.872443 244.146398 \nL 287.963352 244.146398 \nz\n\" clip-path=\"url(#p99b0f21ffb)\" style=\"fill: #ff7f0e; opacity: 0.5\"/>\n   </g>\n   <g id=\"patch_46\">\n    <path d=\"M 304.872443 244.2825 \nL 321.781534 244.2825 \nL 321.781534 244.150179 \nL 304.872443 244.150179 \nz\n\" clip-path=\"url(#p99b0f21ffb)\" style=\"fill: #ff7f0e; opacity: 0.5\"/>\n   </g>\n   <g id=\"patch_47\">\n    <path d=\"M 321.781534 244.2825 \nL 338.690625 244.2825 \nL 338.690625 244.191765 \nL 321.781534 244.191765 \nz\n\" clip-path=\"url(#p99b0f21ffb)\" style=\"fill: #ff7f0e; opacity: 0.5\"/>\n   </g>\n   <g id=\"patch_48\">\n    <path d=\"M 338.690625 244.2825 \nL 355.599716 244.2825 \nL 355.599716 244.210668 \nL 338.690625 244.210668 \nz\n\" clip-path=\"url(#p99b0f21ffb)\" style=\"fill: #ff7f0e; opacity: 0.5\"/>\n   </g>\n   <g id=\"patch_49\">\n    <path d=\"M 355.599716 244.2825 \nL 372.508807 244.2825 \nL 372.508807 244.263597 \nL 355.599716 244.263597 \nz\n\" clip-path=\"url(#p99b0f21ffb)\" style=\"fill: #ff7f0e; opacity: 0.5\"/>\n   </g>\n   <g id=\"patch_50\">\n    <path d=\"M 372.508807 244.2825 \nL 389.417898 244.2825 \nL 389.417898 244.274939 \nL 372.508807 244.274939 \nz\n\" clip-path=\"url(#p99b0f21ffb)\" style=\"fill: #ff7f0e; opacity: 0.5\"/>\n   </g>\n   <g id=\"patch_51\">\n    <path d=\"M 389.417898 244.2825 \nL 406.326989 244.2825 \nL 406.326989 244.271158 \nL 389.417898 244.271158 \nz\n\" clip-path=\"url(#p99b0f21ffb)\" style=\"fill: #ff7f0e; opacity: 0.5\"/>\n   </g>\n   <g id=\"patch_52\">\n    <path d=\"M 406.326989 244.2825 \nL 423.23608 244.2825 \nL 423.23608 244.278719 \nL 406.326989 244.278719 \nz\n\" clip-path=\"url(#p99b0f21ffb)\" style=\"fill: #ff7f0e; opacity: 0.5\"/>\n   </g>\n   <g id=\"patch_53\">\n    <path d=\"M 423.23608 244.2825 \nL 440.14517 244.2825 \nL 440.14517 244.278719 \nL 423.23608 244.278719 \nz\n\" clip-path=\"url(#p99b0f21ffb)\" style=\"fill: #ff7f0e; opacity: 0.5\"/>\n   </g>\n   <g id=\"patch_54\">\n    <path d=\"M 440.14517 244.2825 \nL 457.054261 244.2825 \nL 457.054261 244.2825 \nL 440.14517 244.2825 \nz\n\" clip-path=\"url(#p99b0f21ffb)\" style=\"fill: #ff7f0e; opacity: 0.5\"/>\n   </g>\n   <g id=\"patch_55\">\n    <path d=\"M 457.054261 244.2825 \nL 473.963352 244.2825 \nL 473.963352 244.278719 \nL 457.054261 244.278719 \nz\n\" clip-path=\"url(#p99b0f21ffb)\" style=\"fill: #ff7f0e; opacity: 0.5\"/>\n   </g>\n   <g id=\"patch_56\">\n    <path d=\"M 473.963352 244.2825 \nL 490.872443 244.2825 \nL 490.872443 244.2825 \nL 473.963352 244.2825 \nz\n\" clip-path=\"url(#p99b0f21ffb)\" style=\"fill: #ff7f0e; opacity: 0.5\"/>\n   </g>\n   <g id=\"patch_57\">\n    <path d=\"M 490.872443 244.2825 \nL 507.781534 244.2825 \nL 507.781534 244.2825 \nL 490.872443 244.2825 \nz\n\" clip-path=\"url(#p99b0f21ffb)\" style=\"fill: #ff7f0e; opacity: 0.5\"/>\n   </g>\n   <g id=\"patch_58\">\n    <path d=\"M 507.781534 244.2825 \nL 524.690625 244.2825 \nL 524.690625 244.2825 \nL 507.781534 244.2825 \nz\n\" clip-path=\"url(#p99b0f21ffb)\" style=\"fill: #ff7f0e; opacity: 0.5\"/>\n   </g>\n   <g id=\"patch_59\">\n    <path d=\"M 524.690625 244.2825 \nL 541.599716 244.2825 \nL 541.599716 244.274939 \nL 524.690625 244.274939 \nz\n\" clip-path=\"url(#p99b0f21ffb)\" style=\"fill: #ff7f0e; opacity: 0.5\"/>\n   </g>\n   <g id=\"patch_60\">\n    <path d=\"M 541.599716 244.2825 \nL 558.508807 244.2825 \nL 558.508807 244.278719 \nL 541.599716 244.278719 \nz\n\" clip-path=\"url(#p99b0f21ffb)\" style=\"fill: #ff7f0e; opacity: 0.5\"/>\n   </g>\n   <g id=\"patch_61\">\n    <path d=\"M 558.508807 244.2825 \nL 575.417898 244.2825 \nL 575.417898 244.278719 \nL 558.508807 244.278719 \nz\n\" clip-path=\"url(#p99b0f21ffb)\" style=\"fill: #ff7f0e; opacity: 0.5\"/>\n   </g>\n   <g id=\"patch_62\">\n    <path d=\"M 575.417898 244.2825 \nL 592.326989 244.2825 \nL 592.326989 244.278719 \nL 575.417898 244.278719 \nz\n\" clip-path=\"url(#p99b0f21ffb)\" style=\"fill: #ff7f0e; opacity: 0.5\"/>\n   </g>\n   <g id=\"matplotlib.axis_1\">\n    <g id=\"xtick_1\">\n     <g id=\"line2d_1\">\n      <defs>\n       <path id=\"md78b69e118\" d=\"M 0 0 \nL 0 3.5 \n\" style=\"stroke: #000000; stroke-width: 0.8\"/>\n      </defs>\n      <g>\n       <use xlink:href=\"#md78b69e118\" x=\"75.483078\" y=\"244.2825\" style=\"stroke: #000000; stroke-width: 0.8\"/>\n      </g>\n     </g>\n     <g id=\"text_1\">\n      <!-- 0 -->\n      <g transform=\"translate(72.301828 258.880938) scale(0.1 -0.1)\">\n       <defs>\n        <path id=\"DejaVuSans-30\" d=\"M 2034 4250 \nQ 1547 4250 1301 3770 \nQ 1056 3291 1056 2328 \nQ 1056 1369 1301 889 \nQ 1547 409 2034 409 \nQ 2525 409 2770 889 \nQ 3016 1369 3016 2328 \nQ 3016 3291 2770 3770 \nQ 2525 4250 2034 4250 \nz\nM 2034 4750 \nQ 2819 4750 3233 4129 \nQ 3647 3509 3647 2328 \nQ 3647 1150 3233 529 \nQ 2819 -91 2034 -91 \nQ 1250 -91 836 529 \nQ 422 1150 422 2328 \nQ 422 3509 836 4129 \nQ 1250 4750 2034 4750 \nz\n\" transform=\"scale(0.015625)\"/>\n       </defs>\n       <use xlink:href=\"#DejaVuSans-30\"/>\n      </g>\n     </g>\n    </g>\n    <g id=\"xtick_2\">\n     <g id=\"line2d_2\">\n      <g>\n       <use xlink:href=\"#md78b69e118\" x=\"171.194913\" y=\"244.2825\" style=\"stroke: #000000; stroke-width: 0.8\"/>\n      </g>\n     </g>\n     <g id=\"text_2\">\n      <!-- 10 -->\n      <g transform=\"translate(164.832413 258.880938) scale(0.1 -0.1)\">\n       <defs>\n        <path id=\"DejaVuSans-31\" d=\"M 794 531 \nL 1825 531 \nL 1825 4091 \nL 703 3866 \nL 703 4441 \nL 1819 4666 \nL 2450 4666 \nL 2450 531 \nL 3481 531 \nL 3481 0 \nL 794 0 \nL 794 531 \nz\n\" transform=\"scale(0.015625)\"/>\n       </defs>\n       <use xlink:href=\"#DejaVuSans-31\"/>\n       <use xlink:href=\"#DejaVuSans-30\" transform=\"translate(63.623047 0)\"/>\n      </g>\n     </g>\n    </g>\n    <g id=\"xtick_3\">\n     <g id=\"line2d_3\">\n      <g>\n       <use xlink:href=\"#md78b69e118\" x=\"266.906748\" y=\"244.2825\" style=\"stroke: #000000; stroke-width: 0.8\"/>\n      </g>\n     </g>\n     <g id=\"text_3\">\n      <!-- 20 -->\n      <g transform=\"translate(260.544248 258.880938) scale(0.1 -0.1)\">\n       <defs>\n        <path id=\"DejaVuSans-32\" d=\"M 1228 531 \nL 3431 531 \nL 3431 0 \nL 469 0 \nL 469 531 \nQ 828 903 1448 1529 \nQ 2069 2156 2228 2338 \nQ 2531 2678 2651 2914 \nQ 2772 3150 2772 3378 \nQ 2772 3750 2511 3984 \nQ 2250 4219 1831 4219 \nQ 1534 4219 1204 4116 \nQ 875 4013 500 3803 \nL 500 4441 \nQ 881 4594 1212 4672 \nQ 1544 4750 1819 4750 \nQ 2544 4750 2975 4387 \nQ 3406 4025 3406 3419 \nQ 3406 3131 3298 2873 \nQ 3191 2616 2906 2266 \nQ 2828 2175 2409 1742 \nQ 1991 1309 1228 531 \nz\n\" transform=\"scale(0.015625)\"/>\n       </defs>\n       <use xlink:href=\"#DejaVuSans-32\"/>\n       <use xlink:href=\"#DejaVuSans-30\" transform=\"translate(63.623047 0)\"/>\n      </g>\n     </g>\n    </g>\n    <g id=\"xtick_4\">\n     <g id=\"line2d_4\">\n      <g>\n       <use xlink:href=\"#md78b69e118\" x=\"362.618584\" y=\"244.2825\" style=\"stroke: #000000; stroke-width: 0.8\"/>\n      </g>\n     </g>\n     <g id=\"text_4\">\n      <!-- 30 -->\n      <g transform=\"translate(356.256084 258.880938) scale(0.1 -0.1)\">\n       <defs>\n        <path id=\"DejaVuSans-33\" d=\"M 2597 2516 \nQ 3050 2419 3304 2112 \nQ 3559 1806 3559 1356 \nQ 3559 666 3084 287 \nQ 2609 -91 1734 -91 \nQ 1441 -91 1130 -33 \nQ 819 25 488 141 \nL 488 750 \nQ 750 597 1062 519 \nQ 1375 441 1716 441 \nQ 2309 441 2620 675 \nQ 2931 909 2931 1356 \nQ 2931 1769 2642 2001 \nQ 2353 2234 1838 2234 \nL 1294 2234 \nL 1294 2753 \nL 1863 2753 \nQ 2328 2753 2575 2939 \nQ 2822 3125 2822 3475 \nQ 2822 3834 2567 4026 \nQ 2313 4219 1838 4219 \nQ 1578 4219 1281 4162 \nQ 984 4106 628 3988 \nL 628 4550 \nQ 988 4650 1302 4700 \nQ 1616 4750 1894 4750 \nQ 2613 4750 3031 4423 \nQ 3450 4097 3450 3541 \nQ 3450 3153 3228 2886 \nQ 3006 2619 2597 2516 \nz\n\" transform=\"scale(0.015625)\"/>\n       </defs>\n       <use xlink:href=\"#DejaVuSans-33\"/>\n       <use xlink:href=\"#DejaVuSans-30\" transform=\"translate(63.623047 0)\"/>\n      </g>\n     </g>\n    </g>\n    <g id=\"xtick_5\">\n     <g id=\"line2d_5\">\n      <g>\n       <use xlink:href=\"#md78b69e118\" x=\"458.330419\" y=\"244.2825\" style=\"stroke: #000000; stroke-width: 0.8\"/>\n      </g>\n     </g>\n     <g id=\"text_5\">\n      <!-- 40 -->\n      <g transform=\"translate(451.967919 258.880938) scale(0.1 -0.1)\">\n       <defs>\n        <path id=\"DejaVuSans-34\" d=\"M 2419 4116 \nL 825 1625 \nL 2419 1625 \nL 2419 4116 \nz\nM 2253 4666 \nL 3047 4666 \nL 3047 1625 \nL 3713 1625 \nL 3713 1100 \nL 3047 1100 \nL 3047 0 \nL 2419 0 \nL 2419 1100 \nL 313 1100 \nL 313 1709 \nL 2253 4666 \nz\n\" transform=\"scale(0.015625)\"/>\n       </defs>\n       <use xlink:href=\"#DejaVuSans-34\"/>\n       <use xlink:href=\"#DejaVuSans-30\" transform=\"translate(63.623047 0)\"/>\n      </g>\n     </g>\n    </g>\n    <g id=\"xtick_6\">\n     <g id=\"line2d_6\">\n      <g>\n       <use xlink:href=\"#md78b69e118\" x=\"554.042255\" y=\"244.2825\" style=\"stroke: #000000; stroke-width: 0.8\"/>\n      </g>\n     </g>\n     <g id=\"text_6\">\n      <!-- 50 -->\n      <g transform=\"translate(547.679755 258.880938) scale(0.1 -0.1)\">\n       <defs>\n        <path id=\"DejaVuSans-35\" d=\"M 691 4666 \nL 3169 4666 \nL 3169 4134 \nL 1269 4134 \nL 1269 2991 \nQ 1406 3038 1543 3061 \nQ 1681 3084 1819 3084 \nQ 2600 3084 3056 2656 \nQ 3513 2228 3513 1497 \nQ 3513 744 3044 326 \nQ 2575 -91 1722 -91 \nQ 1428 -91 1123 -41 \nQ 819 9 494 109 \nL 494 744 \nQ 775 591 1075 516 \nQ 1375 441 1709 441 \nQ 2250 441 2565 725 \nQ 2881 1009 2881 1497 \nQ 2881 1984 2565 2268 \nQ 2250 2553 1709 2553 \nQ 1456 2553 1204 2497 \nQ 953 2441 691 2322 \nL 691 4666 \nz\n\" transform=\"scale(0.015625)\"/>\n       </defs>\n       <use xlink:href=\"#DejaVuSans-35\"/>\n       <use xlink:href=\"#DejaVuSans-30\" transform=\"translate(63.623047 0)\"/>\n      </g>\n     </g>\n    </g>\n    <g id=\"text_7\">\n     <!-- Comprimento (tokens) -->\n     <g transform=\"translate(282.441406 272.559062) scale(0.1 -0.1)\">\n      <defs>\n       <path id=\"DejaVuSans-43\" d=\"M 4122 4306 \nL 4122 3641 \nQ 3803 3938 3442 4084 \nQ 3081 4231 2675 4231 \nQ 1875 4231 1450 3742 \nQ 1025 3253 1025 2328 \nQ 1025 1406 1450 917 \nQ 1875 428 2675 428 \nQ 3081 428 3442 575 \nQ 3803 722 4122 1019 \nL 4122 359 \nQ 3791 134 3420 21 \nQ 3050 -91 2638 -91 \nQ 1578 -91 968 557 \nQ 359 1206 359 2328 \nQ 359 3453 968 4101 \nQ 1578 4750 2638 4750 \nQ 3056 4750 3426 4639 \nQ 3797 4528 4122 4306 \nz\n\" transform=\"scale(0.015625)\"/>\n       <path id=\"DejaVuSans-6f\" d=\"M 1959 3097 \nQ 1497 3097 1228 2736 \nQ 959 2375 959 1747 \nQ 959 1119 1226 758 \nQ 1494 397 1959 397 \nQ 2419 397 2687 759 \nQ 2956 1122 2956 1747 \nQ 2956 2369 2687 2733 \nQ 2419 3097 1959 3097 \nz\nM 1959 3584 \nQ 2709 3584 3137 3096 \nQ 3566 2609 3566 1747 \nQ 3566 888 3137 398 \nQ 2709 -91 1959 -91 \nQ 1206 -91 779 398 \nQ 353 888 353 1747 \nQ 353 2609 779 3096 \nQ 1206 3584 1959 3584 \nz\n\" transform=\"scale(0.015625)\"/>\n       <path id=\"DejaVuSans-6d\" d=\"M 3328 2828 \nQ 3544 3216 3844 3400 \nQ 4144 3584 4550 3584 \nQ 5097 3584 5394 3201 \nQ 5691 2819 5691 2113 \nL 5691 0 \nL 5113 0 \nL 5113 2094 \nQ 5113 2597 4934 2840 \nQ 4756 3084 4391 3084 \nQ 3944 3084 3684 2787 \nQ 3425 2491 3425 1978 \nL 3425 0 \nL 2847 0 \nL 2847 2094 \nQ 2847 2600 2669 2842 \nQ 2491 3084 2119 3084 \nQ 1678 3084 1418 2786 \nQ 1159 2488 1159 1978 \nL 1159 0 \nL 581 0 \nL 581 3500 \nL 1159 3500 \nL 1159 2956 \nQ 1356 3278 1631 3431 \nQ 1906 3584 2284 3584 \nQ 2666 3584 2933 3390 \nQ 3200 3197 3328 2828 \nz\n\" transform=\"scale(0.015625)\"/>\n       <path id=\"DejaVuSans-70\" d=\"M 1159 525 \nL 1159 -1331 \nL 581 -1331 \nL 581 3500 \nL 1159 3500 \nL 1159 2969 \nQ 1341 3281 1617 3432 \nQ 1894 3584 2278 3584 \nQ 2916 3584 3314 3078 \nQ 3713 2572 3713 1747 \nQ 3713 922 3314 415 \nQ 2916 -91 2278 -91 \nQ 1894 -91 1617 61 \nQ 1341 213 1159 525 \nz\nM 3116 1747 \nQ 3116 2381 2855 2742 \nQ 2594 3103 2138 3103 \nQ 1681 3103 1420 2742 \nQ 1159 2381 1159 1747 \nQ 1159 1113 1420 752 \nQ 1681 391 2138 391 \nQ 2594 391 2855 752 \nQ 3116 1113 3116 1747 \nz\n\" transform=\"scale(0.015625)\"/>\n       <path id=\"DejaVuSans-72\" d=\"M 2631 2963 \nQ 2534 3019 2420 3045 \nQ 2306 3072 2169 3072 \nQ 1681 3072 1420 2755 \nQ 1159 2438 1159 1844 \nL 1159 0 \nL 581 0 \nL 581 3500 \nL 1159 3500 \nL 1159 2956 \nQ 1341 3275 1631 3429 \nQ 1922 3584 2338 3584 \nQ 2397 3584 2469 3576 \nQ 2541 3569 2628 3553 \nL 2631 2963 \nz\n\" transform=\"scale(0.015625)\"/>\n       <path id=\"DejaVuSans-69\" d=\"M 603 3500 \nL 1178 3500 \nL 1178 0 \nL 603 0 \nL 603 3500 \nz\nM 603 4863 \nL 1178 4863 \nL 1178 4134 \nL 603 4134 \nL 603 4863 \nz\n\" transform=\"scale(0.015625)\"/>\n       <path id=\"DejaVuSans-65\" d=\"M 3597 1894 \nL 3597 1613 \nL 953 1613 \nQ 991 1019 1311 708 \nQ 1631 397 2203 397 \nQ 2534 397 2845 478 \nQ 3156 559 3463 722 \nL 3463 178 \nQ 3153 47 2828 -22 \nQ 2503 -91 2169 -91 \nQ 1331 -91 842 396 \nQ 353 884 353 1716 \nQ 353 2575 817 3079 \nQ 1281 3584 2069 3584 \nQ 2775 3584 3186 3129 \nQ 3597 2675 3597 1894 \nz\nM 3022 2063 \nQ 3016 2534 2758 2815 \nQ 2500 3097 2075 3097 \nQ 1594 3097 1305 2825 \nQ 1016 2553 972 2059 \nL 3022 2063 \nz\n\" transform=\"scale(0.015625)\"/>\n       <path id=\"DejaVuSans-6e\" d=\"M 3513 2113 \nL 3513 0 \nL 2938 0 \nL 2938 2094 \nQ 2938 2591 2744 2837 \nQ 2550 3084 2163 3084 \nQ 1697 3084 1428 2787 \nQ 1159 2491 1159 1978 \nL 1159 0 \nL 581 0 \nL 581 3500 \nL 1159 3500 \nL 1159 2956 \nQ 1366 3272 1645 3428 \nQ 1925 3584 2291 3584 \nQ 2894 3584 3203 3211 \nQ 3513 2838 3513 2113 \nz\n\" transform=\"scale(0.015625)\"/>\n       <path id=\"DejaVuSans-74\" d=\"M 1172 4494 \nL 1172 3500 \nL 2356 3500 \nL 2356 3053 \nL 1172 3053 \nL 1172 1153 \nQ 1172 725 1289 603 \nQ 1406 481 1766 481 \nL 2356 481 \nL 2356 0 \nL 1766 0 \nQ 1100 0 847 248 \nQ 594 497 594 1153 \nL 594 3053 \nL 172 3053 \nL 172 3500 \nL 594 3500 \nL 594 4494 \nL 1172 4494 \nz\n\" transform=\"scale(0.015625)\"/>\n       <path id=\"DejaVuSans-20\" transform=\"scale(0.015625)\"/>\n       <path id=\"DejaVuSans-28\" d=\"M 1984 4856 \nQ 1566 4138 1362 3434 \nQ 1159 2731 1159 2009 \nQ 1159 1288 1364 580 \nQ 1569 -128 1984 -844 \nL 1484 -844 \nQ 1016 -109 783 600 \nQ 550 1309 550 2009 \nQ 550 2706 781 3412 \nQ 1013 4119 1484 4856 \nL 1984 4856 \nz\n\" transform=\"scale(0.015625)\"/>\n       <path id=\"DejaVuSans-6b\" d=\"M 581 4863 \nL 1159 4863 \nL 1159 1991 \nL 2875 3500 \nL 3609 3500 \nL 1753 1863 \nL 3688 0 \nL 2938 0 \nL 1159 1709 \nL 1159 0 \nL 581 0 \nL 581 4863 \nz\n\" transform=\"scale(0.015625)\"/>\n       <path id=\"DejaVuSans-73\" d=\"M 2834 3397 \nL 2834 2853 \nQ 2591 2978 2328 3040 \nQ 2066 3103 1784 3103 \nQ 1356 3103 1142 2972 \nQ 928 2841 928 2578 \nQ 928 2378 1081 2264 \nQ 1234 2150 1697 2047 \nL 1894 2003 \nQ 2506 1872 2764 1633 \nQ 3022 1394 3022 966 \nQ 3022 478 2636 193 \nQ 2250 -91 1575 -91 \nQ 1294 -91 989 -36 \nQ 684 19 347 128 \nL 347 722 \nQ 666 556 975 473 \nQ 1284 391 1588 391 \nQ 1994 391 2212 530 \nQ 2431 669 2431 922 \nQ 2431 1156 2273 1281 \nQ 2116 1406 1581 1522 \nL 1381 1569 \nQ 847 1681 609 1914 \nQ 372 2147 372 2553 \nQ 372 3047 722 3315 \nQ 1072 3584 1716 3584 \nQ 2034 3584 2315 3537 \nQ 2597 3491 2834 3397 \nz\n\" transform=\"scale(0.015625)\"/>\n       <path id=\"DejaVuSans-29\" d=\"M 513 4856 \nL 1013 4856 \nQ 1481 4119 1714 3412 \nQ 1947 2706 1947 2009 \nQ 1947 1309 1714 600 \nQ 1481 -109 1013 -844 \nL 513 -844 \nQ 928 -128 1133 580 \nQ 1338 1288 1338 2009 \nQ 1338 2731 1133 3434 \nQ 928 4138 513 4856 \nz\n\" transform=\"scale(0.015625)\"/>\n      </defs>\n      <use xlink:href=\"#DejaVuSans-43\"/>\n      <use xlink:href=\"#DejaVuSans-6f\" transform=\"translate(69.824219 0)\"/>\n      <use xlink:href=\"#DejaVuSans-6d\" transform=\"translate(131.005859 0)\"/>\n      <use xlink:href=\"#DejaVuSans-70\" transform=\"translate(228.417969 0)\"/>\n      <use xlink:href=\"#DejaVuSans-72\" transform=\"translate(291.894531 0)\"/>\n      <use xlink:href=\"#DejaVuSans-69\" transform=\"translate(333.007812 0)\"/>\n      <use xlink:href=\"#DejaVuSans-6d\" transform=\"translate(360.791016 0)\"/>\n      <use xlink:href=\"#DejaVuSans-65\" transform=\"translate(458.203125 0)\"/>\n      <use xlink:href=\"#DejaVuSans-6e\" transform=\"translate(519.726562 0)\"/>\n      <use xlink:href=\"#DejaVuSans-74\" transform=\"translate(583.105469 0)\"/>\n      <use xlink:href=\"#DejaVuSans-6f\" transform=\"translate(622.314453 0)\"/>\n      <use xlink:href=\"#DejaVuSans-20\" transform=\"translate(683.496094 0)\"/>\n      <use xlink:href=\"#DejaVuSans-28\" transform=\"translate(715.283203 0)\"/>\n      <use xlink:href=\"#DejaVuSans-74\" transform=\"translate(754.296875 0)\"/>\n      <use xlink:href=\"#DejaVuSans-6f\" transform=\"translate(793.505859 0)\"/>\n      <use xlink:href=\"#DejaVuSans-6b\" transform=\"translate(854.6875 0)\"/>\n      <use xlink:href=\"#DejaVuSans-65\" transform=\"translate(908.972656 0)\"/>\n      <use xlink:href=\"#DejaVuSans-6e\" transform=\"translate(970.496094 0)\"/>\n      <use xlink:href=\"#DejaVuSans-73\" transform=\"translate(1033.875 0)\"/>\n      <use xlink:href=\"#DejaVuSans-29\" transform=\"translate(1085.974609 0)\"/>\n     </g>\n    </g>\n   </g>\n   <g id=\"matplotlib.axis_2\">\n    <g id=\"ytick_1\">\n     <g id=\"line2d_7\">\n      <defs>\n       <path id=\"m964da5a06b\" d=\"M 0 0 \nL -3.5 0 \n\" style=\"stroke: #000000; stroke-width: 0.8\"/>\n      </defs>\n      <g>\n       <use xlink:href=\"#m964da5a06b\" x=\"59.690625\" y=\"244.2825\" style=\"stroke: #000000; stroke-width: 0.8\"/>\n      </g>\n     </g>\n     <g id=\"text_8\">\n      <!-- 0 -->\n      <g transform=\"translate(46.328125 248.081719) scale(0.1 -0.1)\">\n       <use xlink:href=\"#DejaVuSans-30\"/>\n      </g>\n     </g>\n    </g>\n    <g id=\"ytick_2\">\n     <g id=\"line2d_8\">\n      <g>\n       <use xlink:href=\"#m964da5a06b\" x=\"59.690625\" y=\"206.476399\" style=\"stroke: #000000; stroke-width: 0.8\"/>\n      </g>\n     </g>\n     <g id=\"text_9\">\n      <!-- 10000 -->\n      <g transform=\"translate(20.878125 210.275618) scale(0.1 -0.1)\">\n       <use xlink:href=\"#DejaVuSans-31\"/>\n       <use xlink:href=\"#DejaVuSans-30\" transform=\"translate(63.623047 0)\"/>\n       <use xlink:href=\"#DejaVuSans-30\" transform=\"translate(127.246094 0)\"/>\n       <use xlink:href=\"#DejaVuSans-30\" transform=\"translate(190.869141 0)\"/>\n       <use xlink:href=\"#DejaVuSans-30\" transform=\"translate(254.492188 0)\"/>\n      </g>\n     </g>\n    </g>\n    <g id=\"ytick_3\">\n     <g id=\"line2d_9\">\n      <g>\n       <use xlink:href=\"#m964da5a06b\" x=\"59.690625\" y=\"168.670299\" style=\"stroke: #000000; stroke-width: 0.8\"/>\n      </g>\n     </g>\n     <g id=\"text_10\">\n      <!-- 20000 -->\n      <g transform=\"translate(20.878125 172.469518) scale(0.1 -0.1)\">\n       <use xlink:href=\"#DejaVuSans-32\"/>\n       <use xlink:href=\"#DejaVuSans-30\" transform=\"translate(63.623047 0)\"/>\n       <use xlink:href=\"#DejaVuSans-30\" transform=\"translate(127.246094 0)\"/>\n       <use xlink:href=\"#DejaVuSans-30\" transform=\"translate(190.869141 0)\"/>\n       <use xlink:href=\"#DejaVuSans-30\" transform=\"translate(254.492188 0)\"/>\n      </g>\n     </g>\n    </g>\n    <g id=\"ytick_4\">\n     <g id=\"line2d_10\">\n      <g>\n       <use xlink:href=\"#m964da5a06b\" x=\"59.690625\" y=\"130.864198\" style=\"stroke: #000000; stroke-width: 0.8\"/>\n      </g>\n     </g>\n     <g id=\"text_11\">\n      <!-- 30000 -->\n      <g transform=\"translate(20.878125 134.663417) scale(0.1 -0.1)\">\n       <use xlink:href=\"#DejaVuSans-33\"/>\n       <use xlink:href=\"#DejaVuSans-30\" transform=\"translate(63.623047 0)\"/>\n       <use xlink:href=\"#DejaVuSans-30\" transform=\"translate(127.246094 0)\"/>\n       <use xlink:href=\"#DejaVuSans-30\" transform=\"translate(190.869141 0)\"/>\n       <use xlink:href=\"#DejaVuSans-30\" transform=\"translate(254.492188 0)\"/>\n      </g>\n     </g>\n    </g>\n    <g id=\"ytick_5\">\n     <g id=\"line2d_11\">\n      <g>\n       <use xlink:href=\"#m964da5a06b\" x=\"59.690625\" y=\"93.058098\" style=\"stroke: #000000; stroke-width: 0.8\"/>\n      </g>\n     </g>\n     <g id=\"text_12\">\n      <!-- 40000 -->\n      <g transform=\"translate(20.878125 96.857317) scale(0.1 -0.1)\">\n       <use xlink:href=\"#DejaVuSans-34\"/>\n       <use xlink:href=\"#DejaVuSans-30\" transform=\"translate(63.623047 0)\"/>\n       <use xlink:href=\"#DejaVuSans-30\" transform=\"translate(127.246094 0)\"/>\n       <use xlink:href=\"#DejaVuSans-30\" transform=\"translate(190.869141 0)\"/>\n       <use xlink:href=\"#DejaVuSans-30\" transform=\"translate(254.492188 0)\"/>\n      </g>\n     </g>\n    </g>\n    <g id=\"ytick_6\">\n     <g id=\"line2d_12\">\n      <g>\n       <use xlink:href=\"#m964da5a06b\" x=\"59.690625\" y=\"55.251997\" style=\"stroke: #000000; stroke-width: 0.8\"/>\n      </g>\n     </g>\n     <g id=\"text_13\">\n      <!-- 50000 -->\n      <g transform=\"translate(20.878125 59.051216) scale(0.1 -0.1)\">\n       <use xlink:href=\"#DejaVuSans-35\"/>\n       <use xlink:href=\"#DejaVuSans-30\" transform=\"translate(63.623047 0)\"/>\n       <use xlink:href=\"#DejaVuSans-30\" transform=\"translate(127.246094 0)\"/>\n       <use xlink:href=\"#DejaVuSans-30\" transform=\"translate(190.869141 0)\"/>\n       <use xlink:href=\"#DejaVuSans-30\" transform=\"translate(254.492188 0)\"/>\n      </g>\n     </g>\n    </g>\n    <g id=\"text_14\">\n     <!-- Número de frases -->\n     <g transform=\"translate(14.798438 177.855625) rotate(-90) scale(0.1 -0.1)\">\n      <defs>\n       <path id=\"DejaVuSans-4e\" d=\"M 628 4666 \nL 1478 4666 \nL 3547 763 \nL 3547 4666 \nL 4159 4666 \nL 4159 0 \nL 3309 0 \nL 1241 3903 \nL 1241 0 \nL 628 0 \nL 628 4666 \nz\n\" transform=\"scale(0.015625)\"/>\n       <path id=\"DejaVuSans-fa\" d=\"M 544 1381 \nL 544 3500 \nL 1119 3500 \nL 1119 1403 \nQ 1119 906 1312 657 \nQ 1506 409 1894 409 \nQ 2359 409 2629 706 \nQ 2900 1003 2900 1516 \nL 2900 3500 \nL 3475 3500 \nL 3475 0 \nL 2900 0 \nL 2900 538 \nQ 2691 219 2414 64 \nQ 2138 -91 1772 -91 \nQ 1169 -91 856 284 \nQ 544 659 544 1381 \nz\nM 1991 3584 \nL 1991 3584 \nz\nM 2418 5119 \nL 3040 5119 \nL 2022 3944 \nL 1543 3944 \nL 2418 5119 \nz\n\" transform=\"scale(0.015625)\"/>\n       <path id=\"DejaVuSans-64\" d=\"M 2906 2969 \nL 2906 4863 \nL 3481 4863 \nL 3481 0 \nL 2906 0 \nL 2906 525 \nQ 2725 213 2448 61 \nQ 2172 -91 1784 -91 \nQ 1150 -91 751 415 \nQ 353 922 353 1747 \nQ 353 2572 751 3078 \nQ 1150 3584 1784 3584 \nQ 2172 3584 2448 3432 \nQ 2725 3281 2906 2969 \nz\nM 947 1747 \nQ 947 1113 1208 752 \nQ 1469 391 1925 391 \nQ 2381 391 2643 752 \nQ 2906 1113 2906 1747 \nQ 2906 2381 2643 2742 \nQ 2381 3103 1925 3103 \nQ 1469 3103 1208 2742 \nQ 947 2381 947 1747 \nz\n\" transform=\"scale(0.015625)\"/>\n       <path id=\"DejaVuSans-66\" d=\"M 2375 4863 \nL 2375 4384 \nL 1825 4384 \nQ 1516 4384 1395 4259 \nQ 1275 4134 1275 3809 \nL 1275 3500 \nL 2222 3500 \nL 2222 3053 \nL 1275 3053 \nL 1275 0 \nL 697 0 \nL 697 3053 \nL 147 3053 \nL 147 3500 \nL 697 3500 \nL 697 3744 \nQ 697 4328 969 4595 \nQ 1241 4863 1831 4863 \nL 2375 4863 \nz\n\" transform=\"scale(0.015625)\"/>\n       <path id=\"DejaVuSans-61\" d=\"M 2194 1759 \nQ 1497 1759 1228 1600 \nQ 959 1441 959 1056 \nQ 959 750 1161 570 \nQ 1363 391 1709 391 \nQ 2188 391 2477 730 \nQ 2766 1069 2766 1631 \nL 2766 1759 \nL 2194 1759 \nz\nM 3341 1997 \nL 3341 0 \nL 2766 0 \nL 2766 531 \nQ 2569 213 2275 61 \nQ 1981 -91 1556 -91 \nQ 1019 -91 701 211 \nQ 384 513 384 1019 \nQ 384 1609 779 1909 \nQ 1175 2209 1959 2209 \nL 2766 2209 \nL 2766 2266 \nQ 2766 2663 2505 2880 \nQ 2244 3097 1772 3097 \nQ 1472 3097 1187 3025 \nQ 903 2953 641 2809 \nL 641 3341 \nQ 956 3463 1253 3523 \nQ 1550 3584 1831 3584 \nQ 2591 3584 2966 3190 \nQ 3341 2797 3341 1997 \nz\n\" transform=\"scale(0.015625)\"/>\n      </defs>\n      <use xlink:href=\"#DejaVuSans-4e\"/>\n      <use xlink:href=\"#DejaVuSans-fa\" transform=\"translate(74.804688 0)\"/>\n      <use xlink:href=\"#DejaVuSans-6d\" transform=\"translate(138.183594 0)\"/>\n      <use xlink:href=\"#DejaVuSans-65\" transform=\"translate(235.595703 0)\"/>\n      <use xlink:href=\"#DejaVuSans-72\" transform=\"translate(297.119141 0)\"/>\n      <use xlink:href=\"#DejaVuSans-6f\" transform=\"translate(335.982422 0)\"/>\n      <use xlink:href=\"#DejaVuSans-20\" transform=\"translate(397.164062 0)\"/>\n      <use xlink:href=\"#DejaVuSans-64\" transform=\"translate(428.951172 0)\"/>\n      <use xlink:href=\"#DejaVuSans-65\" transform=\"translate(492.427734 0)\"/>\n      <use xlink:href=\"#DejaVuSans-20\" transform=\"translate(553.951172 0)\"/>\n      <use xlink:href=\"#DejaVuSans-66\" transform=\"translate(585.738281 0)\"/>\n      <use xlink:href=\"#DejaVuSans-72\" transform=\"translate(620.943359 0)\"/>\n      <use xlink:href=\"#DejaVuSans-61\" transform=\"translate(662.056641 0)\"/>\n      <use xlink:href=\"#DejaVuSans-73\" transform=\"translate(723.335938 0)\"/>\n      <use xlink:href=\"#DejaVuSans-65\" transform=\"translate(775.435547 0)\"/>\n      <use xlink:href=\"#DejaVuSans-73\" transform=\"translate(836.958984 0)\"/>\n     </g>\n    </g>\n   </g>\n   <g id=\"patch_63\">\n    <path d=\"M 59.690625 244.2825 \nL 59.690625 22.5225 \n\" style=\"fill: none; stroke: #000000; stroke-width: 0.8; stroke-linejoin: miter; stroke-linecap: square\"/>\n   </g>\n   <g id=\"patch_64\">\n    <path d=\"M 617.690625 244.2825 \nL 617.690625 22.5225 \n\" style=\"fill: none; stroke: #000000; stroke-width: 0.8; stroke-linejoin: miter; stroke-linecap: square\"/>\n   </g>\n   <g id=\"patch_65\">\n    <path d=\"M 59.690625 244.2825 \nL 617.690625 244.2825 \n\" style=\"fill: none; stroke: #000000; stroke-width: 0.8; stroke-linejoin: miter; stroke-linecap: square\"/>\n   </g>\n   <g id=\"patch_66\">\n    <path d=\"M 59.690625 22.5225 \nL 617.690625 22.5225 \n\" style=\"fill: none; stroke: #000000; stroke-width: 0.8; stroke-linejoin: miter; stroke-linecap: square\"/>\n   </g>\n   <g id=\"text_15\">\n    <!-- Distribuição do comprimento das frases -->\n    <g transform=\"translate(218.829375 16.5225) scale(0.12 -0.12)\">\n     <defs>\n      <path id=\"DejaVuSans-44\" d=\"M 1259 4147 \nL 1259 519 \nL 2022 519 \nQ 2988 519 3436 956 \nQ 3884 1394 3884 2338 \nQ 3884 3275 3436 3711 \nQ 2988 4147 2022 4147 \nL 1259 4147 \nz\nM 628 4666 \nL 1925 4666 \nQ 3281 4666 3915 4102 \nQ 4550 3538 4550 2338 \nQ 4550 1131 3912 565 \nQ 3275 0 1925 0 \nL 628 0 \nL 628 4666 \nz\n\" transform=\"scale(0.015625)\"/>\n      <path id=\"DejaVuSans-62\" d=\"M 3116 1747 \nQ 3116 2381 2855 2742 \nQ 2594 3103 2138 3103 \nQ 1681 3103 1420 2742 \nQ 1159 2381 1159 1747 \nQ 1159 1113 1420 752 \nQ 1681 391 2138 391 \nQ 2594 391 2855 752 \nQ 3116 1113 3116 1747 \nz\nM 1159 2969 \nQ 1341 3281 1617 3432 \nQ 1894 3584 2278 3584 \nQ 2916 3584 3314 3078 \nQ 3713 2572 3713 1747 \nQ 3713 922 3314 415 \nQ 2916 -91 2278 -91 \nQ 1894 -91 1617 61 \nQ 1341 213 1159 525 \nL 1159 0 \nL 581 0 \nL 581 4863 \nL 1159 4863 \nL 1159 2969 \nz\n\" transform=\"scale(0.015625)\"/>\n      <path id=\"DejaVuSans-75\" d=\"M 544 1381 \nL 544 3500 \nL 1119 3500 \nL 1119 1403 \nQ 1119 906 1312 657 \nQ 1506 409 1894 409 \nQ 2359 409 2629 706 \nQ 2900 1003 2900 1516 \nL 2900 3500 \nL 3475 3500 \nL 3475 0 \nL 2900 0 \nL 2900 538 \nQ 2691 219 2414 64 \nQ 2138 -91 1772 -91 \nQ 1169 -91 856 284 \nQ 544 659 544 1381 \nz\nM 1991 3584 \nL 1991 3584 \nz\n\" transform=\"scale(0.015625)\"/>\n      <path id=\"DejaVuSans-e7\" d=\"M 3122 3366 \nL 3122 2828 \nQ 2878 2963 2633 3030 \nQ 2388 3097 2138 3097 \nQ 1578 3097 1268 2742 \nQ 959 2388 959 1747 \nQ 959 1106 1268 751 \nQ 1578 397 2138 397 \nQ 2388 397 2633 464 \nQ 2878 531 3122 666 \nL 3122 134 \nQ 2881 22 2623 -34 \nQ 2366 -91 2075 -91 \nQ 1284 -91 818 406 \nQ 353 903 353 1747 \nQ 353 2603 823 3093 \nQ 1294 3584 2113 3584 \nQ 2378 3584 2631 3529 \nQ 2884 3475 3122 3366 \nz\nM 2311 0 \nQ 2482 -194 2566 -358 \nQ 2651 -522 2651 -672 \nQ 2651 -950 2463 -1092 \nQ 2276 -1234 1907 -1234 \nQ 1764 -1234 1628 -1215 \nQ 1492 -1197 1357 -1159 \nL 1357 -750 \nQ 1464 -803 1579 -826 \nQ 1695 -850 1842 -850 \nQ 2026 -850 2120 -775 \nQ 2214 -700 2214 -556 \nQ 2214 -463 2146 -327 \nQ 2079 -191 1939 0 \nL 2311 0 \nz\n\" transform=\"scale(0.015625)\"/>\n      <path id=\"DejaVuSans-e3\" d=\"M 2194 1759 \nQ 1497 1759 1228 1600 \nQ 959 1441 959 1056 \nQ 959 750 1161 570 \nQ 1363 391 1709 391 \nQ 2188 391 2477 730 \nQ 2766 1069 2766 1631 \nL 2766 1759 \nL 2194 1759 \nz\nM 3341 1997 \nL 3341 0 \nL 2766 0 \nL 2766 531 \nQ 2569 213 2275 61 \nQ 1981 -91 1556 -91 \nQ 1019 -91 701 211 \nQ 384 513 384 1019 \nQ 384 1609 779 1909 \nQ 1175 2209 1959 2209 \nL 2766 2209 \nL 2766 2266 \nQ 2766 2663 2505 2880 \nQ 2244 3097 1772 3097 \nQ 1472 3097 1187 3025 \nQ 903 2953 641 2809 \nL 641 3341 \nQ 956 3463 1253 3523 \nQ 1550 3584 1831 3584 \nQ 2591 3584 2966 3190 \nQ 3341 2797 3341 1997 \nz\nM 1844 4281 \nL 1665 4453 \nQ 1597 4516 1545 4545 \nQ 1494 4575 1453 4575 \nQ 1334 4575 1278 4461 \nQ 1222 4347 1215 4091 \nL 825 4091 \nQ 831 4513 990 4742 \nQ 1150 4972 1434 4972 \nQ 1553 4972 1653 4928 \nQ 1753 4884 1869 4781 \nL 2047 4609 \nQ 2115 4547 2167 4517 \nQ 2219 4488 2259 4488 \nQ 2378 4488 2434 4602 \nQ 2490 4716 2497 4972 \nL 2887 4972 \nQ 2881 4550 2721 4320 \nQ 2562 4091 2278 4091 \nQ 2159 4091 2059 4134 \nQ 1959 4178 1844 4281 \nz\n\" transform=\"scale(0.015625)\"/>\n      <path id=\"DejaVuSans-63\" d=\"M 3122 3366 \nL 3122 2828 \nQ 2878 2963 2633 3030 \nQ 2388 3097 2138 3097 \nQ 1578 3097 1268 2742 \nQ 959 2388 959 1747 \nQ 959 1106 1268 751 \nQ 1578 397 2138 397 \nQ 2388 397 2633 464 \nQ 2878 531 3122 666 \nL 3122 134 \nQ 2881 22 2623 -34 \nQ 2366 -91 2075 -91 \nQ 1284 -91 818 406 \nQ 353 903 353 1747 \nQ 353 2603 823 3093 \nQ 1294 3584 2113 3584 \nQ 2378 3584 2631 3529 \nQ 2884 3475 3122 3366 \nz\n\" transform=\"scale(0.015625)\"/>\n     </defs>\n     <use xlink:href=\"#DejaVuSans-44\"/>\n     <use xlink:href=\"#DejaVuSans-69\" transform=\"translate(77.001953 0)\"/>\n     <use xlink:href=\"#DejaVuSans-73\" transform=\"translate(104.785156 0)\"/>\n     <use xlink:href=\"#DejaVuSans-74\" transform=\"translate(156.884766 0)\"/>\n     <use xlink:href=\"#DejaVuSans-72\" transform=\"translate(196.09375 0)\"/>\n     <use xlink:href=\"#DejaVuSans-69\" transform=\"translate(237.207031 0)\"/>\n     <use xlink:href=\"#DejaVuSans-62\" transform=\"translate(264.990234 0)\"/>\n     <use xlink:href=\"#DejaVuSans-75\" transform=\"translate(328.466797 0)\"/>\n     <use xlink:href=\"#DejaVuSans-69\" transform=\"translate(391.845703 0)\"/>\n     <use xlink:href=\"#DejaVuSans-e7\" transform=\"translate(419.628906 0)\"/>\n     <use xlink:href=\"#DejaVuSans-e3\" transform=\"translate(474.609375 0)\"/>\n     <use xlink:href=\"#DejaVuSans-6f\" transform=\"translate(535.888672 0)\"/>\n     <use xlink:href=\"#DejaVuSans-20\" transform=\"translate(597.070312 0)\"/>\n     <use xlink:href=\"#DejaVuSans-64\" transform=\"translate(628.857422 0)\"/>\n     <use xlink:href=\"#DejaVuSans-6f\" transform=\"translate(692.333984 0)\"/>\n     <use xlink:href=\"#DejaVuSans-20\" transform=\"translate(753.515625 0)\"/>\n     <use xlink:href=\"#DejaVuSans-63\" transform=\"translate(785.302734 0)\"/>\n     <use xlink:href=\"#DejaVuSans-6f\" transform=\"translate(840.283203 0)\"/>\n     <use xlink:href=\"#DejaVuSans-6d\" transform=\"translate(901.464844 0)\"/>\n     <use xlink:href=\"#DejaVuSans-70\" transform=\"translate(998.876953 0)\"/>\n     <use xlink:href=\"#DejaVuSans-72\" transform=\"translate(1062.353516 0)\"/>\n     <use xlink:href=\"#DejaVuSans-69\" transform=\"translate(1103.466797 0)\"/>\n     <use xlink:href=\"#DejaVuSans-6d\" transform=\"translate(1131.25 0)\"/>\n     <use xlink:href=\"#DejaVuSans-65\" transform=\"translate(1228.662109 0)\"/>\n     <use xlink:href=\"#DejaVuSans-6e\" transform=\"translate(1290.185547 0)\"/>\n     <use xlink:href=\"#DejaVuSans-74\" transform=\"translate(1353.564453 0)\"/>\n     <use xlink:href=\"#DejaVuSans-6f\" transform=\"translate(1392.773438 0)\"/>\n     <use xlink:href=\"#DejaVuSans-20\" transform=\"translate(1453.955078 0)\"/>\n     <use xlink:href=\"#DejaVuSans-64\" transform=\"translate(1485.742188 0)\"/>\n     <use xlink:href=\"#DejaVuSans-61\" transform=\"translate(1549.21875 0)\"/>\n     <use xlink:href=\"#DejaVuSans-73\" transform=\"translate(1610.498047 0)\"/>\n     <use xlink:href=\"#DejaVuSans-20\" transform=\"translate(1662.597656 0)\"/>\n     <use xlink:href=\"#DejaVuSans-66\" transform=\"translate(1694.384766 0)\"/>\n     <use xlink:href=\"#DejaVuSans-72\" transform=\"translate(1729.589844 0)\"/>\n     <use xlink:href=\"#DejaVuSans-61\" transform=\"translate(1770.703125 0)\"/>\n     <use xlink:href=\"#DejaVuSans-73\" transform=\"translate(1831.982422 0)\"/>\n     <use xlink:href=\"#DejaVuSans-65\" transform=\"translate(1884.082031 0)\"/>\n     <use xlink:href=\"#DejaVuSans-73\" transform=\"translate(1945.605469 0)\"/>\n    </g>\n   </g>\n   <g id=\"legend_1\">\n    <g id=\"patch_67\">\n     <path d=\"M 540.226562 60.27875 \nL 610.690625 60.27875 \nQ 612.690625 60.27875 612.690625 58.27875 \nL 612.690625 29.5225 \nQ 612.690625 27.5225 610.690625 27.5225 \nL 540.226562 27.5225 \nQ 538.226562 27.5225 538.226562 29.5225 \nL 538.226562 58.27875 \nQ 538.226562 60.27875 540.226562 60.27875 \nz\n\" style=\"fill: #ffffff; opacity: 0.8; stroke: #cccccc; stroke-linejoin: miter\"/>\n    </g>\n    <g id=\"patch_68\">\n     <path d=\"M 542.226562 39.520937 \nL 562.226562 39.520937 \nL 562.226562 32.520937 \nL 542.226562 32.520937 \nz\n\" style=\"fill: #1f77b4; opacity: 0.5\"/>\n    </g>\n    <g id=\"text_16\">\n     <!-- Inglês -->\n     <g transform=\"translate(570.226562 39.520937) scale(0.1 -0.1)\">\n      <defs>\n       <path id=\"DejaVuSans-49\" d=\"M 628 4666 \nL 1259 4666 \nL 1259 0 \nL 628 0 \nL 628 4666 \nz\n\" transform=\"scale(0.015625)\"/>\n       <path id=\"DejaVuSans-67\" d=\"M 2906 1791 \nQ 2906 2416 2648 2759 \nQ 2391 3103 1925 3103 \nQ 1463 3103 1205 2759 \nQ 947 2416 947 1791 \nQ 947 1169 1205 825 \nQ 1463 481 1925 481 \nQ 2391 481 2648 825 \nQ 2906 1169 2906 1791 \nz\nM 3481 434 \nQ 3481 -459 3084 -895 \nQ 2688 -1331 1869 -1331 \nQ 1566 -1331 1297 -1286 \nQ 1028 -1241 775 -1147 \nL 775 -588 \nQ 1028 -725 1275 -790 \nQ 1522 -856 1778 -856 \nQ 2344 -856 2625 -561 \nQ 2906 -266 2906 331 \nL 2906 616 \nQ 2728 306 2450 153 \nQ 2172 0 1784 0 \nQ 1141 0 747 490 \nQ 353 981 353 1791 \nQ 353 2603 747 3093 \nQ 1141 3584 1784 3584 \nQ 2172 3584 2450 3431 \nQ 2728 3278 2906 2969 \nL 2906 3500 \nL 3481 3500 \nL 3481 434 \nz\n\" transform=\"scale(0.015625)\"/>\n       <path id=\"DejaVuSans-6c\" d=\"M 603 4863 \nL 1178 4863 \nL 1178 0 \nL 603 0 \nL 603 4863 \nz\n\" transform=\"scale(0.015625)\"/>\n       <path id=\"DejaVuSans-ea\" d=\"M 3597 1894 \nL 3597 1613 \nL 953 1613 \nQ 991 1019 1311 708 \nQ 1631 397 2203 397 \nQ 2534 397 2845 478 \nQ 3156 559 3463 722 \nL 3463 178 \nQ 3153 47 2828 -22 \nQ 2503 -91 2169 -91 \nQ 1331 -91 842 396 \nQ 353 884 353 1716 \nQ 353 2575 817 3079 \nQ 1281 3584 2069 3584 \nQ 2775 3584 3186 3129 \nQ 3597 2675 3597 1894 \nz\nM 3022 2063 \nQ 3016 2534 2758 2815 \nQ 2500 3097 2075 3097 \nQ 1594 3097 1305 2825 \nQ 1016 2553 972 2059 \nL 3022 2063 \nz\nM 1801 5119 \nL 2263 5119 \nL 3029 3944 \nL 2595 3944 \nL 2032 4709 \nL 1470 3944 \nL 1035 3944 \nL 1801 5119 \nz\n\" transform=\"scale(0.015625)\"/>\n      </defs>\n      <use xlink:href=\"#DejaVuSans-49\"/>\n      <use xlink:href=\"#DejaVuSans-6e\" transform=\"translate(29.492188 0)\"/>\n      <use xlink:href=\"#DejaVuSans-67\" transform=\"translate(92.871094 0)\"/>\n      <use xlink:href=\"#DejaVuSans-6c\" transform=\"translate(156.347656 0)\"/>\n      <use xlink:href=\"#DejaVuSans-ea\" transform=\"translate(184.130859 0)\"/>\n      <use xlink:href=\"#DejaVuSans-73\" transform=\"translate(245.654297 0)\"/>\n     </g>\n    </g>\n    <g id=\"patch_69\">\n     <path d=\"M 542.226562 54.199062 \nL 562.226562 54.199062 \nL 562.226562 47.199062 \nL 542.226562 47.199062 \nz\n\" style=\"fill: #ff7f0e; opacity: 0.5\"/>\n    </g>\n    <g id=\"text_17\">\n     <!-- Francês -->\n     <g transform=\"translate(570.226562 54.199062) scale(0.1 -0.1)\">\n      <defs>\n       <path id=\"DejaVuSans-46\" d=\"M 628 4666 \nL 3309 4666 \nL 3309 4134 \nL 1259 4134 \nL 1259 2759 \nL 3109 2759 \nL 3109 2228 \nL 1259 2228 \nL 1259 0 \nL 628 0 \nL 628 4666 \nz\n\" transform=\"scale(0.015625)\"/>\n      </defs>\n      <use xlink:href=\"#DejaVuSans-46\"/>\n      <use xlink:href=\"#DejaVuSans-72\" transform=\"translate(50.269531 0)\"/>\n      <use xlink:href=\"#DejaVuSans-61\" transform=\"translate(91.382812 0)\"/>\n      <use xlink:href=\"#DejaVuSans-6e\" transform=\"translate(152.662109 0)\"/>\n      <use xlink:href=\"#DejaVuSans-63\" transform=\"translate(216.041016 0)\"/>\n      <use xlink:href=\"#DejaVuSans-ea\" transform=\"translate(271.021484 0)\"/>\n      <use xlink:href=\"#DejaVuSans-73\" transform=\"translate(332.544922 0)\"/>\n     </g>\n    </g>\n   </g>\n  </g>\n </g>\n <defs>\n  <clipPath id=\"p99b0f21ffb\">\n   <rect x=\"59.690625\" y=\"22.5225\" width=\"558\" height=\"221.76\"/>\n  </clipPath>\n </defs>\n</svg>\n"
          },
          "metadata": {}
        },
        {
          "output_type": "stream",
          "name": "stdout",
          "text": [
            "\n",
            "Top 20 palavras em Inglês:\n",
            "[('i', 45541), ('you', 36616), ('to', 36231), ('the', 33263), ('a', 23950), ('is', 16362), ('tom', 12537), ('he', 12083), ('of', 11178), ('do', 10201), ('in', 9975), (\"don't\", 9606), ('have', 9510), ('that', 9364), ('was', 8696), ('this', 8526), ('my', 8095), ('it', 7572), ('are', 7481), ('your', 7481)]\n",
            "\n",
            "Top 20 palavras em Francês:\n",
            "[('je', 39821), ('de', 35073), ('?', 27157), ('pas', 25403), ('que', 23987), ('à', 21006), ('ne', 20231), ('le', 19487), ('la', 19203), ('vous', 17141), ('il', 15465), ('tom', 12926), ('est', 12560), ('un', 11979), ('ce', 11606), ('a', 11129), ('tu', 10996), ('nous', 10358), ('en', 9103), ('les', 8838)]\n",
            "\n",
            "Tamanho do vocabulário inglês: 25365\n",
            "Tamanho do vocabulário francês: 42025\n"
          ]
        }
      ]
    },
    {
      "cell_type": "markdown",
      "source": [
        "## Pré-processamento do conjunto de dados"
      ],
      "metadata": {
        "id": "zR7rHvA-kIox"
      }
    },
    {
      "cell_type": "code",
      "source": [
        "def preprocess_nmt(text):\n",
        "    \"\"\"\n",
        "    Pré-processa o dataset Inglês–Francês para tradução automática.\n",
        "\n",
        "    Etapas realizadas:\n",
        "    - Substitui espaços não separáveis (non-breaking spaces) por espaços normais.\n",
        "    - Converte todas as letras maiúsculas para minúsculas.\n",
        "    - Garante que haja um espaço entre palavras e sinais de pontuação\n",
        "       (por exemplo: \"hello!\" -> \"hello !\").\n",
        "    \"\"\"\n",
        "\n",
        "    def no_space(char, prev_char):\n",
        "        \"\"\"\n",
        "        Verifica se o caractere atual é um sinal de pontuação (.,!?)\n",
        "        e se ele não está precedido por um espaço.\n",
        "        Usada para decidir se devemos inserir um espaço antes da pontuação.\n",
        "        \"\"\"\n",
        "        return char in set(',.!?') and prev_char != ' '\n",
        "\n",
        "    # Substitui espaços \"especiais\" por espaço normal e transforma todas as letras em minúsculas\n",
        "    text = text.replace('\\u202f', ' ').replace('\\xa0', ' ').lower()\n",
        "\n",
        "    # Insere espaço antes de sinais de pontuação, quando necessário\n",
        "    out = [\n",
        "        ' ' + char if i > 0 and no_space(char, text[i - 1]) else char\n",
        "        for i, char in enumerate(text)\n",
        "    ]\n",
        "\n",
        "    # Retorna o texto pré-processado como uma única string\n",
        "    return ''.join(out)\n",
        "\n",
        "\n",
        "# Aplica o pré-processamento ao texto bruto carregado anteriormente\n",
        "text = preprocess_nmt(raw_text)\n",
        "\n",
        "# Mostra os primeiros 80 caracteres para verificar o resultado\n",
        "print(text[:80])\n"
      ],
      "metadata": {
        "colab": {
          "base_uri": "https://localhost:8080/"
        },
        "id": "mvrvgjlWBfj2",
        "outputId": "90de7906-7728-4615-f07a-d67943ad61e9"
      },
      "execution_count": 32,
      "outputs": [
        {
          "output_type": "stream",
          "name": "stdout",
          "text": [
            "go .\tva !\n",
            "hi .\tsalut !\n",
            "run !\tcours !\n",
            "run !\tcourez !\n",
            "who ?\tqui ?\n",
            "wow !\tça alors !\n"
          ]
        }
      ]
    },
    {
      "cell_type": "markdown",
      "source": [
        "## Tokenização"
      ],
      "metadata": {
        "id": "obq1Qr90ku5Q"
      }
    },
    {
      "cell_type": "code",
      "source": [
        "def tokenize_nmt(text, num_examples=None):\n",
        "    \"\"\"\n",
        "    Tokeniza o dataset Inglês–Francês para tradução automática.\n",
        "\n",
        "    Parâmetros\n",
        "    ----------\n",
        "    text : str\n",
        "        Texto bruto já pré-processado, contendo frases em inglês e francês\n",
        "        separadas por tabulação ('\\t'), uma por linha.\n",
        "    num_examples : int, opcional\n",
        "        Número máximo de exemplos a serem processados (útil para testes rápidos).\n",
        "        Se None, processa todo o dataset.\n",
        "\n",
        "    Retorna\n",
        "    -------\n",
        "    source : list[list[str]]\n",
        "        Lista de frases em inglês, onde cada frase é representada como uma lista de tokens (palavras).\n",
        "    target : list[list[str]]\n",
        "        Lista de frases em francês, também tokenizadas em listas de palavras.\n",
        "    \"\"\"\n",
        "    source, target = [], []  # listas para armazenar as frases tokenizadas\n",
        "\n",
        "    # Percorre cada linha do texto\n",
        "    for i, line in enumerate(text.split('\\n')):\n",
        "        # Se for definido um limite de exemplos, interrompe o loop ao atingir esse limite\n",
        "        if num_examples and i > num_examples:\n",
        "            break\n",
        "\n",
        "        # Cada linha possui: frase em inglês \\t frase em francês\n",
        "        parts = line.split('\\t')\n",
        "\n",
        "        # Apenas consideramos linhas bem formatadas (com exatamente 2 partes)\n",
        "        if len(parts) == 2:\n",
        "            # Divide a frase em tokens (separados por espaço) e adiciona às listas\n",
        "            source.append(parts[0].split(' '))  # tokens em inglês\n",
        "            target.append(parts[1].split(' '))  # tokens em francês\n",
        "\n",
        "    return source, target\n",
        "\n",
        "\n",
        "# Chamamos a função para tokenizar todas as frases\n",
        "source, target = tokenize_nmt(text)\n",
        "\n",
        "# Visualizamos as 6 primeiras frases (inglês e francês)\n",
        "source[:6], target[:6]\n"
      ],
      "metadata": {
        "colab": {
          "base_uri": "https://localhost:8080/"
        },
        "id": "HEPAlpskBvdq",
        "outputId": "a091efd9-1405-45e1-ee58-25643fa9a688"
      },
      "execution_count": 33,
      "outputs": [
        {
          "output_type": "execute_result",
          "data": {
            "text/plain": [
              "([['go', '.'],\n",
              "  ['hi', '.'],\n",
              "  ['run', '!'],\n",
              "  ['run', '!'],\n",
              "  ['who', '?'],\n",
              "  ['wow', '!']],\n",
              " [['va', '!'],\n",
              "  ['salut', '!'],\n",
              "  ['cours', '!'],\n",
              "  ['courez', '!'],\n",
              "  ['qui', '?'],\n",
              "  ['ça', 'alors', '!']])"
            ]
          },
          "metadata": {},
          "execution_count": 33
        }
      ]
    },
    {
      "cell_type": "code",
      "source": [
        "# Define o tamanho padrão das figuras geradas pelo matplotlib (função utilitária do D2L)\n",
        "d2l.set_figsize()\n",
        "\n",
        "# Cria um histograma com os comprimentos (número de tokens) das frases\n",
        "# - source: frases em inglês\n",
        "# - target: frases em francês\n",
        "_, _, patches = d2l.plt.hist(\n",
        "    [[len(l) for l in source],\n",
        "     [len(l) for l in target]],\n",
        "    label=['source', 'target']\n",
        ")\n",
        "\n",
        "# Aplica hachura (listras diagonais) às barras referentes ao 'target' (francês)\n",
        "# Isso ajuda a distinguir as distribuições\n",
        "for patch in patches[1].patches:\n",
        "    patch.set_hatch('/')\n",
        "\n",
        "# Adiciona a legenda no canto superior direito do gráfico\n",
        "d2l.plt.legend(loc='upper right');\n"
      ],
      "metadata": {
        "colab": {
          "base_uri": "https://localhost:8080/",
          "height": 247
        },
        "id": "zP69xkCOBxm2",
        "outputId": "0bd23d90-ec98-40b7-8fdb-a037367b890e"
      },
      "execution_count": 34,
      "outputs": [
        {
          "output_type": "display_data",
          "data": {
            "text/plain": [
              "<Figure size 350x250 with 1 Axes>"
            ],
            "image/svg+xml": "<?xml version=\"1.0\" encoding=\"utf-8\" standalone=\"no\"?>\n<!DOCTYPE svg PUBLIC \"-//W3C//DTD SVG 1.1//EN\"\n  \"http://www.w3.org/Graphics/SVG/1.1/DTD/svg11.dtd\">\n<svg xmlns:xlink=\"http://www.w3.org/1999/xlink\" width=\"260.642231pt\" height=\"169.678125pt\" viewBox=\"0 0 260.642231 169.678125\" xmlns=\"http://www.w3.org/2000/svg\" version=\"1.1\">\n <metadata>\n  <rdf:RDF xmlns:dc=\"http://purl.org/dc/elements/1.1/\" xmlns:cc=\"http://creativecommons.org/ns#\" xmlns:rdf=\"http://www.w3.org/1999/02/22-rdf-syntax-ns#\">\n   <cc:Work>\n    <dc:type rdf:resource=\"http://purl.org/dc/dcmitype/StillImage\"/>\n    <dc:date>2025-09-18T14:02:25.928687</dc:date>\n    <dc:format>image/svg+xml</dc:format>\n    <dc:creator>\n     <cc:Agent>\n      <dc:title>Matplotlib v3.10.0, https://matplotlib.org/</dc:title>\n     </cc:Agent>\n    </dc:creator>\n   </cc:Work>\n  </rdf:RDF>\n </metadata>\n <defs>\n  <style type=\"text/css\">*{stroke-linejoin: round; stroke-linecap: butt}</style>\n </defs>\n <g id=\"figure_1\">\n  <g id=\"patch_1\">\n   <path d=\"M 0 169.678125 \nL 260.642231 169.678125 \nL 260.642231 0 \nL 0 0 \nz\n\" style=\"fill: #ffffff\"/>\n  </g>\n  <g id=\"axes_1\">\n   <g id=\"patch_2\">\n    <path d=\"M 52.375 145.8 \nL 247.675 145.8 \nL 247.675 7.2 \nL 52.375 7.2 \nz\n\" style=\"fill: #ffffff\"/>\n   </g>\n   <g id=\"patch_3\">\n    <path d=\"M 61.252273 145.8 \nL 68.499026 145.8 \nL 68.499026 13.8 \nL 61.252273 13.8 \nz\n\" clip-path=\"url(#p4196764b90)\" style=\"fill: #1f77b4\"/>\n   </g>\n   <g id=\"patch_4\">\n    <path d=\"M 79.369156 145.8 \nL 86.615909 145.8 \nL 86.615909 70.342894 \nL 79.369156 70.342894 \nz\n\" clip-path=\"url(#p4196764b90)\" style=\"fill: #1f77b4\"/>\n   </g>\n   <g id=\"patch_5\">\n    <path d=\"M 97.486039 145.8 \nL 104.732792 145.8 \nL 104.732792 141.170363 \nL 97.486039 141.170363 \nz\n\" clip-path=\"url(#p4196764b90)\" style=\"fill: #1f77b4\"/>\n   </g>\n   <g id=\"patch_6\">\n    <path d=\"M 115.602922 145.8 \nL 122.849675 145.8 \nL 122.849675 145.34327 \nL 115.602922 145.34327 \nz\n\" clip-path=\"url(#p4196764b90)\" style=\"fill: #1f77b4\"/>\n   </g>\n   <g id=\"patch_7\">\n    <path d=\"M 133.719805 145.8 \nL 140.966558 145.8 \nL 140.966558 145.744022 \nL 133.719805 145.744022 \nz\n\" clip-path=\"url(#p4196764b90)\" style=\"fill: #1f77b4\"/>\n   </g>\n   <g id=\"patch_8\">\n    <path d=\"M 151.836688 145.8 \nL 159.083442 145.8 \nL 159.083442 145.783461 \nL 151.836688 145.783461 \nz\n\" clip-path=\"url(#p4196764b90)\" style=\"fill: #1f77b4\"/>\n   </g>\n   <g id=\"patch_9\">\n    <path d=\"M 169.953571 145.8 \nL 177.200325 145.8 \nL 177.200325 145.792367 \nL 169.953571 145.792367 \nz\n\" clip-path=\"url(#p4196764b90)\" style=\"fill: #1f77b4\"/>\n   </g>\n   <g id=\"patch_10\">\n    <path d=\"M 188.070455 145.8 \nL 195.317208 145.8 \nL 195.317208 145.798728 \nL 188.070455 145.798728 \nz\n\" clip-path=\"url(#p4196764b90)\" style=\"fill: #1f77b4\"/>\n   </g>\n   <g id=\"patch_11\">\n    <path d=\"M 206.187338 145.8 \nL 213.434091 145.8 \nL 213.434091 145.797456 \nL 206.187338 145.797456 \nz\n\" clip-path=\"url(#p4196764b90)\" style=\"fill: #1f77b4\"/>\n   </g>\n   <g id=\"patch_12\">\n    <path d=\"M 224.304221 145.8 \nL 231.550974 145.8 \nL 231.550974 145.8 \nL 224.304221 145.8 \nz\n\" clip-path=\"url(#p4196764b90)\" style=\"fill: #1f77b4\"/>\n   </g>\n   <g id=\"patch_13\">\n    <path d=\"M 68.499026 145.8 \nL 75.745779 145.8 \nL 75.745779 26.779268 \nL 68.499026 26.779268 \nz\n\" clip-path=\"url(#p4196764b90)\" style=\"fill: url(#h56958fea40)\"/>\n   </g>\n   <g id=\"patch_14\">\n    <path d=\"M 86.615909 145.8 \nL 93.862662 145.8 \nL 93.862662 60.492034 \nL 86.615909 60.492034 \nz\n\" clip-path=\"url(#p4196764b90)\" style=\"fill: url(#h56958fea40)\"/>\n   </g>\n   <g id=\"patch_15\">\n    <path d=\"M 104.732792 145.8 \nL 111.979545 145.8 \nL 111.979545 138.604279 \nL 104.732792 138.604279 \nz\n\" clip-path=\"url(#p4196764b90)\" style=\"fill: url(#h56958fea40)\"/>\n   </g>\n   <g id=\"patch_16\">\n    <path d=\"M 122.849675 145.8 \nL 130.096429 145.8 \nL 130.096429 144.858551 \nL 122.849675 144.858551 \nz\n\" clip-path=\"url(#p4196764b90)\" style=\"fill: url(#h56958fea40)\"/>\n   </g>\n   <g id=\"patch_17\">\n    <path d=\"M 140.966558 145.8 \nL 148.213312 145.8 \nL 148.213312 145.691861 \nL 140.966558 145.691861 \nz\n\" clip-path=\"url(#p4196764b90)\" style=\"fill: url(#h56958fea40)\"/>\n   </g>\n   <g id=\"patch_18\">\n    <path d=\"M 159.083442 145.8 \nL 166.330195 145.8 \nL 166.330195 145.758016 \nL 159.083442 145.758016 \nz\n\" clip-path=\"url(#p4196764b90)\" style=\"fill: url(#h56958fea40)\"/>\n   </g>\n   <g id=\"patch_19\">\n    <path d=\"M 177.200325 145.8 \nL 184.447078 145.8 \nL 184.447078 145.797456 \nL 177.200325 145.797456 \nz\n\" clip-path=\"url(#p4196764b90)\" style=\"fill: url(#h56958fea40)\"/>\n   </g>\n   <g id=\"patch_20\">\n    <path d=\"M 195.317208 145.8 \nL 202.563961 145.8 \nL 202.563961 145.797456 \nL 195.317208 145.797456 \nz\n\" clip-path=\"url(#p4196764b90)\" style=\"fill: url(#h56958fea40)\"/>\n   </g>\n   <g id=\"patch_21\">\n    <path d=\"M 213.434091 145.8 \nL 220.680844 145.8 \nL 220.680844 145.797456 \nL 213.434091 145.797456 \nz\n\" clip-path=\"url(#p4196764b90)\" style=\"fill: url(#h56958fea40)\"/>\n   </g>\n   <g id=\"patch_22\">\n    <path d=\"M 231.550974 145.8 \nL 238.797727 145.8 \nL 238.797727 145.796183 \nL 231.550974 145.796183 \nz\n\" clip-path=\"url(#p4196764b90)\" style=\"fill: url(#h56958fea40)\"/>\n   </g>\n   <g id=\"matplotlib.axis_1\">\n    <g id=\"xtick_1\">\n     <g id=\"line2d_1\">\n      <defs>\n       <path id=\"m87c60b65a3\" d=\"M 0 0 \nL 0 3.5 \n\" style=\"stroke: #000000; stroke-width: 0.8\"/>\n      </defs>\n      <g>\n       <use xlink:href=\"#m87c60b65a3\" x=\"52.970269\" y=\"145.8\" style=\"stroke: #000000; stroke-width: 0.8\"/>\n      </g>\n     </g>\n     <g id=\"text_1\">\n      <!-- 0 -->\n      <g transform=\"translate(49.789019 160.398438) scale(0.1 -0.1)\">\n       <defs>\n        <path id=\"DejaVuSans-30\" d=\"M 2034 4250 \nQ 1547 4250 1301 3770 \nQ 1056 3291 1056 2328 \nQ 1056 1369 1301 889 \nQ 1547 409 2034 409 \nQ 2525 409 2770 889 \nQ 3016 1369 3016 2328 \nQ 3016 3291 2770 3770 \nQ 2525 4250 2034 4250 \nz\nM 2034 4750 \nQ 2819 4750 3233 4129 \nQ 3647 3509 3647 2328 \nQ 3647 1150 3233 529 \nQ 2819 -91 2034 -91 \nQ 1250 -91 836 529 \nQ 422 1150 422 2328 \nQ 422 3509 836 4129 \nQ 1250 4750 2034 4750 \nz\n\" transform=\"scale(0.015625)\"/>\n       </defs>\n       <use xlink:href=\"#DejaVuSans-30\"/>\n      </g>\n     </g>\n    </g>\n    <g id=\"xtick_2\">\n     <g id=\"line2d_2\">\n      <g>\n       <use xlink:href=\"#m87c60b65a3\" x=\"117.673423\" y=\"145.8\" style=\"stroke: #000000; stroke-width: 0.8\"/>\n      </g>\n     </g>\n     <g id=\"text_2\">\n      <!-- 20 -->\n      <g transform=\"translate(111.310923 160.398438) scale(0.1 -0.1)\">\n       <defs>\n        <path id=\"DejaVuSans-32\" d=\"M 1228 531 \nL 3431 531 \nL 3431 0 \nL 469 0 \nL 469 531 \nQ 828 903 1448 1529 \nQ 2069 2156 2228 2338 \nQ 2531 2678 2651 2914 \nQ 2772 3150 2772 3378 \nQ 2772 3750 2511 3984 \nQ 2250 4219 1831 4219 \nQ 1534 4219 1204 4116 \nQ 875 4013 500 3803 \nL 500 4441 \nQ 881 4594 1212 4672 \nQ 1544 4750 1819 4750 \nQ 2544 4750 2975 4387 \nQ 3406 4025 3406 3419 \nQ 3406 3131 3298 2873 \nQ 3191 2616 2906 2266 \nQ 2828 2175 2409 1742 \nQ 1991 1309 1228 531 \nz\n\" transform=\"scale(0.015625)\"/>\n       </defs>\n       <use xlink:href=\"#DejaVuSans-32\"/>\n       <use xlink:href=\"#DejaVuSans-30\" transform=\"translate(63.623047 0)\"/>\n      </g>\n     </g>\n    </g>\n    <g id=\"xtick_3\">\n     <g id=\"line2d_3\">\n      <g>\n       <use xlink:href=\"#m87c60b65a3\" x=\"182.376577\" y=\"145.8\" style=\"stroke: #000000; stroke-width: 0.8\"/>\n      </g>\n     </g>\n     <g id=\"text_3\">\n      <!-- 40 -->\n      <g transform=\"translate(176.014077 160.398438) scale(0.1 -0.1)\">\n       <defs>\n        <path id=\"DejaVuSans-34\" d=\"M 2419 4116 \nL 825 1625 \nL 2419 1625 \nL 2419 4116 \nz\nM 2253 4666 \nL 3047 4666 \nL 3047 1625 \nL 3713 1625 \nL 3713 1100 \nL 3047 1100 \nL 3047 0 \nL 2419 0 \nL 2419 1100 \nL 313 1100 \nL 313 1709 \nL 2253 4666 \nz\n\" transform=\"scale(0.015625)\"/>\n       </defs>\n       <use xlink:href=\"#DejaVuSans-34\"/>\n       <use xlink:href=\"#DejaVuSans-30\" transform=\"translate(63.623047 0)\"/>\n      </g>\n     </g>\n    </g>\n    <g id=\"xtick_4\">\n     <g id=\"line2d_4\">\n      <g>\n       <use xlink:href=\"#m87c60b65a3\" x=\"247.079731\" y=\"145.8\" style=\"stroke: #000000; stroke-width: 0.8\"/>\n      </g>\n     </g>\n     <g id=\"text_4\">\n      <!-- 60 -->\n      <g transform=\"translate(240.717231 160.398438) scale(0.1 -0.1)\">\n       <defs>\n        <path id=\"DejaVuSans-36\" d=\"M 2113 2584 \nQ 1688 2584 1439 2293 \nQ 1191 2003 1191 1497 \nQ 1191 994 1439 701 \nQ 1688 409 2113 409 \nQ 2538 409 2786 701 \nQ 3034 994 3034 1497 \nQ 3034 2003 2786 2293 \nQ 2538 2584 2113 2584 \nz\nM 3366 4563 \nL 3366 3988 \nQ 3128 4100 2886 4159 \nQ 2644 4219 2406 4219 \nQ 1781 4219 1451 3797 \nQ 1122 3375 1075 2522 \nQ 1259 2794 1537 2939 \nQ 1816 3084 2150 3084 \nQ 2853 3084 3261 2657 \nQ 3669 2231 3669 1497 \nQ 3669 778 3244 343 \nQ 2819 -91 2113 -91 \nQ 1303 -91 875 529 \nQ 447 1150 447 2328 \nQ 447 3434 972 4092 \nQ 1497 4750 2381 4750 \nQ 2619 4750 2861 4703 \nQ 3103 4656 3366 4563 \nz\n\" transform=\"scale(0.015625)\"/>\n       </defs>\n       <use xlink:href=\"#DejaVuSans-36\"/>\n       <use xlink:href=\"#DejaVuSans-30\" transform=\"translate(63.623047 0)\"/>\n      </g>\n     </g>\n    </g>\n   </g>\n   <g id=\"matplotlib.axis_2\">\n    <g id=\"ytick_1\">\n     <g id=\"line2d_5\">\n      <defs>\n       <path id=\"mefcf1b5288\" d=\"M 0 0 \nL -3.5 0 \n\" style=\"stroke: #000000; stroke-width: 0.8\"/>\n      </defs>\n      <g>\n       <use xlink:href=\"#mefcf1b5288\" x=\"52.375\" y=\"145.8\" style=\"stroke: #000000; stroke-width: 0.8\"/>\n      </g>\n     </g>\n     <g id=\"text_5\">\n      <!-- 0 -->\n      <g transform=\"translate(39.0125 149.599219) scale(0.1 -0.1)\">\n       <use xlink:href=\"#DejaVuSans-30\"/>\n      </g>\n     </g>\n    </g>\n    <g id=\"ytick_2\">\n     <g id=\"line2d_6\">\n      <g>\n       <use xlink:href=\"#mefcf1b5288\" x=\"52.375\" y=\"120.355443\" style=\"stroke: #000000; stroke-width: 0.8\"/>\n      </g>\n     </g>\n     <g id=\"text_6\">\n      <!-- 20000 -->\n      <g transform=\"translate(13.5625 124.154662) scale(0.1 -0.1)\">\n       <use xlink:href=\"#DejaVuSans-32\"/>\n       <use xlink:href=\"#DejaVuSans-30\" transform=\"translate(63.623047 0)\"/>\n       <use xlink:href=\"#DejaVuSans-30\" transform=\"translate(127.246094 0)\"/>\n       <use xlink:href=\"#DejaVuSans-30\" transform=\"translate(190.869141 0)\"/>\n       <use xlink:href=\"#DejaVuSans-30\" transform=\"translate(254.492188 0)\"/>\n      </g>\n     </g>\n    </g>\n    <g id=\"ytick_3\">\n     <g id=\"line2d_7\">\n      <g>\n       <use xlink:href=\"#mefcf1b5288\" x=\"52.375\" y=\"94.910886\" style=\"stroke: #000000; stroke-width: 0.8\"/>\n      </g>\n     </g>\n     <g id=\"text_7\">\n      <!-- 40000 -->\n      <g transform=\"translate(13.5625 98.710105) scale(0.1 -0.1)\">\n       <use xlink:href=\"#DejaVuSans-34\"/>\n       <use xlink:href=\"#DejaVuSans-30\" transform=\"translate(63.623047 0)\"/>\n       <use xlink:href=\"#DejaVuSans-30\" transform=\"translate(127.246094 0)\"/>\n       <use xlink:href=\"#DejaVuSans-30\" transform=\"translate(190.869141 0)\"/>\n       <use xlink:href=\"#DejaVuSans-30\" transform=\"translate(254.492188 0)\"/>\n      </g>\n     </g>\n    </g>\n    <g id=\"ytick_4\">\n     <g id=\"line2d_8\">\n      <g>\n       <use xlink:href=\"#mefcf1b5288\" x=\"52.375\" y=\"69.466329\" style=\"stroke: #000000; stroke-width: 0.8\"/>\n      </g>\n     </g>\n     <g id=\"text_8\">\n      <!-- 60000 -->\n      <g transform=\"translate(13.5625 73.265548) scale(0.1 -0.1)\">\n       <use xlink:href=\"#DejaVuSans-36\"/>\n       <use xlink:href=\"#DejaVuSans-30\" transform=\"translate(63.623047 0)\"/>\n       <use xlink:href=\"#DejaVuSans-30\" transform=\"translate(127.246094 0)\"/>\n       <use xlink:href=\"#DejaVuSans-30\" transform=\"translate(190.869141 0)\"/>\n       <use xlink:href=\"#DejaVuSans-30\" transform=\"translate(254.492188 0)\"/>\n      </g>\n     </g>\n    </g>\n    <g id=\"ytick_5\">\n     <g id=\"line2d_9\">\n      <g>\n       <use xlink:href=\"#mefcf1b5288\" x=\"52.375\" y=\"44.021772\" style=\"stroke: #000000; stroke-width: 0.8\"/>\n      </g>\n     </g>\n     <g id=\"text_9\">\n      <!-- 80000 -->\n      <g transform=\"translate(13.5625 47.820991) scale(0.1 -0.1)\">\n       <defs>\n        <path id=\"DejaVuSans-38\" d=\"M 2034 2216 \nQ 1584 2216 1326 1975 \nQ 1069 1734 1069 1313 \nQ 1069 891 1326 650 \nQ 1584 409 2034 409 \nQ 2484 409 2743 651 \nQ 3003 894 3003 1313 \nQ 3003 1734 2745 1975 \nQ 2488 2216 2034 2216 \nz\nM 1403 2484 \nQ 997 2584 770 2862 \nQ 544 3141 544 3541 \nQ 544 4100 942 4425 \nQ 1341 4750 2034 4750 \nQ 2731 4750 3128 4425 \nQ 3525 4100 3525 3541 \nQ 3525 3141 3298 2862 \nQ 3072 2584 2669 2484 \nQ 3125 2378 3379 2068 \nQ 3634 1759 3634 1313 \nQ 3634 634 3220 271 \nQ 2806 -91 2034 -91 \nQ 1263 -91 848 271 \nQ 434 634 434 1313 \nQ 434 1759 690 2068 \nQ 947 2378 1403 2484 \nz\nM 1172 3481 \nQ 1172 3119 1398 2916 \nQ 1625 2713 2034 2713 \nQ 2441 2713 2670 2916 \nQ 2900 3119 2900 3481 \nQ 2900 3844 2670 4047 \nQ 2441 4250 2034 4250 \nQ 1625 4250 1398 4047 \nQ 1172 3844 1172 3481 \nz\n\" transform=\"scale(0.015625)\"/>\n       </defs>\n       <use xlink:href=\"#DejaVuSans-38\"/>\n       <use xlink:href=\"#DejaVuSans-30\" transform=\"translate(63.623047 0)\"/>\n       <use xlink:href=\"#DejaVuSans-30\" transform=\"translate(127.246094 0)\"/>\n       <use xlink:href=\"#DejaVuSans-30\" transform=\"translate(190.869141 0)\"/>\n       <use xlink:href=\"#DejaVuSans-30\" transform=\"translate(254.492188 0)\"/>\n      </g>\n     </g>\n    </g>\n    <g id=\"ytick_6\">\n     <g id=\"line2d_10\">\n      <g>\n       <use xlink:href=\"#mefcf1b5288\" x=\"52.375\" y=\"18.577216\" style=\"stroke: #000000; stroke-width: 0.8\"/>\n      </g>\n     </g>\n     <g id=\"text_10\">\n      <!-- 100000 -->\n      <g transform=\"translate(7.2 22.376434) scale(0.1 -0.1)\">\n       <defs>\n        <path id=\"DejaVuSans-31\" d=\"M 794 531 \nL 1825 531 \nL 1825 4091 \nL 703 3866 \nL 703 4441 \nL 1819 4666 \nL 2450 4666 \nL 2450 531 \nL 3481 531 \nL 3481 0 \nL 794 0 \nL 794 531 \nz\n\" transform=\"scale(0.015625)\"/>\n       </defs>\n       <use xlink:href=\"#DejaVuSans-31\"/>\n       <use xlink:href=\"#DejaVuSans-30\" transform=\"translate(63.623047 0)\"/>\n       <use xlink:href=\"#DejaVuSans-30\" transform=\"translate(127.246094 0)\"/>\n       <use xlink:href=\"#DejaVuSans-30\" transform=\"translate(190.869141 0)\"/>\n       <use xlink:href=\"#DejaVuSans-30\" transform=\"translate(254.492188 0)\"/>\n       <use xlink:href=\"#DejaVuSans-30\" transform=\"translate(318.115234 0)\"/>\n      </g>\n     </g>\n    </g>\n   </g>\n   <g id=\"patch_23\">\n    <path d=\"M 52.375 145.8 \nL 52.375 7.2 \n\" style=\"fill: none; stroke: #000000; stroke-width: 0.8; stroke-linejoin: miter; stroke-linecap: square\"/>\n   </g>\n   <g id=\"patch_24\">\n    <path d=\"M 247.675 145.8 \nL 247.675 7.2 \n\" style=\"fill: none; stroke: #000000; stroke-width: 0.8; stroke-linejoin: miter; stroke-linecap: square\"/>\n   </g>\n   <g id=\"patch_25\">\n    <path d=\"M 52.375 145.8 \nL 247.675 145.8 \n\" style=\"fill: none; stroke: #000000; stroke-width: 0.8; stroke-linejoin: miter; stroke-linecap: square\"/>\n   </g>\n   <g id=\"patch_26\">\n    <path d=\"M 52.375 7.2 \nL 247.675 7.2 \n\" style=\"fill: none; stroke: #000000; stroke-width: 0.8; stroke-linejoin: miter; stroke-linecap: square\"/>\n   </g>\n   <g id=\"legend_1\">\n    <g id=\"patch_27\">\n     <path d=\"M 175.471875 44.55625 \nL 240.675 44.55625 \nQ 242.675 44.55625 242.675 42.55625 \nL 242.675 14.2 \nQ 242.675 12.2 240.675 12.2 \nL 175.471875 12.2 \nQ 173.471875 12.2 173.471875 14.2 \nL 173.471875 42.55625 \nQ 173.471875 44.55625 175.471875 44.55625 \nz\n\" style=\"fill: #ffffff; opacity: 0.8; stroke: #cccccc; stroke-linejoin: miter\"/>\n    </g>\n    <g id=\"patch_28\">\n     <path d=\"M 177.471875 23.798438 \nL 197.471875 23.798438 \nL 197.471875 16.798438 \nL 177.471875 16.798438 \nz\n\" style=\"fill: #1f77b4\"/>\n    </g>\n    <g id=\"text_11\">\n     <!-- source -->\n     <g transform=\"translate(205.471875 23.798438) scale(0.1 -0.1)\">\n      <defs>\n       <path id=\"DejaVuSans-73\" d=\"M 2834 3397 \nL 2834 2853 \nQ 2591 2978 2328 3040 \nQ 2066 3103 1784 3103 \nQ 1356 3103 1142 2972 \nQ 928 2841 928 2578 \nQ 928 2378 1081 2264 \nQ 1234 2150 1697 2047 \nL 1894 2003 \nQ 2506 1872 2764 1633 \nQ 3022 1394 3022 966 \nQ 3022 478 2636 193 \nQ 2250 -91 1575 -91 \nQ 1294 -91 989 -36 \nQ 684 19 347 128 \nL 347 722 \nQ 666 556 975 473 \nQ 1284 391 1588 391 \nQ 1994 391 2212 530 \nQ 2431 669 2431 922 \nQ 2431 1156 2273 1281 \nQ 2116 1406 1581 1522 \nL 1381 1569 \nQ 847 1681 609 1914 \nQ 372 2147 372 2553 \nQ 372 3047 722 3315 \nQ 1072 3584 1716 3584 \nQ 2034 3584 2315 3537 \nQ 2597 3491 2834 3397 \nz\n\" transform=\"scale(0.015625)\"/>\n       <path id=\"DejaVuSans-6f\" d=\"M 1959 3097 \nQ 1497 3097 1228 2736 \nQ 959 2375 959 1747 \nQ 959 1119 1226 758 \nQ 1494 397 1959 397 \nQ 2419 397 2687 759 \nQ 2956 1122 2956 1747 \nQ 2956 2369 2687 2733 \nQ 2419 3097 1959 3097 \nz\nM 1959 3584 \nQ 2709 3584 3137 3096 \nQ 3566 2609 3566 1747 \nQ 3566 888 3137 398 \nQ 2709 -91 1959 -91 \nQ 1206 -91 779 398 \nQ 353 888 353 1747 \nQ 353 2609 779 3096 \nQ 1206 3584 1959 3584 \nz\n\" transform=\"scale(0.015625)\"/>\n       <path id=\"DejaVuSans-75\" d=\"M 544 1381 \nL 544 3500 \nL 1119 3500 \nL 1119 1403 \nQ 1119 906 1312 657 \nQ 1506 409 1894 409 \nQ 2359 409 2629 706 \nQ 2900 1003 2900 1516 \nL 2900 3500 \nL 3475 3500 \nL 3475 0 \nL 2900 0 \nL 2900 538 \nQ 2691 219 2414 64 \nQ 2138 -91 1772 -91 \nQ 1169 -91 856 284 \nQ 544 659 544 1381 \nz\nM 1991 3584 \nL 1991 3584 \nz\n\" transform=\"scale(0.015625)\"/>\n       <path id=\"DejaVuSans-72\" d=\"M 2631 2963 \nQ 2534 3019 2420 3045 \nQ 2306 3072 2169 3072 \nQ 1681 3072 1420 2755 \nQ 1159 2438 1159 1844 \nL 1159 0 \nL 581 0 \nL 581 3500 \nL 1159 3500 \nL 1159 2956 \nQ 1341 3275 1631 3429 \nQ 1922 3584 2338 3584 \nQ 2397 3584 2469 3576 \nQ 2541 3569 2628 3553 \nL 2631 2963 \nz\n\" transform=\"scale(0.015625)\"/>\n       <path id=\"DejaVuSans-63\" d=\"M 3122 3366 \nL 3122 2828 \nQ 2878 2963 2633 3030 \nQ 2388 3097 2138 3097 \nQ 1578 3097 1268 2742 \nQ 959 2388 959 1747 \nQ 959 1106 1268 751 \nQ 1578 397 2138 397 \nQ 2388 397 2633 464 \nQ 2878 531 3122 666 \nL 3122 134 \nQ 2881 22 2623 -34 \nQ 2366 -91 2075 -91 \nQ 1284 -91 818 406 \nQ 353 903 353 1747 \nQ 353 2603 823 3093 \nQ 1294 3584 2113 3584 \nQ 2378 3584 2631 3529 \nQ 2884 3475 3122 3366 \nz\n\" transform=\"scale(0.015625)\"/>\n       <path id=\"DejaVuSans-65\" d=\"M 3597 1894 \nL 3597 1613 \nL 953 1613 \nQ 991 1019 1311 708 \nQ 1631 397 2203 397 \nQ 2534 397 2845 478 \nQ 3156 559 3463 722 \nL 3463 178 \nQ 3153 47 2828 -22 \nQ 2503 -91 2169 -91 \nQ 1331 -91 842 396 \nQ 353 884 353 1716 \nQ 353 2575 817 3079 \nQ 1281 3584 2069 3584 \nQ 2775 3584 3186 3129 \nQ 3597 2675 3597 1894 \nz\nM 3022 2063 \nQ 3016 2534 2758 2815 \nQ 2500 3097 2075 3097 \nQ 1594 3097 1305 2825 \nQ 1016 2553 972 2059 \nL 3022 2063 \nz\n\" transform=\"scale(0.015625)\"/>\n      </defs>\n      <use xlink:href=\"#DejaVuSans-73\"/>\n      <use xlink:href=\"#DejaVuSans-6f\" transform=\"translate(52.099609 0)\"/>\n      <use xlink:href=\"#DejaVuSans-75\" transform=\"translate(113.28125 0)\"/>\n      <use xlink:href=\"#DejaVuSans-72\" transform=\"translate(176.660156 0)\"/>\n      <use xlink:href=\"#DejaVuSans-63\" transform=\"translate(215.523438 0)\"/>\n      <use xlink:href=\"#DejaVuSans-65\" transform=\"translate(270.503906 0)\"/>\n     </g>\n    </g>\n    <g id=\"patch_29\">\n     <path d=\"M 177.471875 38.476563 \nL 197.471875 38.476563 \nL 197.471875 31.476563 \nL 177.471875 31.476563 \nz\n\" style=\"fill: url(#h56958fea40)\"/>\n    </g>\n    <g id=\"text_12\">\n     <!-- target -->\n     <g transform=\"translate(205.471875 38.476563) scale(0.1 -0.1)\">\n      <defs>\n       <path id=\"DejaVuSans-74\" d=\"M 1172 4494 \nL 1172 3500 \nL 2356 3500 \nL 2356 3053 \nL 1172 3053 \nL 1172 1153 \nQ 1172 725 1289 603 \nQ 1406 481 1766 481 \nL 2356 481 \nL 2356 0 \nL 1766 0 \nQ 1100 0 847 248 \nQ 594 497 594 1153 \nL 594 3053 \nL 172 3053 \nL 172 3500 \nL 594 3500 \nL 594 4494 \nL 1172 4494 \nz\n\" transform=\"scale(0.015625)\"/>\n       <path id=\"DejaVuSans-61\" d=\"M 2194 1759 \nQ 1497 1759 1228 1600 \nQ 959 1441 959 1056 \nQ 959 750 1161 570 \nQ 1363 391 1709 391 \nQ 2188 391 2477 730 \nQ 2766 1069 2766 1631 \nL 2766 1759 \nL 2194 1759 \nz\nM 3341 1997 \nL 3341 0 \nL 2766 0 \nL 2766 531 \nQ 2569 213 2275 61 \nQ 1981 -91 1556 -91 \nQ 1019 -91 701 211 \nQ 384 513 384 1019 \nQ 384 1609 779 1909 \nQ 1175 2209 1959 2209 \nL 2766 2209 \nL 2766 2266 \nQ 2766 2663 2505 2880 \nQ 2244 3097 1772 3097 \nQ 1472 3097 1187 3025 \nQ 903 2953 641 2809 \nL 641 3341 \nQ 956 3463 1253 3523 \nQ 1550 3584 1831 3584 \nQ 2591 3584 2966 3190 \nQ 3341 2797 3341 1997 \nz\n\" transform=\"scale(0.015625)\"/>\n       <path id=\"DejaVuSans-67\" d=\"M 2906 1791 \nQ 2906 2416 2648 2759 \nQ 2391 3103 1925 3103 \nQ 1463 3103 1205 2759 \nQ 947 2416 947 1791 \nQ 947 1169 1205 825 \nQ 1463 481 1925 481 \nQ 2391 481 2648 825 \nQ 2906 1169 2906 1791 \nz\nM 3481 434 \nQ 3481 -459 3084 -895 \nQ 2688 -1331 1869 -1331 \nQ 1566 -1331 1297 -1286 \nQ 1028 -1241 775 -1147 \nL 775 -588 \nQ 1028 -725 1275 -790 \nQ 1522 -856 1778 -856 \nQ 2344 -856 2625 -561 \nQ 2906 -266 2906 331 \nL 2906 616 \nQ 2728 306 2450 153 \nQ 2172 0 1784 0 \nQ 1141 0 747 490 \nQ 353 981 353 1791 \nQ 353 2603 747 3093 \nQ 1141 3584 1784 3584 \nQ 2172 3584 2450 3431 \nQ 2728 3278 2906 2969 \nL 2906 3500 \nL 3481 3500 \nL 3481 434 \nz\n\" transform=\"scale(0.015625)\"/>\n      </defs>\n      <use xlink:href=\"#DejaVuSans-74\"/>\n      <use xlink:href=\"#DejaVuSans-61\" transform=\"translate(39.208984 0)\"/>\n      <use xlink:href=\"#DejaVuSans-72\" transform=\"translate(100.488281 0)\"/>\n      <use xlink:href=\"#DejaVuSans-67\" transform=\"translate(139.851562 0)\"/>\n      <use xlink:href=\"#DejaVuSans-65\" transform=\"translate(203.328125 0)\"/>\n      <use xlink:href=\"#DejaVuSans-74\" transform=\"translate(264.851562 0)\"/>\n     </g>\n    </g>\n   </g>\n  </g>\n </g>\n <defs>\n  <clipPath id=\"p4196764b90\">\n   <rect x=\"52.375\" y=\"7.2\" width=\"195.3\" height=\"138.6\"/>\n  </clipPath>\n </defs>\n <defs>\n  <pattern id=\"h56958fea40\" patternUnits=\"userSpaceOnUse\" x=\"0\" y=\"0\" width=\"72\" height=\"72\">\n   <rect x=\"0\" y=\"0\" width=\"73\" height=\"73\" fill=\"#ff7f0e\"/>\n   <path d=\"M -36 36 \nL 36 -36 \nM -24 48 \nL 48 -24 \nM -12 60 \nL 60 -12 \nM 0 72 \nL 72 0 \nM 12 84 \nL 84 12 \nM 24 96 \nL 96 24 \nM 36 108 \nL 108 36 \n\" style=\"fill: #000000; stroke: #000000; stroke-width: 1.0; stroke-linecap: butt; stroke-linejoin: miter\"/>\n  </pattern>\n </defs>\n</svg>\n"
          },
          "metadata": {}
        }
      ]
    },
    {
      "cell_type": "markdown",
      "source": [
        "## Obtenção do vocabulário"
      ],
      "metadata": {
        "id": "rcDNXlsflnNY"
      }
    },
    {
      "cell_type": "code",
      "source": [
        "# Cria o vocabulário a partir das frases de origem (Inglês).\n",
        "# Parâmetros:\n",
        "# - source: lista de frases tokenizadas (cada frase é uma lista de palavras).\n",
        "# - min_freq=2: apenas palavras que aparecem pelo menos 2 vezes entram no vocabulário.\n",
        "\n",
        "# - reserved_tokens: tokens especiais reservados usados no treinamento:\n",
        "#     <pad> = padding (preenchimento para frases curtas)\n",
        "#     <bos> = beginning of sentence (início da frase)\n",
        "#     <eos> = end of sentence (fim da frase)\n",
        "src_vocab = d2l.Vocab(source, min_freq=2,\n",
        "                      reserved_tokens=['<pad>', '<bos>', '<eos>'])\n",
        "\n",
        "# Mostra o tamanho do vocabulário em inglês (número de tokens únicos, incluindo os especiais)\n",
        "len(src_vocab)\n"
      ],
      "metadata": {
        "colab": {
          "base_uri": "https://localhost:8080/"
        },
        "id": "mngqwlpsB0kA",
        "outputId": "d45cdc79-5de2-4b78-ce18-b19c45580bf5"
      },
      "execution_count": 35,
      "outputs": [
        {
          "output_type": "execute_result",
          "data": {
            "text/plain": [
              "10012"
            ]
          },
          "metadata": {},
          "execution_count": 35
        }
      ]
    },
    {
      "cell_type": "code",
      "source": [
        "def truncate_pad(line, num_steps, padding_token):\n",
        "    \"\"\"\n",
        "    Trunca ou aplica padding em uma sequência de tokens.\n",
        "\n",
        "    Parâmetros\n",
        "    ----------\n",
        "    line : list[int]\n",
        "        Sequência de índices de tokens (ex.: frase já convertida para IDs do vocabulário).\n",
        "    num_steps : int\n",
        "        Tamanho fixo desejado para a sequência.\n",
        "    padding_token : int\n",
        "        Índice do token <pad>, usado para preencher a sequência caso seja menor.\n",
        "\n",
        "    Retorna\n",
        "    -------\n",
        "    list[int]\n",
        "        Sequência ajustada para o comprimento num_steps:\n",
        "        - Se a sequência original for maior, é cortada (truncate).\n",
        "        - Se for menor, é completada com tokens de padding (pad).\n",
        "    \"\"\"\n",
        "\n",
        "    if len(line) > num_steps:\n",
        "        # Se a frase for muito longa, corta para o tamanho máximo permitido\n",
        "        return line[:num_steps]\n",
        "    # Se for curta, completa com o token <pad> até atingir num_steps\n",
        "    return line + [padding_token] * (num_steps - len(line))\n",
        "\n",
        "truncate_pad(src_vocab[source[0]], 10, src_vocab['<pad>'])\n"
      ],
      "metadata": {
        "colab": {
          "base_uri": "https://localhost:8080/"
        },
        "id": "M3AkEMTqB3zn",
        "outputId": "773126ec-f4d5-4d03-98ee-3a362ada2f21"
      },
      "execution_count": 36,
      "outputs": [
        {
          "output_type": "execute_result",
          "data": {
            "text/plain": [
              "[3919, 80, 208, 208, 208, 208, 208, 208, 208, 208]"
            ]
          },
          "metadata": {},
          "execution_count": 36
        }
      ]
    },
    {
      "cell_type": "code",
      "source": [
        "def build_array_nmt(lines, vocab, num_steps):\n",
        "    \"\"\"\n",
        "    Transforma sequências de texto em batches (tensores) prontos para o modelo de tradução.\n",
        "\n",
        "    Parâmetros\n",
        "    ----------\n",
        "    lines : list[list[str]]\n",
        "        Lista de frases, onde cada frase já está tokenizada (ex.: [[\"go\", \".\"], [\"hi\", \".\"]]).\n",
        "    vocab : d2l.Vocab\n",
        "        Vocabulário (mapeia tokens para índices numéricos).\n",
        "    num_steps : int\n",
        "        Tamanho fixo para cada sequência (após truncamento ou padding).\n",
        "\n",
        "    Retorna\n",
        "    -------\n",
        "    array : tf.Tensor\n",
        "        Tensor 2D (batch_size x num_steps) com os índices dos tokens.\n",
        "    valid_len : tf.Tensor\n",
        "        Tensor 1D indicando o comprimento real de cada sequência\n",
        "        (desconsiderando os tokens <pad>).\n",
        "    \"\"\"\n",
        "\n",
        "    # Converte cada frase (lista de palavras) para IDs do vocabulário\n",
        "    lines = [vocab[l] for l in lines]\n",
        "\n",
        "    # Adiciona o token especial <eos> (end of sentence) no final de cada frase\n",
        "    lines = [l + [vocab['<eos>']] for l in lines]\n",
        "\n",
        "    # Para cada frase: aplica truncamento/padding para ter tamanho fixo (num_steps)\n",
        "    array = tf.constant([\n",
        "        truncate_pad(l, num_steps, vocab['<pad>']) for l in lines\n",
        "    ])\n",
        "\n",
        "    # Calcula o comprimento \"válido\" de cada frase (número de tokens ≠ <pad>)\n",
        "    valid_len = tf.reduce_sum(\n",
        "        tf.cast(array != vocab['<pad>'], tf.int32), 1\n",
        "    )\n",
        "\n",
        "    return array, valid_len\n"
      ],
      "metadata": {
        "id": "ekVcq7ENB6_z"
      },
      "execution_count": 37,
      "outputs": []
    },
    {
      "cell_type": "code",
      "source": [
        "def load_data_nmt(batch_size, num_steps, num_examples=600):\n",
        "    \"\"\"\n",
        "    Carrega e prepara o conjunto de dados de tradução automática (NMT - Neural Machine Translation).\n",
        "\n",
        "    Parâmetros\n",
        "    ----------\n",
        "    batch_size : int\n",
        "        Quantidade de exemplos por minibatch.\n",
        "    num_steps : int\n",
        "        Comprimento fixo das sequências (após truncamento/padding).\n",
        "    num_examples : int, opcional\n",
        "        Número de exemplos (pares de frases) a serem utilizados.\n",
        "\n",
        "    Retorna\n",
        "    -------\n",
        "    data_iter : tf.data.Dataset\n",
        "        Iterador de minibatches contendo:\n",
        "            - src_array: frases em inglês (com padding/truncamento)\n",
        "            - src_valid_len: comprimentos reais (sem <pad>) das frases em inglês\n",
        "            - tgt_array: frases em francês (com padding/truncamento)\n",
        "            - tgt_valid_len: comprimentos reais (sem <pad>) das frases em francês\n",
        "    src_vocab : d2l.Vocab\n",
        "        Vocabulário do idioma de origem (inglês).\n",
        "    tgt_vocab : d2l.Vocab\n",
        "        Vocabulário do idioma de destino (francês).\n",
        "    \"\"\"\n",
        "\n",
        "    # 1. Lê o dataset bruto (fra-eng) e aplica pré-processamento\n",
        "    text = preprocess_nmt(read_data_nmt())\n",
        "\n",
        "    # 2. Tokeniza as frases (separa em listas de palavras)\n",
        "    source, target = tokenize_nmt(text, num_examples)\n",
        "\n",
        "    # 3. Cria vocabulário para inglês e francês\n",
        "    #    - min_freq=2, descarta palavras raras (aparecem < 2 vezes)\n",
        "    #    - reserved_tokens, adiciona tokens especiais (<pad>, <bos>, <eos>)\n",
        "    src_vocab = d2l.Vocab(source, min_freq=2,\n",
        "                          reserved_tokens=['<pad>', '<bos>', '<eos>'])\n",
        "    tgt_vocab = d2l.Vocab(target, min_freq=2,\n",
        "                          reserved_tokens=['<pad>', '<bos>', '<eos>'])\n",
        "\n",
        "    # 4. Converte frases para arrays fixos (com <eos>, truncamento e padding)\n",
        "    src_array, src_valid_len = build_array_nmt(source, src_vocab, num_steps)\n",
        "    tgt_array, tgt_valid_len = build_array_nmt(target, tgt_vocab, num_steps)\n",
        "\n",
        "    # 5. Junta tudo em um único dataset para facilitar o batching\n",
        "    data_arrays = (src_array, src_valid_len, tgt_array, tgt_valid_len)\n",
        "    data_iter = d2l.load_array(data_arrays, batch_size)\n",
        "\n",
        "    # 6. Retorna iterador de dados + vocabulários\n",
        "    return data_iter, src_vocab, tgt_vocab\n",
        "\n",
        "\n",
        "\n"
      ],
      "metadata": {
        "id": "moKJJFQkB-D_"
      },
      "execution_count": 38,
      "outputs": []
    },
    {
      "cell_type": "code",
      "source": [
        "# Carrega os dados de tradução com batch_size=2 e comprimento fixo de 8 tokens\n",
        "train_iter, src_vocab, tgt_vocab = load_data_nmt(batch_size=2, num_steps=8, num_examples=100)\n",
        "\n",
        "# Itera sobre os batches do dataset\n",
        "for X, X_valid_len, Y, Y_valid_len in train_iter:\n",
        "\n",
        "    # X: tensor das frases em inglês (convertidas para IDs)\n",
        "    print('X:', tf.cast(X, tf.int32))\n",
        "\n",
        "    # X_valid_len: comprimento real de cada frase em X (desconsiderando <pad>)\n",
        "    print('Comprimentos válidos de X:', X_valid_len)\n",
        "\n",
        "    # Y: tensor das frases em francês (convertidas para IDs)\n",
        "    print('Y:', tf.cast(Y, tf.int32))\n",
        "\n",
        "    # Y_valid_len: comprimento real de cada frase em Y (desconsiderando <pad>)\n",
        "    print('Comprimentos válidos de Y:', Y_valid_len)\n",
        "\n",
        "    # Interrompe o loop após o primeiro batch\n",
        "    break\n"
      ],
      "metadata": {
        "colab": {
          "base_uri": "https://localhost:8080/"
        },
        "id": "AclLoIOTCBBd",
        "outputId": "b121d62b-0ebb-407d-f85c-880928cc978d"
      },
      "execution_count": 39,
      "outputs": [
        {
          "output_type": "stream",
          "name": "stdout",
          "text": [
            "X: tf.Tensor(\n",
            "[[ 8 13  1  3  4  4  4  4]\n",
            " [ 9 25  1  3  4  4  4  4]], shape=(2, 8), dtype=int32)\n",
            "Comprimentos válidos de X: tf.Tensor([4 4], shape=(2,), dtype=int32)\n",
            "Y: tf.Tensor(\n",
            "[[34  5  0  3  4  4  4  4]\n",
            " [ 5  0  3  4  4  4  4  4]], shape=(2, 8), dtype=int32)\n",
            "Comprimentos válidos de Y: tf.Tensor([4 3], shape=(2,), dtype=int32)\n"
          ]
        }
      ]
    },
    {
      "cell_type": "markdown",
      "source": [
        "## Treinamento do modelo"
      ],
      "metadata": {
        "id": "OLbotqpMnNV_"
      }
    },
    {
      "cell_type": "code",
      "source": [
        "\n",
        "# Preparação do dataset\n",
        "\n",
        "batch_size = 64\n",
        "num_steps = 10\n",
        "train_iter, src_vocab, tgt_vocab = d2l.load_data_nmt(batch_size, num_steps, num_examples=600)\n",
        "\n",
        "\n",
        "# Definição do Encoder e Decoder\n",
        "\n",
        "class Encoder(tf.keras.Model):\n",
        "    def __init__(self, vocab_size, embed_size, hidden_size):\n",
        "        super().__init__()\n",
        "        self.embedding = layers.Embedding(vocab_size, embed_size)\n",
        "        self.rnn = layers.GRU(hidden_size, return_sequences=True, return_state=True)\n",
        "\n",
        "    def call(self, X, hidden_state):\n",
        "        X = self.embedding(X)\n",
        "        output, state = self.rnn(X, initial_state=hidden_state)\n",
        "        return output, state\n",
        "\n",
        "    def init_state(self, batch_size):\n",
        "        return tf.zeros((batch_size, self.rnn.units))\n",
        "\n",
        "class Decoder(tf.keras.Model):\n",
        "    def __init__(self, vocab_size, embed_size, hidden_size):\n",
        "        super().__init__()\n",
        "        self.embedding = layers.Embedding(vocab_size, embed_size)\n",
        "        self.rnn = layers.GRU(hidden_size, return_sequences=True, return_state=True)\n",
        "        self.dense = layers.Dense(vocab_size)\n",
        "\n",
        "    def call(self, X, state):\n",
        "        X = self.embedding(X)\n",
        "        output, state = self.rnn(X, initial_state=state)\n",
        "        output = self.dense(output)\n",
        "        return output, state\n",
        "\n",
        "\n",
        "# Hiperparâmetros\n",
        "\n",
        "embed_size = 32\n",
        "hidden_size = 64\n",
        "lr = 0.005\n",
        "num_epochs = 30\n",
        "\n",
        "encoder = Encoder(len(src_vocab), embed_size, hidden_size)\n",
        "decoder = Decoder(len(tgt_vocab), embed_size, hidden_size)\n",
        "\n",
        "optimizer = tf.keras.optimizers.Adam(learning_rate=lr)\n",
        "loss_object = tf.keras.losses.SparseCategoricalCrossentropy(from_logits=True, reduction='none')\n",
        "\n",
        "\n",
        "# Função de perda mascarada\n",
        "\n",
        "def masked_loss(real, pred):\n",
        "    mask = tf.cast(real != tgt_vocab['<pad>'], dtype=tf.float32)\n",
        "    loss_ = loss_object(real, pred)\n",
        "    loss_ *= mask\n",
        "    return tf.reduce_mean(loss_)\n",
        "\n",
        "\n",
        "# Função de treinamento por batch\n",
        "\n",
        "def train_step(X, Y):\n",
        "    batch_size = tf.shape(X)[0]\n",
        "    with tf.GradientTape() as tape:\n",
        "        hidden = encoder.init_state(batch_size)\n",
        "        encoder_output, hidden = encoder(X, hidden)\n",
        "        decoder_input = Y[:, :-1]  # todos exceto <eos>\n",
        "        decoder_target = Y[:, 1:]  # todos exceto <bos>\n",
        "        decoder_output, _ = decoder(decoder_input, hidden)\n",
        "        loss = masked_loss(decoder_target, decoder_output)\n",
        "\n",
        "    variables = encoder.trainable_variables + decoder.trainable_variables\n",
        "    gradients = tape.gradient(loss, variables)\n",
        "    optimizer.apply_gradients(zip(gradients, variables))\n",
        "\n",
        "\n",
        "    # Cálculo de Acurácia e F1-score token a token\n",
        "\n",
        "    pred_ids = tf.argmax(decoder_output, axis=-1)\n",
        "\n",
        "    # Corrigindo tipo para evitar erro de comparação\n",
        "    pred_ids = tf.cast(pred_ids, tf.int32)\n",
        "    decoder_target = tf.cast(decoder_target, tf.int32)\n",
        "\n",
        "    mask = tf.cast(decoder_target != tgt_vocab['<pad>'], tf.bool)\n",
        "\n",
        "    # Acurácia token a token\n",
        "    correct = tf.boolean_mask(pred_ids, mask) == tf.boolean_mask(decoder_target, mask)\n",
        "    accuracy = tf.reduce_mean(tf.cast(correct, tf.float32)).numpy()\n",
        "\n",
        "    # F1-score token a token (macro)\n",
        "    y_true = tf.boolean_mask(decoder_target, mask).numpy().flatten()\n",
        "    y_pred = tf.boolean_mask(pred_ids, mask).numpy().flatten()\n",
        "    f1 = f1_score(y_true, y_pred, average='macro')\n",
        "\n",
        "    return loss, accuracy, f1\n",
        "\n",
        "\n",
        "# Treinamento principal\n",
        "\n",
        "loss_history, acc_history, f1_history = [], [], []\n",
        "\n",
        "for epoch in range(num_epochs):\n",
        "    total_loss = 0\n",
        "    total_acc = 0\n",
        "    total_f1 = 0\n",
        "    batch_count = 0\n",
        "\n",
        "    for X, X_valid_len, Y, Y_valid_len in train_iter:\n",
        "        batch_loss, batch_acc, batch_f1 = train_step(X, Y)\n",
        "        total_loss += batch_loss\n",
        "        total_acc += batch_acc\n",
        "        total_f1 += batch_f1\n",
        "        batch_count += 1\n",
        "\n",
        "    loss_history.append(total_loss / batch_count)\n",
        "    acc_history.append(total_acc / batch_count)\n",
        "    f1_history.append(total_f1 / batch_count)\n",
        "\n",
        "    print(f'Epoch {epoch+1}/{num_epochs} | Loss: {loss_history[-1]:.4f} | Accuracy: {acc_history[-1]:.4f} | F1-score: {f1_history[-1]:.4f}')\n",
        "\n",
        "\n",
        "# Plotando métricas\n",
        "\n",
        "plt.figure(figsize=(10,5))\n",
        "plt.plot(range(1,num_epochs+1), loss_history, marker='o', label='Loss')\n",
        "plt.plot(range(1,num_epochs+1), acc_history, marker='x', label='Accuracy')\n",
        "plt.plot(range(1,num_epochs+1), f1_history, marker='s', label='F1-score')\n",
        "plt.xlabel('Época')\n",
        "plt.ylabel('Valor')\n",
        "plt.title('Métricas de avaliação durante o treinamento')\n",
        "plt.grid(True)\n",
        "plt.legend()\n",
        "plt.show()\n"
      ],
      "metadata": {
        "colab": {
          "base_uri": "https://localhost:8080/",
          "height": 1000
        },
        "id": "Ztu9B2-jnQZ5",
        "outputId": "0e162543-1066-4954-8dff-44c3be85e6f0"
      },
      "execution_count": 40,
      "outputs": [
        {
          "output_type": "stream",
          "name": "stdout",
          "text": [
            "Epoch 1/30 | Loss: 1.5047 | Accuracy: 0.2818 | F1-score: 0.0110\n",
            "Epoch 2/30 | Loss: 0.9691 | Accuracy: 0.3779 | F1-score: 0.0240\n",
            "Epoch 3/30 | Loss: 0.8303 | Accuracy: 0.4910 | F1-score: 0.0416\n",
            "Epoch 4/30 | Loss: 0.7546 | Accuracy: 0.5434 | F1-score: 0.0601\n",
            "Epoch 5/30 | Loss: 0.7233 | Accuracy: 0.5657 | F1-score: 0.0563\n",
            "Epoch 6/30 | Loss: 0.6905 | Accuracy: 0.6166 | F1-score: 0.0730\n",
            "Epoch 7/30 | Loss: 0.6500 | Accuracy: 0.6426 | F1-score: 0.0817\n",
            "Epoch 8/30 | Loss: 0.6090 | Accuracy: 0.6571 | F1-score: 0.0848\n",
            "Epoch 9/30 | Loss: 0.5820 | Accuracy: 0.6592 | F1-score: 0.0900\n",
            "Epoch 10/30 | Loss: 0.5671 | Accuracy: 0.6566 | F1-score: 0.0858\n",
            "Epoch 11/30 | Loss: 0.5355 | Accuracy: 0.6679 | F1-score: 0.0915\n",
            "Epoch 12/30 | Loss: 0.5136 | Accuracy: 0.6665 | F1-score: 0.0949\n",
            "Epoch 13/30 | Loss: 0.4931 | Accuracy: 0.6811 | F1-score: 0.1204\n",
            "Epoch 14/30 | Loss: 0.4723 | Accuracy: 0.6744 | F1-score: 0.1143\n",
            "Epoch 15/30 | Loss: 0.4587 | Accuracy: 0.6814 | F1-score: 0.1252\n",
            "Epoch 16/30 | Loss: 0.4517 | Accuracy: 0.6916 | F1-score: 0.1618\n",
            "Epoch 17/30 | Loss: 0.4316 | Accuracy: 0.6946 | F1-score: 0.1578\n",
            "Epoch 18/30 | Loss: 0.4212 | Accuracy: 0.6981 | F1-score: 0.1663\n",
            "Epoch 19/30 | Loss: 0.4058 | Accuracy: 0.7097 | F1-score: 0.1816\n",
            "Epoch 20/30 | Loss: 0.3928 | Accuracy: 0.7115 | F1-score: 0.1990\n",
            "Epoch 21/30 | Loss: 0.3782 | Accuracy: 0.7189 | F1-score: 0.2138\n",
            "Epoch 22/30 | Loss: 0.3717 | Accuracy: 0.7278 | F1-score: 0.2310\n",
            "Epoch 23/30 | Loss: 0.3616 | Accuracy: 0.7335 | F1-score: 0.2487\n",
            "Epoch 24/30 | Loss: 0.3540 | Accuracy: 0.7389 | F1-score: 0.2493\n",
            "Epoch 25/30 | Loss: 0.3418 | Accuracy: 0.7388 | F1-score: 0.2651\n",
            "Epoch 26/30 | Loss: 0.3306 | Accuracy: 0.7419 | F1-score: 0.2652\n",
            "Epoch 27/30 | Loss: 0.3248 | Accuracy: 0.7483 | F1-score: 0.2771\n",
            "Epoch 28/30 | Loss: 0.3200 | Accuracy: 0.7528 | F1-score: 0.2950\n",
            "Epoch 29/30 | Loss: 0.3106 | Accuracy: 0.7575 | F1-score: 0.2933\n",
            "Epoch 30/30 | Loss: 0.3013 | Accuracy: 0.7605 | F1-score: 0.3019\n"
          ]
        },
        {
          "output_type": "display_data",
          "data": {
            "text/plain": [
              "<Figure size 1000x500 with 1 Axes>"
            ],
            "image/svg+xml": "<?xml version=\"1.0\" encoding=\"utf-8\" standalone=\"no\"?>\n<!DOCTYPE svg PUBLIC \"-//W3C//DTD SVG 1.1//EN\"\n  \"http://www.w3.org/Graphics/SVG/1.1/DTD/svg11.dtd\">\n<svg xmlns:xlink=\"http://www.w3.org/1999/xlink\" width=\"608.98125pt\" height=\"339.025625pt\" viewBox=\"0 0 608.98125 339.025625\" xmlns=\"http://www.w3.org/2000/svg\" version=\"1.1\">\n <metadata>\n  <rdf:RDF xmlns:dc=\"http://purl.org/dc/elements/1.1/\" xmlns:cc=\"http://creativecommons.org/ns#\" xmlns:rdf=\"http://www.w3.org/1999/02/22-rdf-syntax-ns#\">\n   <cc:Work>\n    <dc:type rdf:resource=\"http://purl.org/dc/dcmitype/StillImage\"/>\n    <dc:date>2025-09-18T14:04:31.530506</dc:date>\n    <dc:format>image/svg+xml</dc:format>\n    <dc:creator>\n     <cc:Agent>\n      <dc:title>Matplotlib v3.10.0, https://matplotlib.org/</dc:title>\n     </cc:Agent>\n    </dc:creator>\n   </cc:Work>\n  </rdf:RDF>\n </metadata>\n <defs>\n  <style type=\"text/css\">*{stroke-linejoin: round; stroke-linecap: butt}</style>\n </defs>\n <g id=\"figure_1\">\n  <g id=\"patch_1\">\n   <path d=\"M 0 339.025625 \nL 608.98125 339.025625 \nL 608.98125 0 \nL 0 0 \nz\n\" style=\"fill: #ffffff\"/>\n  </g>\n  <g id=\"axes_1\">\n   <g id=\"patch_2\">\n    <path d=\"M 43.78125 299.81625 \nL 601.78125 299.81625 \nL 601.78125 22.61625 \nL 43.78125 22.61625 \nz\n\" style=\"fill: #ffffff\"/>\n   </g>\n   <g id=\"matplotlib.axis_1\">\n    <g id=\"xtick_1\">\n     <g id=\"line2d_1\">\n      <path d=\"M 51.652723 299.81625 \nL 51.652723 22.61625 \n\" clip-path=\"url(#pf66eca9551)\" style=\"fill: none; stroke: #b0b0b0; stroke-width: 0.8; stroke-linecap: square\"/>\n     </g>\n     <g id=\"line2d_2\">\n      <defs>\n       <path id=\"m00edd4c922\" d=\"M 0 0 \nL 0 3.5 \n\" style=\"stroke: #000000; stroke-width: 0.8\"/>\n      </defs>\n      <g>\n       <use xlink:href=\"#m00edd4c922\" x=\"51.652723\" y=\"299.81625\" style=\"stroke: #000000; stroke-width: 0.8\"/>\n      </g>\n     </g>\n     <g id=\"text_1\">\n      <!-- 0 -->\n      <g transform=\"translate(48.471473 314.414688) scale(0.1 -0.1)\">\n       <defs>\n        <path id=\"DejaVuSans-30\" d=\"M 2034 4250 \nQ 1547 4250 1301 3770 \nQ 1056 3291 1056 2328 \nQ 1056 1369 1301 889 \nQ 1547 409 2034 409 \nQ 2525 409 2770 889 \nQ 3016 1369 3016 2328 \nQ 3016 3291 2770 3770 \nQ 2525 4250 2034 4250 \nz\nM 2034 4750 \nQ 2819 4750 3233 4129 \nQ 3647 3509 3647 2328 \nQ 3647 1150 3233 529 \nQ 2819 -91 2034 -91 \nQ 1250 -91 836 529 \nQ 422 1150 422 2328 \nQ 422 3509 836 4129 \nQ 1250 4750 2034 4750 \nz\n\" transform=\"scale(0.015625)\"/>\n       </defs>\n       <use xlink:href=\"#DejaVuSans-30\"/>\n      </g>\n     </g>\n    </g>\n    <g id=\"xtick_2\">\n     <g id=\"line2d_3\">\n      <path d=\"M 139.113538 299.81625 \nL 139.113538 22.61625 \n\" clip-path=\"url(#pf66eca9551)\" style=\"fill: none; stroke: #b0b0b0; stroke-width: 0.8; stroke-linecap: square\"/>\n     </g>\n     <g id=\"line2d_4\">\n      <g>\n       <use xlink:href=\"#m00edd4c922\" x=\"139.113538\" y=\"299.81625\" style=\"stroke: #000000; stroke-width: 0.8\"/>\n      </g>\n     </g>\n     <g id=\"text_2\">\n      <!-- 5 -->\n      <g transform=\"translate(135.932288 314.414688) scale(0.1 -0.1)\">\n       <defs>\n        <path id=\"DejaVuSans-35\" d=\"M 691 4666 \nL 3169 4666 \nL 3169 4134 \nL 1269 4134 \nL 1269 2991 \nQ 1406 3038 1543 3061 \nQ 1681 3084 1819 3084 \nQ 2600 3084 3056 2656 \nQ 3513 2228 3513 1497 \nQ 3513 744 3044 326 \nQ 2575 -91 1722 -91 \nQ 1428 -91 1123 -41 \nQ 819 9 494 109 \nL 494 744 \nQ 775 591 1075 516 \nQ 1375 441 1709 441 \nQ 2250 441 2565 725 \nQ 2881 1009 2881 1497 \nQ 2881 1984 2565 2268 \nQ 2250 2553 1709 2553 \nQ 1456 2553 1204 2497 \nQ 953 2441 691 2322 \nL 691 4666 \nz\n\" transform=\"scale(0.015625)\"/>\n       </defs>\n       <use xlink:href=\"#DejaVuSans-35\"/>\n      </g>\n     </g>\n    </g>\n    <g id=\"xtick_3\">\n     <g id=\"line2d_5\">\n      <path d=\"M 226.574353 299.81625 \nL 226.574353 22.61625 \n\" clip-path=\"url(#pf66eca9551)\" style=\"fill: none; stroke: #b0b0b0; stroke-width: 0.8; stroke-linecap: square\"/>\n     </g>\n     <g id=\"line2d_6\">\n      <g>\n       <use xlink:href=\"#m00edd4c922\" x=\"226.574353\" y=\"299.81625\" style=\"stroke: #000000; stroke-width: 0.8\"/>\n      </g>\n     </g>\n     <g id=\"text_3\">\n      <!-- 10 -->\n      <g transform=\"translate(220.211853 314.414688) scale(0.1 -0.1)\">\n       <defs>\n        <path id=\"DejaVuSans-31\" d=\"M 794 531 \nL 1825 531 \nL 1825 4091 \nL 703 3866 \nL 703 4441 \nL 1819 4666 \nL 2450 4666 \nL 2450 531 \nL 3481 531 \nL 3481 0 \nL 794 0 \nL 794 531 \nz\n\" transform=\"scale(0.015625)\"/>\n       </defs>\n       <use xlink:href=\"#DejaVuSans-31\"/>\n       <use xlink:href=\"#DejaVuSans-30\" transform=\"translate(63.623047 0)\"/>\n      </g>\n     </g>\n    </g>\n    <g id=\"xtick_4\">\n     <g id=\"line2d_7\">\n      <path d=\"M 314.035168 299.81625 \nL 314.035168 22.61625 \n\" clip-path=\"url(#pf66eca9551)\" style=\"fill: none; stroke: #b0b0b0; stroke-width: 0.8; stroke-linecap: square\"/>\n     </g>\n     <g id=\"line2d_8\">\n      <g>\n       <use xlink:href=\"#m00edd4c922\" x=\"314.035168\" y=\"299.81625\" style=\"stroke: #000000; stroke-width: 0.8\"/>\n      </g>\n     </g>\n     <g id=\"text_4\">\n      <!-- 15 -->\n      <g transform=\"translate(307.672668 314.414688) scale(0.1 -0.1)\">\n       <use xlink:href=\"#DejaVuSans-31\"/>\n       <use xlink:href=\"#DejaVuSans-35\" transform=\"translate(63.623047 0)\"/>\n      </g>\n     </g>\n    </g>\n    <g id=\"xtick_5\">\n     <g id=\"line2d_9\">\n      <path d=\"M 401.495984 299.81625 \nL 401.495984 22.61625 \n\" clip-path=\"url(#pf66eca9551)\" style=\"fill: none; stroke: #b0b0b0; stroke-width: 0.8; stroke-linecap: square\"/>\n     </g>\n     <g id=\"line2d_10\">\n      <g>\n       <use xlink:href=\"#m00edd4c922\" x=\"401.495984\" y=\"299.81625\" style=\"stroke: #000000; stroke-width: 0.8\"/>\n      </g>\n     </g>\n     <g id=\"text_5\">\n      <!-- 20 -->\n      <g transform=\"translate(395.133484 314.414688) scale(0.1 -0.1)\">\n       <defs>\n        <path id=\"DejaVuSans-32\" d=\"M 1228 531 \nL 3431 531 \nL 3431 0 \nL 469 0 \nL 469 531 \nQ 828 903 1448 1529 \nQ 2069 2156 2228 2338 \nQ 2531 2678 2651 2914 \nQ 2772 3150 2772 3378 \nQ 2772 3750 2511 3984 \nQ 2250 4219 1831 4219 \nQ 1534 4219 1204 4116 \nQ 875 4013 500 3803 \nL 500 4441 \nQ 881 4594 1212 4672 \nQ 1544 4750 1819 4750 \nQ 2544 4750 2975 4387 \nQ 3406 4025 3406 3419 \nQ 3406 3131 3298 2873 \nQ 3191 2616 2906 2266 \nQ 2828 2175 2409 1742 \nQ 1991 1309 1228 531 \nz\n\" transform=\"scale(0.015625)\"/>\n       </defs>\n       <use xlink:href=\"#DejaVuSans-32\"/>\n       <use xlink:href=\"#DejaVuSans-30\" transform=\"translate(63.623047 0)\"/>\n      </g>\n     </g>\n    </g>\n    <g id=\"xtick_6\">\n     <g id=\"line2d_11\">\n      <path d=\"M 488.956799 299.81625 \nL 488.956799 22.61625 \n\" clip-path=\"url(#pf66eca9551)\" style=\"fill: none; stroke: #b0b0b0; stroke-width: 0.8; stroke-linecap: square\"/>\n     </g>\n     <g id=\"line2d_12\">\n      <g>\n       <use xlink:href=\"#m00edd4c922\" x=\"488.956799\" y=\"299.81625\" style=\"stroke: #000000; stroke-width: 0.8\"/>\n      </g>\n     </g>\n     <g id=\"text_6\">\n      <!-- 25 -->\n      <g transform=\"translate(482.594299 314.414688) scale(0.1 -0.1)\">\n       <use xlink:href=\"#DejaVuSans-32\"/>\n       <use xlink:href=\"#DejaVuSans-35\" transform=\"translate(63.623047 0)\"/>\n      </g>\n     </g>\n    </g>\n    <g id=\"xtick_7\">\n     <g id=\"line2d_13\">\n      <path d=\"M 576.417614 299.81625 \nL 576.417614 22.61625 \n\" clip-path=\"url(#pf66eca9551)\" style=\"fill: none; stroke: #b0b0b0; stroke-width: 0.8; stroke-linecap: square\"/>\n     </g>\n     <g id=\"line2d_14\">\n      <g>\n       <use xlink:href=\"#m00edd4c922\" x=\"576.417614\" y=\"299.81625\" style=\"stroke: #000000; stroke-width: 0.8\"/>\n      </g>\n     </g>\n     <g id=\"text_7\">\n      <!-- 30 -->\n      <g transform=\"translate(570.055114 314.414688) scale(0.1 -0.1)\">\n       <defs>\n        <path id=\"DejaVuSans-33\" d=\"M 2597 2516 \nQ 3050 2419 3304 2112 \nQ 3559 1806 3559 1356 \nQ 3559 666 3084 287 \nQ 2609 -91 1734 -91 \nQ 1441 -91 1130 -33 \nQ 819 25 488 141 \nL 488 750 \nQ 750 597 1062 519 \nQ 1375 441 1716 441 \nQ 2309 441 2620 675 \nQ 2931 909 2931 1356 \nQ 2931 1769 2642 2001 \nQ 2353 2234 1838 2234 \nL 1294 2234 \nL 1294 2753 \nL 1863 2753 \nQ 2328 2753 2575 2939 \nQ 2822 3125 2822 3475 \nQ 2822 3834 2567 4026 \nQ 2313 4219 1838 4219 \nQ 1578 4219 1281 4162 \nQ 984 4106 628 3988 \nL 628 4550 \nQ 988 4650 1302 4700 \nQ 1616 4750 1894 4750 \nQ 2613 4750 3031 4423 \nQ 3450 4097 3450 3541 \nQ 3450 3153 3228 2886 \nQ 3006 2619 2597 2516 \nz\n\" transform=\"scale(0.015625)\"/>\n       </defs>\n       <use xlink:href=\"#DejaVuSans-33\"/>\n       <use xlink:href=\"#DejaVuSans-30\" transform=\"translate(63.623047 0)\"/>\n      </g>\n     </g>\n    </g>\n    <g id=\"text_8\">\n     <!-- Época -->\n     <g transform=\"translate(307.575 329.745937) scale(0.1 -0.1)\">\n      <defs>\n       <path id=\"DejaVuSans-c9\" d=\"M 628 4666 \nL 3578 4666 \nL 3578 4134 \nL 1259 4134 \nL 1259 2753 \nL 3481 2753 \nL 3481 2222 \nL 1259 2222 \nL 1259 531 \nL 3634 531 \nL 3634 0 \nL 628 0 \nL 628 4666 \nz\nM 2268 5921 \nL 2846 5921 \nL 2134 5096 \nL 1655 5096 \nL 2268 5921 \nz\n\" transform=\"scale(0.015625)\"/>\n       <path id=\"DejaVuSans-70\" d=\"M 1159 525 \nL 1159 -1331 \nL 581 -1331 \nL 581 3500 \nL 1159 3500 \nL 1159 2969 \nQ 1341 3281 1617 3432 \nQ 1894 3584 2278 3584 \nQ 2916 3584 3314 3078 \nQ 3713 2572 3713 1747 \nQ 3713 922 3314 415 \nQ 2916 -91 2278 -91 \nQ 1894 -91 1617 61 \nQ 1341 213 1159 525 \nz\nM 3116 1747 \nQ 3116 2381 2855 2742 \nQ 2594 3103 2138 3103 \nQ 1681 3103 1420 2742 \nQ 1159 2381 1159 1747 \nQ 1159 1113 1420 752 \nQ 1681 391 2138 391 \nQ 2594 391 2855 752 \nQ 3116 1113 3116 1747 \nz\n\" transform=\"scale(0.015625)\"/>\n       <path id=\"DejaVuSans-6f\" d=\"M 1959 3097 \nQ 1497 3097 1228 2736 \nQ 959 2375 959 1747 \nQ 959 1119 1226 758 \nQ 1494 397 1959 397 \nQ 2419 397 2687 759 \nQ 2956 1122 2956 1747 \nQ 2956 2369 2687 2733 \nQ 2419 3097 1959 3097 \nz\nM 1959 3584 \nQ 2709 3584 3137 3096 \nQ 3566 2609 3566 1747 \nQ 3566 888 3137 398 \nQ 2709 -91 1959 -91 \nQ 1206 -91 779 398 \nQ 353 888 353 1747 \nQ 353 2609 779 3096 \nQ 1206 3584 1959 3584 \nz\n\" transform=\"scale(0.015625)\"/>\n       <path id=\"DejaVuSans-63\" d=\"M 3122 3366 \nL 3122 2828 \nQ 2878 2963 2633 3030 \nQ 2388 3097 2138 3097 \nQ 1578 3097 1268 2742 \nQ 959 2388 959 1747 \nQ 959 1106 1268 751 \nQ 1578 397 2138 397 \nQ 2388 397 2633 464 \nQ 2878 531 3122 666 \nL 3122 134 \nQ 2881 22 2623 -34 \nQ 2366 -91 2075 -91 \nQ 1284 -91 818 406 \nQ 353 903 353 1747 \nQ 353 2603 823 3093 \nQ 1294 3584 2113 3584 \nQ 2378 3584 2631 3529 \nQ 2884 3475 3122 3366 \nz\n\" transform=\"scale(0.015625)\"/>\n       <path id=\"DejaVuSans-61\" d=\"M 2194 1759 \nQ 1497 1759 1228 1600 \nQ 959 1441 959 1056 \nQ 959 750 1161 570 \nQ 1363 391 1709 391 \nQ 2188 391 2477 730 \nQ 2766 1069 2766 1631 \nL 2766 1759 \nL 2194 1759 \nz\nM 3341 1997 \nL 3341 0 \nL 2766 0 \nL 2766 531 \nQ 2569 213 2275 61 \nQ 1981 -91 1556 -91 \nQ 1019 -91 701 211 \nQ 384 513 384 1019 \nQ 384 1609 779 1909 \nQ 1175 2209 1959 2209 \nL 2766 2209 \nL 2766 2266 \nQ 2766 2663 2505 2880 \nQ 2244 3097 1772 3097 \nQ 1472 3097 1187 3025 \nQ 903 2953 641 2809 \nL 641 3341 \nQ 956 3463 1253 3523 \nQ 1550 3584 1831 3584 \nQ 2591 3584 2966 3190 \nQ 3341 2797 3341 1997 \nz\n\" transform=\"scale(0.015625)\"/>\n      </defs>\n      <use xlink:href=\"#DejaVuSans-c9\"/>\n      <use xlink:href=\"#DejaVuSans-70\" transform=\"translate(63.183594 0)\"/>\n      <use xlink:href=\"#DejaVuSans-6f\" transform=\"translate(126.660156 0)\"/>\n      <use xlink:href=\"#DejaVuSans-63\" transform=\"translate(187.841797 0)\"/>\n      <use xlink:href=\"#DejaVuSans-61\" transform=\"translate(242.822266 0)\"/>\n     </g>\n    </g>\n   </g>\n   <g id=\"matplotlib.axis_2\">\n    <g id=\"ytick_1\">\n     <g id=\"line2d_15\">\n      <path d=\"M 43.78125 289.070621 \nL 601.78125 289.070621 \n\" clip-path=\"url(#pf66eca9551)\" style=\"fill: none; stroke: #b0b0b0; stroke-width: 0.8; stroke-linecap: square\"/>\n     </g>\n     <g id=\"line2d_16\">\n      <defs>\n       <path id=\"mefc81abf04\" d=\"M 0 0 \nL -3.5 0 \n\" style=\"stroke: #000000; stroke-width: 0.8\"/>\n      </defs>\n      <g>\n       <use xlink:href=\"#mefc81abf04\" x=\"43.78125\" y=\"289.070621\" style=\"stroke: #000000; stroke-width: 0.8\"/>\n      </g>\n     </g>\n     <g id=\"text_9\">\n      <!-- 0.0 -->\n      <g transform=\"translate(20.878125 292.86984) scale(0.1 -0.1)\">\n       <defs>\n        <path id=\"DejaVuSans-2e\" d=\"M 684 794 \nL 1344 794 \nL 1344 0 \nL 684 0 \nL 684 794 \nz\n\" transform=\"scale(0.015625)\"/>\n       </defs>\n       <use xlink:href=\"#DejaVuSans-30\"/>\n       <use xlink:href=\"#DejaVuSans-2e\" transform=\"translate(63.623047 0)\"/>\n       <use xlink:href=\"#DejaVuSans-30\" transform=\"translate(95.410156 0)\"/>\n      </g>\n     </g>\n    </g>\n    <g id=\"ytick_2\">\n     <g id=\"line2d_17\">\n      <path d=\"M 43.78125 255.328215 \nL 601.78125 255.328215 \n\" clip-path=\"url(#pf66eca9551)\" style=\"fill: none; stroke: #b0b0b0; stroke-width: 0.8; stroke-linecap: square\"/>\n     </g>\n     <g id=\"line2d_18\">\n      <g>\n       <use xlink:href=\"#mefc81abf04\" x=\"43.78125\" y=\"255.328215\" style=\"stroke: #000000; stroke-width: 0.8\"/>\n      </g>\n     </g>\n     <g id=\"text_10\">\n      <!-- 0.2 -->\n      <g transform=\"translate(20.878125 259.127433) scale(0.1 -0.1)\">\n       <use xlink:href=\"#DejaVuSans-30\"/>\n       <use xlink:href=\"#DejaVuSans-2e\" transform=\"translate(63.623047 0)\"/>\n       <use xlink:href=\"#DejaVuSans-32\" transform=\"translate(95.410156 0)\"/>\n      </g>\n     </g>\n    </g>\n    <g id=\"ytick_3\">\n     <g id=\"line2d_19\">\n      <path d=\"M 43.78125 221.585808 \nL 601.78125 221.585808 \n\" clip-path=\"url(#pf66eca9551)\" style=\"fill: none; stroke: #b0b0b0; stroke-width: 0.8; stroke-linecap: square\"/>\n     </g>\n     <g id=\"line2d_20\">\n      <g>\n       <use xlink:href=\"#mefc81abf04\" x=\"43.78125\" y=\"221.585808\" style=\"stroke: #000000; stroke-width: 0.8\"/>\n      </g>\n     </g>\n     <g id=\"text_11\">\n      <!-- 0.4 -->\n      <g transform=\"translate(20.878125 225.385027) scale(0.1 -0.1)\">\n       <defs>\n        <path id=\"DejaVuSans-34\" d=\"M 2419 4116 \nL 825 1625 \nL 2419 1625 \nL 2419 4116 \nz\nM 2253 4666 \nL 3047 4666 \nL 3047 1625 \nL 3713 1625 \nL 3713 1100 \nL 3047 1100 \nL 3047 0 \nL 2419 0 \nL 2419 1100 \nL 313 1100 \nL 313 1709 \nL 2253 4666 \nz\n\" transform=\"scale(0.015625)\"/>\n       </defs>\n       <use xlink:href=\"#DejaVuSans-30\"/>\n       <use xlink:href=\"#DejaVuSans-2e\" transform=\"translate(63.623047 0)\"/>\n       <use xlink:href=\"#DejaVuSans-34\" transform=\"translate(95.410156 0)\"/>\n      </g>\n     </g>\n    </g>\n    <g id=\"ytick_4\">\n     <g id=\"line2d_21\">\n      <path d=\"M 43.78125 187.843401 \nL 601.78125 187.843401 \n\" clip-path=\"url(#pf66eca9551)\" style=\"fill: none; stroke: #b0b0b0; stroke-width: 0.8; stroke-linecap: square\"/>\n     </g>\n     <g id=\"line2d_22\">\n      <g>\n       <use xlink:href=\"#mefc81abf04\" x=\"43.78125\" y=\"187.843401\" style=\"stroke: #000000; stroke-width: 0.8\"/>\n      </g>\n     </g>\n     <g id=\"text_12\">\n      <!-- 0.6 -->\n      <g transform=\"translate(20.878125 191.64262) scale(0.1 -0.1)\">\n       <defs>\n        <path id=\"DejaVuSans-36\" d=\"M 2113 2584 \nQ 1688 2584 1439 2293 \nQ 1191 2003 1191 1497 \nQ 1191 994 1439 701 \nQ 1688 409 2113 409 \nQ 2538 409 2786 701 \nQ 3034 994 3034 1497 \nQ 3034 2003 2786 2293 \nQ 2538 2584 2113 2584 \nz\nM 3366 4563 \nL 3366 3988 \nQ 3128 4100 2886 4159 \nQ 2644 4219 2406 4219 \nQ 1781 4219 1451 3797 \nQ 1122 3375 1075 2522 \nQ 1259 2794 1537 2939 \nQ 1816 3084 2150 3084 \nQ 2853 3084 3261 2657 \nQ 3669 2231 3669 1497 \nQ 3669 778 3244 343 \nQ 2819 -91 2113 -91 \nQ 1303 -91 875 529 \nQ 447 1150 447 2328 \nQ 447 3434 972 4092 \nQ 1497 4750 2381 4750 \nQ 2619 4750 2861 4703 \nQ 3103 4656 3366 4563 \nz\n\" transform=\"scale(0.015625)\"/>\n       </defs>\n       <use xlink:href=\"#DejaVuSans-30\"/>\n       <use xlink:href=\"#DejaVuSans-2e\" transform=\"translate(63.623047 0)\"/>\n       <use xlink:href=\"#DejaVuSans-36\" transform=\"translate(95.410156 0)\"/>\n      </g>\n     </g>\n    </g>\n    <g id=\"ytick_5\">\n     <g id=\"line2d_23\">\n      <path d=\"M 43.78125 154.100994 \nL 601.78125 154.100994 \n\" clip-path=\"url(#pf66eca9551)\" style=\"fill: none; stroke: #b0b0b0; stroke-width: 0.8; stroke-linecap: square\"/>\n     </g>\n     <g id=\"line2d_24\">\n      <g>\n       <use xlink:href=\"#mefc81abf04\" x=\"43.78125\" y=\"154.100994\" style=\"stroke: #000000; stroke-width: 0.8\"/>\n      </g>\n     </g>\n     <g id=\"text_13\">\n      <!-- 0.8 -->\n      <g transform=\"translate(20.878125 157.900213) scale(0.1 -0.1)\">\n       <defs>\n        <path id=\"DejaVuSans-38\" d=\"M 2034 2216 \nQ 1584 2216 1326 1975 \nQ 1069 1734 1069 1313 \nQ 1069 891 1326 650 \nQ 1584 409 2034 409 \nQ 2484 409 2743 651 \nQ 3003 894 3003 1313 \nQ 3003 1734 2745 1975 \nQ 2488 2216 2034 2216 \nz\nM 1403 2484 \nQ 997 2584 770 2862 \nQ 544 3141 544 3541 \nQ 544 4100 942 4425 \nQ 1341 4750 2034 4750 \nQ 2731 4750 3128 4425 \nQ 3525 4100 3525 3541 \nQ 3525 3141 3298 2862 \nQ 3072 2584 2669 2484 \nQ 3125 2378 3379 2068 \nQ 3634 1759 3634 1313 \nQ 3634 634 3220 271 \nQ 2806 -91 2034 -91 \nQ 1263 -91 848 271 \nQ 434 634 434 1313 \nQ 434 1759 690 2068 \nQ 947 2378 1403 2484 \nz\nM 1172 3481 \nQ 1172 3119 1398 2916 \nQ 1625 2713 2034 2713 \nQ 2441 2713 2670 2916 \nQ 2900 3119 2900 3481 \nQ 2900 3844 2670 4047 \nQ 2441 4250 2034 4250 \nQ 1625 4250 1398 4047 \nQ 1172 3844 1172 3481 \nz\n\" transform=\"scale(0.015625)\"/>\n       </defs>\n       <use xlink:href=\"#DejaVuSans-30\"/>\n       <use xlink:href=\"#DejaVuSans-2e\" transform=\"translate(63.623047 0)\"/>\n       <use xlink:href=\"#DejaVuSans-38\" transform=\"translate(95.410156 0)\"/>\n      </g>\n     </g>\n    </g>\n    <g id=\"ytick_6\">\n     <g id=\"line2d_25\">\n      <path d=\"M 43.78125 120.358587 \nL 601.78125 120.358587 \n\" clip-path=\"url(#pf66eca9551)\" style=\"fill: none; stroke: #b0b0b0; stroke-width: 0.8; stroke-linecap: square\"/>\n     </g>\n     <g id=\"line2d_26\">\n      <g>\n       <use xlink:href=\"#mefc81abf04\" x=\"43.78125\" y=\"120.358587\" style=\"stroke: #000000; stroke-width: 0.8\"/>\n      </g>\n     </g>\n     <g id=\"text_14\">\n      <!-- 1.0 -->\n      <g transform=\"translate(20.878125 124.157806) scale(0.1 -0.1)\">\n       <use xlink:href=\"#DejaVuSans-31\"/>\n       <use xlink:href=\"#DejaVuSans-2e\" transform=\"translate(63.623047 0)\"/>\n       <use xlink:href=\"#DejaVuSans-30\" transform=\"translate(95.410156 0)\"/>\n      </g>\n     </g>\n    </g>\n    <g id=\"ytick_7\">\n     <g id=\"line2d_27\">\n      <path d=\"M 43.78125 86.616181 \nL 601.78125 86.616181 \n\" clip-path=\"url(#pf66eca9551)\" style=\"fill: none; stroke: #b0b0b0; stroke-width: 0.8; stroke-linecap: square\"/>\n     </g>\n     <g id=\"line2d_28\">\n      <g>\n       <use xlink:href=\"#mefc81abf04\" x=\"43.78125\" y=\"86.616181\" style=\"stroke: #000000; stroke-width: 0.8\"/>\n      </g>\n     </g>\n     <g id=\"text_15\">\n      <!-- 1.2 -->\n      <g transform=\"translate(20.878125 90.415399) scale(0.1 -0.1)\">\n       <use xlink:href=\"#DejaVuSans-31\"/>\n       <use xlink:href=\"#DejaVuSans-2e\" transform=\"translate(63.623047 0)\"/>\n       <use xlink:href=\"#DejaVuSans-32\" transform=\"translate(95.410156 0)\"/>\n      </g>\n     </g>\n    </g>\n    <g id=\"ytick_8\">\n     <g id=\"line2d_29\">\n      <path d=\"M 43.78125 52.873774 \nL 601.78125 52.873774 \n\" clip-path=\"url(#pf66eca9551)\" style=\"fill: none; stroke: #b0b0b0; stroke-width: 0.8; stroke-linecap: square\"/>\n     </g>\n     <g id=\"line2d_30\">\n      <g>\n       <use xlink:href=\"#mefc81abf04\" x=\"43.78125\" y=\"52.873774\" style=\"stroke: #000000; stroke-width: 0.8\"/>\n      </g>\n     </g>\n     <g id=\"text_16\">\n      <!-- 1.4 -->\n      <g transform=\"translate(20.878125 56.672993) scale(0.1 -0.1)\">\n       <use xlink:href=\"#DejaVuSans-31\"/>\n       <use xlink:href=\"#DejaVuSans-2e\" transform=\"translate(63.623047 0)\"/>\n       <use xlink:href=\"#DejaVuSans-34\" transform=\"translate(95.410156 0)\"/>\n      </g>\n     </g>\n    </g>\n    <g id=\"text_17\">\n     <!-- Valor -->\n     <g transform=\"translate(14.798438 173.817031) rotate(-90) scale(0.1 -0.1)\">\n      <defs>\n       <path id=\"DejaVuSans-56\" d=\"M 1831 0 \nL 50 4666 \nL 709 4666 \nL 2188 738 \nL 3669 4666 \nL 4325 4666 \nL 2547 0 \nL 1831 0 \nz\n\" transform=\"scale(0.015625)\"/>\n       <path id=\"DejaVuSans-6c\" d=\"M 603 4863 \nL 1178 4863 \nL 1178 0 \nL 603 0 \nL 603 4863 \nz\n\" transform=\"scale(0.015625)\"/>\n       <path id=\"DejaVuSans-72\" d=\"M 2631 2963 \nQ 2534 3019 2420 3045 \nQ 2306 3072 2169 3072 \nQ 1681 3072 1420 2755 \nQ 1159 2438 1159 1844 \nL 1159 0 \nL 581 0 \nL 581 3500 \nL 1159 3500 \nL 1159 2956 \nQ 1341 3275 1631 3429 \nQ 1922 3584 2338 3584 \nQ 2397 3584 2469 3576 \nQ 2541 3569 2628 3553 \nL 2631 2963 \nz\n\" transform=\"scale(0.015625)\"/>\n      </defs>\n      <use xlink:href=\"#DejaVuSans-56\"/>\n      <use xlink:href=\"#DejaVuSans-61\" transform=\"translate(60.658203 0)\"/>\n      <use xlink:href=\"#DejaVuSans-6c\" transform=\"translate(121.9375 0)\"/>\n      <use xlink:href=\"#DejaVuSans-6f\" transform=\"translate(149.720703 0)\"/>\n      <use xlink:href=\"#DejaVuSans-72\" transform=\"translate(210.902344 0)\"/>\n     </g>\n    </g>\n   </g>\n   <g id=\"line2d_31\">\n    <path d=\"M 69.144886 35.21625 \nL 86.637049 125.572031 \nL 104.129212 148.982789 \nL 121.621375 161.76007 \nL 139.113538 167.034212 \nL 156.605701 172.574747 \nL 174.097864 179.413214 \nL 191.590027 186.319035 \nL 209.08219 190.883513 \nL 226.574353 193.385662 \nL 244.066516 198.723589 \nL 261.558679 202.424828 \nL 279.050842 205.873566 \nL 296.543005 209.391242 \nL 314.035168 211.680184 \nL 331.527332 212.858815 \nL 349.019495 216.259867 \nL 366.511658 218.010741 \nL 384.003821 220.603344 \nL 401.495984 222.795239 \nL 418.988147 225.267276 \nL 436.48031 226.353105 \nL 453.972473 228.067274 \nL 471.464636 229.347944 \nL 488.956799 231.402872 \nL 506.448962 233.286384 \nL 523.941125 234.271522 \nL 541.433288 235.078267 \nL 558.925451 236.666852 \nL 576.417614 238.234952 \n\" clip-path=\"url(#pf66eca9551)\" style=\"fill: none; stroke: #1f77b4; stroke-width: 1.5; stroke-linecap: square\"/>\n    <defs>\n     <path id=\"m0b681add81\" d=\"M 0 3 \nC 0.795609 3 1.55874 2.683901 2.12132 2.12132 \nC 2.683901 1.55874 3 0.795609 3 0 \nC 3 -0.795609 2.683901 -1.55874 2.12132 -2.12132 \nC 1.55874 -2.683901 0.795609 -3 0 -3 \nC -0.795609 -3 -1.55874 -2.683901 -2.12132 -2.12132 \nC -2.683901 -1.55874 -3 -0.795609 -3 0 \nC -3 0.795609 -2.683901 1.55874 -2.12132 2.12132 \nC -1.55874 2.683901 -0.795609 3 0 3 \nz\n\" style=\"stroke: #1f77b4\"/>\n    </defs>\n    <g clip-path=\"url(#pf66eca9551)\">\n     <use xlink:href=\"#m0b681add81\" x=\"69.144886\" y=\"35.21625\" style=\"fill: #1f77b4; stroke: #1f77b4\"/>\n     <use xlink:href=\"#m0b681add81\" x=\"86.637049\" y=\"125.572031\" style=\"fill: #1f77b4; stroke: #1f77b4\"/>\n     <use xlink:href=\"#m0b681add81\" x=\"104.129212\" y=\"148.982789\" style=\"fill: #1f77b4; stroke: #1f77b4\"/>\n     <use xlink:href=\"#m0b681add81\" x=\"121.621375\" y=\"161.76007\" style=\"fill: #1f77b4; stroke: #1f77b4\"/>\n     <use xlink:href=\"#m0b681add81\" x=\"139.113538\" y=\"167.034212\" style=\"fill: #1f77b4; stroke: #1f77b4\"/>\n     <use xlink:href=\"#m0b681add81\" x=\"156.605701\" y=\"172.574747\" style=\"fill: #1f77b4; stroke: #1f77b4\"/>\n     <use xlink:href=\"#m0b681add81\" x=\"174.097864\" y=\"179.413214\" style=\"fill: #1f77b4; stroke: #1f77b4\"/>\n     <use xlink:href=\"#m0b681add81\" x=\"191.590027\" y=\"186.319035\" style=\"fill: #1f77b4; stroke: #1f77b4\"/>\n     <use xlink:href=\"#m0b681add81\" x=\"209.08219\" y=\"190.883513\" style=\"fill: #1f77b4; stroke: #1f77b4\"/>\n     <use xlink:href=\"#m0b681add81\" x=\"226.574353\" y=\"193.385662\" style=\"fill: #1f77b4; stroke: #1f77b4\"/>\n     <use xlink:href=\"#m0b681add81\" x=\"244.066516\" y=\"198.723589\" style=\"fill: #1f77b4; stroke: #1f77b4\"/>\n     <use xlink:href=\"#m0b681add81\" x=\"261.558679\" y=\"202.424828\" style=\"fill: #1f77b4; stroke: #1f77b4\"/>\n     <use xlink:href=\"#m0b681add81\" x=\"279.050842\" y=\"205.873566\" style=\"fill: #1f77b4; stroke: #1f77b4\"/>\n     <use xlink:href=\"#m0b681add81\" x=\"296.543005\" y=\"209.391242\" style=\"fill: #1f77b4; stroke: #1f77b4\"/>\n     <use xlink:href=\"#m0b681add81\" x=\"314.035168\" y=\"211.680184\" style=\"fill: #1f77b4; stroke: #1f77b4\"/>\n     <use xlink:href=\"#m0b681add81\" x=\"331.527332\" y=\"212.858815\" style=\"fill: #1f77b4; stroke: #1f77b4\"/>\n     <use xlink:href=\"#m0b681add81\" x=\"349.019495\" y=\"216.259867\" style=\"fill: #1f77b4; stroke: #1f77b4\"/>\n     <use xlink:href=\"#m0b681add81\" x=\"366.511658\" y=\"218.010741\" style=\"fill: #1f77b4; stroke: #1f77b4\"/>\n     <use xlink:href=\"#m0b681add81\" x=\"384.003821\" y=\"220.603344\" style=\"fill: #1f77b4; stroke: #1f77b4\"/>\n     <use xlink:href=\"#m0b681add81\" x=\"401.495984\" y=\"222.795239\" style=\"fill: #1f77b4; stroke: #1f77b4\"/>\n     <use xlink:href=\"#m0b681add81\" x=\"418.988147\" y=\"225.267276\" style=\"fill: #1f77b4; stroke: #1f77b4\"/>\n     <use xlink:href=\"#m0b681add81\" x=\"436.48031\" y=\"226.353105\" style=\"fill: #1f77b4; stroke: #1f77b4\"/>\n     <use xlink:href=\"#m0b681add81\" x=\"453.972473\" y=\"228.067274\" style=\"fill: #1f77b4; stroke: #1f77b4\"/>\n     <use xlink:href=\"#m0b681add81\" x=\"471.464636\" y=\"229.347944\" style=\"fill: #1f77b4; stroke: #1f77b4\"/>\n     <use xlink:href=\"#m0b681add81\" x=\"488.956799\" y=\"231.402872\" style=\"fill: #1f77b4; stroke: #1f77b4\"/>\n     <use xlink:href=\"#m0b681add81\" x=\"506.448962\" y=\"233.286384\" style=\"fill: #1f77b4; stroke: #1f77b4\"/>\n     <use xlink:href=\"#m0b681add81\" x=\"523.941125\" y=\"234.271522\" style=\"fill: #1f77b4; stroke: #1f77b4\"/>\n     <use xlink:href=\"#m0b681add81\" x=\"541.433288\" y=\"235.078267\" style=\"fill: #1f77b4; stroke: #1f77b4\"/>\n     <use xlink:href=\"#m0b681add81\" x=\"558.925451\" y=\"236.666852\" style=\"fill: #1f77b4; stroke: #1f77b4\"/>\n     <use xlink:href=\"#m0b681add81\" x=\"576.417614\" y=\"238.234952\" style=\"fill: #1f77b4; stroke: #1f77b4\"/>\n    </g>\n   </g>\n   <g id=\"line2d_32\">\n    <path d=\"M 69.144886 241.520487 \nL 86.637049 225.31974 \nL 104.129212 206.22688 \nL 121.621375 197.385907 \nL 139.113538 193.628875 \nL 156.605701 185.03651 \nL 174.097864 180.65707 \nL 191.590027 178.205625 \nL 209.08219 177.85912 \nL 226.574353 178.297739 \nL 244.066516 176.392007 \nL 261.558679 176.624729 \nL 279.050842 174.156303 \nL 296.543005 175.288388 \nL 314.035168 174.110223 \nL 331.527332 172.381905 \nL 349.019495 171.883361 \nL 366.511658 171.295479 \nL 384.003821 169.338905 \nL 401.495984 169.024199 \nL 418.988147 167.784617 \nL 436.48031 166.280153 \nL 453.972473 165.313583 \nL 471.464636 164.407928 \nL 488.956799 164.426425 \nL 506.448962 163.900347 \nL 523.941125 162.828958 \nL 541.433288 162.060535 \nL 558.925451 161.26929 \nL 576.417614 160.763122 \n\" clip-path=\"url(#pf66eca9551)\" style=\"fill: none; stroke: #ff7f0e; stroke-width: 1.5; stroke-linecap: square\"/>\n    <defs>\n     <path id=\"m47b840253e\" d=\"M -3 3 \nL 3 -3 \nM -3 -3 \nL 3 3 \n\" style=\"stroke: #ff7f0e\"/>\n    </defs>\n    <g clip-path=\"url(#pf66eca9551)\">\n     <use xlink:href=\"#m47b840253e\" x=\"69.144886\" y=\"241.520487\" style=\"fill: #ff7f0e; stroke: #ff7f0e\"/>\n     <use xlink:href=\"#m47b840253e\" x=\"86.637049\" y=\"225.31974\" style=\"fill: #ff7f0e; stroke: #ff7f0e\"/>\n     <use xlink:href=\"#m47b840253e\" x=\"104.129212\" y=\"206.22688\" style=\"fill: #ff7f0e; stroke: #ff7f0e\"/>\n     <use xlink:href=\"#m47b840253e\" x=\"121.621375\" y=\"197.385907\" style=\"fill: #ff7f0e; stroke: #ff7f0e\"/>\n     <use xlink:href=\"#m47b840253e\" x=\"139.113538\" y=\"193.628875\" style=\"fill: #ff7f0e; stroke: #ff7f0e\"/>\n     <use xlink:href=\"#m47b840253e\" x=\"156.605701\" y=\"185.03651\" style=\"fill: #ff7f0e; stroke: #ff7f0e\"/>\n     <use xlink:href=\"#m47b840253e\" x=\"174.097864\" y=\"180.65707\" style=\"fill: #ff7f0e; stroke: #ff7f0e\"/>\n     <use xlink:href=\"#m47b840253e\" x=\"191.590027\" y=\"178.205625\" style=\"fill: #ff7f0e; stroke: #ff7f0e\"/>\n     <use xlink:href=\"#m47b840253e\" x=\"209.08219\" y=\"177.85912\" style=\"fill: #ff7f0e; stroke: #ff7f0e\"/>\n     <use xlink:href=\"#m47b840253e\" x=\"226.574353\" y=\"178.297739\" style=\"fill: #ff7f0e; stroke: #ff7f0e\"/>\n     <use xlink:href=\"#m47b840253e\" x=\"244.066516\" y=\"176.392007\" style=\"fill: #ff7f0e; stroke: #ff7f0e\"/>\n     <use xlink:href=\"#m47b840253e\" x=\"261.558679\" y=\"176.624729\" style=\"fill: #ff7f0e; stroke: #ff7f0e\"/>\n     <use xlink:href=\"#m47b840253e\" x=\"279.050842\" y=\"174.156303\" style=\"fill: #ff7f0e; stroke: #ff7f0e\"/>\n     <use xlink:href=\"#m47b840253e\" x=\"296.543005\" y=\"175.288388\" style=\"fill: #ff7f0e; stroke: #ff7f0e\"/>\n     <use xlink:href=\"#m47b840253e\" x=\"314.035168\" y=\"174.110223\" style=\"fill: #ff7f0e; stroke: #ff7f0e\"/>\n     <use xlink:href=\"#m47b840253e\" x=\"331.527332\" y=\"172.381905\" style=\"fill: #ff7f0e; stroke: #ff7f0e\"/>\n     <use xlink:href=\"#m47b840253e\" x=\"349.019495\" y=\"171.883361\" style=\"fill: #ff7f0e; stroke: #ff7f0e\"/>\n     <use xlink:href=\"#m47b840253e\" x=\"366.511658\" y=\"171.295479\" style=\"fill: #ff7f0e; stroke: #ff7f0e\"/>\n     <use xlink:href=\"#m47b840253e\" x=\"384.003821\" y=\"169.338905\" style=\"fill: #ff7f0e; stroke: #ff7f0e\"/>\n     <use xlink:href=\"#m47b840253e\" x=\"401.495984\" y=\"169.024199\" style=\"fill: #ff7f0e; stroke: #ff7f0e\"/>\n     <use xlink:href=\"#m47b840253e\" x=\"418.988147\" y=\"167.784617\" style=\"fill: #ff7f0e; stroke: #ff7f0e\"/>\n     <use xlink:href=\"#m47b840253e\" x=\"436.48031\" y=\"166.280153\" style=\"fill: #ff7f0e; stroke: #ff7f0e\"/>\n     <use xlink:href=\"#m47b840253e\" x=\"453.972473\" y=\"165.313583\" style=\"fill: #ff7f0e; stroke: #ff7f0e\"/>\n     <use xlink:href=\"#m47b840253e\" x=\"471.464636\" y=\"164.407928\" style=\"fill: #ff7f0e; stroke: #ff7f0e\"/>\n     <use xlink:href=\"#m47b840253e\" x=\"488.956799\" y=\"164.426425\" style=\"fill: #ff7f0e; stroke: #ff7f0e\"/>\n     <use xlink:href=\"#m47b840253e\" x=\"506.448962\" y=\"163.900347\" style=\"fill: #ff7f0e; stroke: #ff7f0e\"/>\n     <use xlink:href=\"#m47b840253e\" x=\"523.941125\" y=\"162.828958\" style=\"fill: #ff7f0e; stroke: #ff7f0e\"/>\n     <use xlink:href=\"#m47b840253e\" x=\"541.433288\" y=\"162.060535\" style=\"fill: #ff7f0e; stroke: #ff7f0e\"/>\n     <use xlink:href=\"#m47b840253e\" x=\"558.925451\" y=\"161.26929\" style=\"fill: #ff7f0e; stroke: #ff7f0e\"/>\n     <use xlink:href=\"#m47b840253e\" x=\"576.417614\" y=\"160.763122\" style=\"fill: #ff7f0e; stroke: #ff7f0e\"/>\n    </g>\n   </g>\n   <g id=\"line2d_33\">\n    <path d=\"M 69.144886 287.21625 \nL 86.637049 285.019515 \nL 104.129212 282.058219 \nL 121.621375 278.936502 \nL 139.113538 279.57088 \nL 156.605701 276.755013 \nL 174.097864 275.288903 \nL 191.590027 274.758817 \nL 209.08219 273.883052 \nL 226.574353 274.586733 \nL 244.066516 273.639389 \nL 261.558679 273.065726 \nL 279.050842 268.749589 \nL 296.543005 269.785766 \nL 314.035168 267.944762 \nL 331.527332 261.775985 \nL 349.019495 262.443573 \nL 366.511658 261.015764 \nL 384.003821 258.435183 \nL 401.495984 255.504706 \nL 418.988147 252.99974 \nL 436.48031 250.095893 \nL 453.972473 247.115896 \nL 471.464636 247.016955 \nL 488.956799 244.342379 \nL 506.448962 244.324126 \nL 523.941125 242.327959 \nL 541.433288 239.300939 \nL 558.925451 239.579399 \nL 576.417614 238.139022 \n\" clip-path=\"url(#pf66eca9551)\" style=\"fill: none; stroke: #2ca02c; stroke-width: 1.5; stroke-linecap: square\"/>\n    <defs>\n     <path id=\"m0d18e95669\" d=\"M -3 3 \nL 3 3 \nL 3 -3 \nL -3 -3 \nz\n\" style=\"stroke: #2ca02c; stroke-linejoin: miter\"/>\n    </defs>\n    <g clip-path=\"url(#pf66eca9551)\">\n     <use xlink:href=\"#m0d18e95669\" x=\"69.144886\" y=\"287.21625\" style=\"fill: #2ca02c; stroke: #2ca02c; stroke-linejoin: miter\"/>\n     <use xlink:href=\"#m0d18e95669\" x=\"86.637049\" y=\"285.019515\" style=\"fill: #2ca02c; stroke: #2ca02c; stroke-linejoin: miter\"/>\n     <use xlink:href=\"#m0d18e95669\" x=\"104.129212\" y=\"282.058219\" style=\"fill: #2ca02c; stroke: #2ca02c; stroke-linejoin: miter\"/>\n     <use xlink:href=\"#m0d18e95669\" x=\"121.621375\" y=\"278.936502\" style=\"fill: #2ca02c; stroke: #2ca02c; stroke-linejoin: miter\"/>\n     <use xlink:href=\"#m0d18e95669\" x=\"139.113538\" y=\"279.57088\" style=\"fill: #2ca02c; stroke: #2ca02c; stroke-linejoin: miter\"/>\n     <use xlink:href=\"#m0d18e95669\" x=\"156.605701\" y=\"276.755013\" style=\"fill: #2ca02c; stroke: #2ca02c; stroke-linejoin: miter\"/>\n     <use xlink:href=\"#m0d18e95669\" x=\"174.097864\" y=\"275.288903\" style=\"fill: #2ca02c; stroke: #2ca02c; stroke-linejoin: miter\"/>\n     <use xlink:href=\"#m0d18e95669\" x=\"191.590027\" y=\"274.758817\" style=\"fill: #2ca02c; stroke: #2ca02c; stroke-linejoin: miter\"/>\n     <use xlink:href=\"#m0d18e95669\" x=\"209.08219\" y=\"273.883052\" style=\"fill: #2ca02c; stroke: #2ca02c; stroke-linejoin: miter\"/>\n     <use xlink:href=\"#m0d18e95669\" x=\"226.574353\" y=\"274.586733\" style=\"fill: #2ca02c; stroke: #2ca02c; stroke-linejoin: miter\"/>\n     <use xlink:href=\"#m0d18e95669\" x=\"244.066516\" y=\"273.639389\" style=\"fill: #2ca02c; stroke: #2ca02c; stroke-linejoin: miter\"/>\n     <use xlink:href=\"#m0d18e95669\" x=\"261.558679\" y=\"273.065726\" style=\"fill: #2ca02c; stroke: #2ca02c; stroke-linejoin: miter\"/>\n     <use xlink:href=\"#m0d18e95669\" x=\"279.050842\" y=\"268.749589\" style=\"fill: #2ca02c; stroke: #2ca02c; stroke-linejoin: miter\"/>\n     <use xlink:href=\"#m0d18e95669\" x=\"296.543005\" y=\"269.785766\" style=\"fill: #2ca02c; stroke: #2ca02c; stroke-linejoin: miter\"/>\n     <use xlink:href=\"#m0d18e95669\" x=\"314.035168\" y=\"267.944762\" style=\"fill: #2ca02c; stroke: #2ca02c; stroke-linejoin: miter\"/>\n     <use xlink:href=\"#m0d18e95669\" x=\"331.527332\" y=\"261.775985\" style=\"fill: #2ca02c; stroke: #2ca02c; stroke-linejoin: miter\"/>\n     <use xlink:href=\"#m0d18e95669\" x=\"349.019495\" y=\"262.443573\" style=\"fill: #2ca02c; stroke: #2ca02c; stroke-linejoin: miter\"/>\n     <use xlink:href=\"#m0d18e95669\" x=\"366.511658\" y=\"261.015764\" style=\"fill: #2ca02c; stroke: #2ca02c; stroke-linejoin: miter\"/>\n     <use xlink:href=\"#m0d18e95669\" x=\"384.003821\" y=\"258.435183\" style=\"fill: #2ca02c; stroke: #2ca02c; stroke-linejoin: miter\"/>\n     <use xlink:href=\"#m0d18e95669\" x=\"401.495984\" y=\"255.504706\" style=\"fill: #2ca02c; stroke: #2ca02c; stroke-linejoin: miter\"/>\n     <use xlink:href=\"#m0d18e95669\" x=\"418.988147\" y=\"252.99974\" style=\"fill: #2ca02c; stroke: #2ca02c; stroke-linejoin: miter\"/>\n     <use xlink:href=\"#m0d18e95669\" x=\"436.48031\" y=\"250.095893\" style=\"fill: #2ca02c; stroke: #2ca02c; stroke-linejoin: miter\"/>\n     <use xlink:href=\"#m0d18e95669\" x=\"453.972473\" y=\"247.115896\" style=\"fill: #2ca02c; stroke: #2ca02c; stroke-linejoin: miter\"/>\n     <use xlink:href=\"#m0d18e95669\" x=\"471.464636\" y=\"247.016955\" style=\"fill: #2ca02c; stroke: #2ca02c; stroke-linejoin: miter\"/>\n     <use xlink:href=\"#m0d18e95669\" x=\"488.956799\" y=\"244.342379\" style=\"fill: #2ca02c; stroke: #2ca02c; stroke-linejoin: miter\"/>\n     <use xlink:href=\"#m0d18e95669\" x=\"506.448962\" y=\"244.324126\" style=\"fill: #2ca02c; stroke: #2ca02c; stroke-linejoin: miter\"/>\n     <use xlink:href=\"#m0d18e95669\" x=\"523.941125\" y=\"242.327959\" style=\"fill: #2ca02c; stroke: #2ca02c; stroke-linejoin: miter\"/>\n     <use xlink:href=\"#m0d18e95669\" x=\"541.433288\" y=\"239.300939\" style=\"fill: #2ca02c; stroke: #2ca02c; stroke-linejoin: miter\"/>\n     <use xlink:href=\"#m0d18e95669\" x=\"558.925451\" y=\"239.579399\" style=\"fill: #2ca02c; stroke: #2ca02c; stroke-linejoin: miter\"/>\n     <use xlink:href=\"#m0d18e95669\" x=\"576.417614\" y=\"238.139022\" style=\"fill: #2ca02c; stroke: #2ca02c; stroke-linejoin: miter\"/>\n    </g>\n   </g>\n   <g id=\"patch_3\">\n    <path d=\"M 43.78125 299.81625 \nL 43.78125 22.61625 \n\" style=\"fill: none; stroke: #000000; stroke-width: 0.8; stroke-linejoin: miter; stroke-linecap: square\"/>\n   </g>\n   <g id=\"patch_4\">\n    <path d=\"M 601.78125 299.81625 \nL 601.78125 22.61625 \n\" style=\"fill: none; stroke: #000000; stroke-width: 0.8; stroke-linejoin: miter; stroke-linecap: square\"/>\n   </g>\n   <g id=\"patch_5\">\n    <path d=\"M 43.78125 299.81625 \nL 601.78125 299.81625 \n\" style=\"fill: none; stroke: #000000; stroke-width: 0.8; stroke-linejoin: miter; stroke-linecap: square\"/>\n   </g>\n   <g id=\"patch_6\">\n    <path d=\"M 43.78125 22.61625 \nL 601.78125 22.61625 \n\" style=\"fill: none; stroke: #000000; stroke-width: 0.8; stroke-linejoin: miter; stroke-linecap: square\"/>\n   </g>\n   <g id=\"text_18\">\n    <!-- Métricas de avaliação durante o treinamento -->\n    <g transform=\"translate(187.570312 16.61625) scale(0.12 -0.12)\">\n     <defs>\n      <path id=\"DejaVuSans-4d\" d=\"M 628 4666 \nL 1569 4666 \nL 2759 1491 \nL 3956 4666 \nL 4897 4666 \nL 4897 0 \nL 4281 0 \nL 4281 4097 \nL 3078 897 \nL 2444 897 \nL 1241 4097 \nL 1241 0 \nL 628 0 \nL 628 4666 \nz\n\" transform=\"scale(0.015625)\"/>\n      <path id=\"DejaVuSans-e9\" d=\"M 3597 1894 \nL 3597 1613 \nL 953 1613 \nQ 991 1019 1311 708 \nQ 1631 397 2203 397 \nQ 2534 397 2845 478 \nQ 3156 559 3463 722 \nL 3463 178 \nQ 3153 47 2828 -22 \nQ 2503 -91 2169 -91 \nQ 1331 -91 842 396 \nQ 353 884 353 1716 \nQ 353 2575 817 3079 \nQ 1281 3584 2069 3584 \nQ 2775 3584 3186 3129 \nQ 3597 2675 3597 1894 \nz\nM 3022 2063 \nQ 3016 2534 2758 2815 \nQ 2500 3097 2075 3097 \nQ 1594 3097 1305 2825 \nQ 1016 2553 972 2059 \nL 3022 2063 \nz\nM 2466 5119 \nL 3088 5119 \nL 2070 3944 \nL 1591 3944 \nL 2466 5119 \nz\n\" transform=\"scale(0.015625)\"/>\n      <path id=\"DejaVuSans-74\" d=\"M 1172 4494 \nL 1172 3500 \nL 2356 3500 \nL 2356 3053 \nL 1172 3053 \nL 1172 1153 \nQ 1172 725 1289 603 \nQ 1406 481 1766 481 \nL 2356 481 \nL 2356 0 \nL 1766 0 \nQ 1100 0 847 248 \nQ 594 497 594 1153 \nL 594 3053 \nL 172 3053 \nL 172 3500 \nL 594 3500 \nL 594 4494 \nL 1172 4494 \nz\n\" transform=\"scale(0.015625)\"/>\n      <path id=\"DejaVuSans-69\" d=\"M 603 3500 \nL 1178 3500 \nL 1178 0 \nL 603 0 \nL 603 3500 \nz\nM 603 4863 \nL 1178 4863 \nL 1178 4134 \nL 603 4134 \nL 603 4863 \nz\n\" transform=\"scale(0.015625)\"/>\n      <path id=\"DejaVuSans-73\" d=\"M 2834 3397 \nL 2834 2853 \nQ 2591 2978 2328 3040 \nQ 2066 3103 1784 3103 \nQ 1356 3103 1142 2972 \nQ 928 2841 928 2578 \nQ 928 2378 1081 2264 \nQ 1234 2150 1697 2047 \nL 1894 2003 \nQ 2506 1872 2764 1633 \nQ 3022 1394 3022 966 \nQ 3022 478 2636 193 \nQ 2250 -91 1575 -91 \nQ 1294 -91 989 -36 \nQ 684 19 347 128 \nL 347 722 \nQ 666 556 975 473 \nQ 1284 391 1588 391 \nQ 1994 391 2212 530 \nQ 2431 669 2431 922 \nQ 2431 1156 2273 1281 \nQ 2116 1406 1581 1522 \nL 1381 1569 \nQ 847 1681 609 1914 \nQ 372 2147 372 2553 \nQ 372 3047 722 3315 \nQ 1072 3584 1716 3584 \nQ 2034 3584 2315 3537 \nQ 2597 3491 2834 3397 \nz\n\" transform=\"scale(0.015625)\"/>\n      <path id=\"DejaVuSans-20\" transform=\"scale(0.015625)\"/>\n      <path id=\"DejaVuSans-64\" d=\"M 2906 2969 \nL 2906 4863 \nL 3481 4863 \nL 3481 0 \nL 2906 0 \nL 2906 525 \nQ 2725 213 2448 61 \nQ 2172 -91 1784 -91 \nQ 1150 -91 751 415 \nQ 353 922 353 1747 \nQ 353 2572 751 3078 \nQ 1150 3584 1784 3584 \nQ 2172 3584 2448 3432 \nQ 2725 3281 2906 2969 \nz\nM 947 1747 \nQ 947 1113 1208 752 \nQ 1469 391 1925 391 \nQ 2381 391 2643 752 \nQ 2906 1113 2906 1747 \nQ 2906 2381 2643 2742 \nQ 2381 3103 1925 3103 \nQ 1469 3103 1208 2742 \nQ 947 2381 947 1747 \nz\n\" transform=\"scale(0.015625)\"/>\n      <path id=\"DejaVuSans-65\" d=\"M 3597 1894 \nL 3597 1613 \nL 953 1613 \nQ 991 1019 1311 708 \nQ 1631 397 2203 397 \nQ 2534 397 2845 478 \nQ 3156 559 3463 722 \nL 3463 178 \nQ 3153 47 2828 -22 \nQ 2503 -91 2169 -91 \nQ 1331 -91 842 396 \nQ 353 884 353 1716 \nQ 353 2575 817 3079 \nQ 1281 3584 2069 3584 \nQ 2775 3584 3186 3129 \nQ 3597 2675 3597 1894 \nz\nM 3022 2063 \nQ 3016 2534 2758 2815 \nQ 2500 3097 2075 3097 \nQ 1594 3097 1305 2825 \nQ 1016 2553 972 2059 \nL 3022 2063 \nz\n\" transform=\"scale(0.015625)\"/>\n      <path id=\"DejaVuSans-76\" d=\"M 191 3500 \nL 800 3500 \nL 1894 563 \nL 2988 3500 \nL 3597 3500 \nL 2284 0 \nL 1503 0 \nL 191 3500 \nz\n\" transform=\"scale(0.015625)\"/>\n      <path id=\"DejaVuSans-e7\" d=\"M 3122 3366 \nL 3122 2828 \nQ 2878 2963 2633 3030 \nQ 2388 3097 2138 3097 \nQ 1578 3097 1268 2742 \nQ 959 2388 959 1747 \nQ 959 1106 1268 751 \nQ 1578 397 2138 397 \nQ 2388 397 2633 464 \nQ 2878 531 3122 666 \nL 3122 134 \nQ 2881 22 2623 -34 \nQ 2366 -91 2075 -91 \nQ 1284 -91 818 406 \nQ 353 903 353 1747 \nQ 353 2603 823 3093 \nQ 1294 3584 2113 3584 \nQ 2378 3584 2631 3529 \nQ 2884 3475 3122 3366 \nz\nM 2311 0 \nQ 2482 -194 2566 -358 \nQ 2651 -522 2651 -672 \nQ 2651 -950 2463 -1092 \nQ 2276 -1234 1907 -1234 \nQ 1764 -1234 1628 -1215 \nQ 1492 -1197 1357 -1159 \nL 1357 -750 \nQ 1464 -803 1579 -826 \nQ 1695 -850 1842 -850 \nQ 2026 -850 2120 -775 \nQ 2214 -700 2214 -556 \nQ 2214 -463 2146 -327 \nQ 2079 -191 1939 0 \nL 2311 0 \nz\n\" transform=\"scale(0.015625)\"/>\n      <path id=\"DejaVuSans-e3\" d=\"M 2194 1759 \nQ 1497 1759 1228 1600 \nQ 959 1441 959 1056 \nQ 959 750 1161 570 \nQ 1363 391 1709 391 \nQ 2188 391 2477 730 \nQ 2766 1069 2766 1631 \nL 2766 1759 \nL 2194 1759 \nz\nM 3341 1997 \nL 3341 0 \nL 2766 0 \nL 2766 531 \nQ 2569 213 2275 61 \nQ 1981 -91 1556 -91 \nQ 1019 -91 701 211 \nQ 384 513 384 1019 \nQ 384 1609 779 1909 \nQ 1175 2209 1959 2209 \nL 2766 2209 \nL 2766 2266 \nQ 2766 2663 2505 2880 \nQ 2244 3097 1772 3097 \nQ 1472 3097 1187 3025 \nQ 903 2953 641 2809 \nL 641 3341 \nQ 956 3463 1253 3523 \nQ 1550 3584 1831 3584 \nQ 2591 3584 2966 3190 \nQ 3341 2797 3341 1997 \nz\nM 1844 4281 \nL 1665 4453 \nQ 1597 4516 1545 4545 \nQ 1494 4575 1453 4575 \nQ 1334 4575 1278 4461 \nQ 1222 4347 1215 4091 \nL 825 4091 \nQ 831 4513 990 4742 \nQ 1150 4972 1434 4972 \nQ 1553 4972 1653 4928 \nQ 1753 4884 1869 4781 \nL 2047 4609 \nQ 2115 4547 2167 4517 \nQ 2219 4488 2259 4488 \nQ 2378 4488 2434 4602 \nQ 2490 4716 2497 4972 \nL 2887 4972 \nQ 2881 4550 2721 4320 \nQ 2562 4091 2278 4091 \nQ 2159 4091 2059 4134 \nQ 1959 4178 1844 4281 \nz\n\" transform=\"scale(0.015625)\"/>\n      <path id=\"DejaVuSans-75\" d=\"M 544 1381 \nL 544 3500 \nL 1119 3500 \nL 1119 1403 \nQ 1119 906 1312 657 \nQ 1506 409 1894 409 \nQ 2359 409 2629 706 \nQ 2900 1003 2900 1516 \nL 2900 3500 \nL 3475 3500 \nL 3475 0 \nL 2900 0 \nL 2900 538 \nQ 2691 219 2414 64 \nQ 2138 -91 1772 -91 \nQ 1169 -91 856 284 \nQ 544 659 544 1381 \nz\nM 1991 3584 \nL 1991 3584 \nz\n\" transform=\"scale(0.015625)\"/>\n      <path id=\"DejaVuSans-6e\" d=\"M 3513 2113 \nL 3513 0 \nL 2938 0 \nL 2938 2094 \nQ 2938 2591 2744 2837 \nQ 2550 3084 2163 3084 \nQ 1697 3084 1428 2787 \nQ 1159 2491 1159 1978 \nL 1159 0 \nL 581 0 \nL 581 3500 \nL 1159 3500 \nL 1159 2956 \nQ 1366 3272 1645 3428 \nQ 1925 3584 2291 3584 \nQ 2894 3584 3203 3211 \nQ 3513 2838 3513 2113 \nz\n\" transform=\"scale(0.015625)\"/>\n      <path id=\"DejaVuSans-6d\" d=\"M 3328 2828 \nQ 3544 3216 3844 3400 \nQ 4144 3584 4550 3584 \nQ 5097 3584 5394 3201 \nQ 5691 2819 5691 2113 \nL 5691 0 \nL 5113 0 \nL 5113 2094 \nQ 5113 2597 4934 2840 \nQ 4756 3084 4391 3084 \nQ 3944 3084 3684 2787 \nQ 3425 2491 3425 1978 \nL 3425 0 \nL 2847 0 \nL 2847 2094 \nQ 2847 2600 2669 2842 \nQ 2491 3084 2119 3084 \nQ 1678 3084 1418 2786 \nQ 1159 2488 1159 1978 \nL 1159 0 \nL 581 0 \nL 581 3500 \nL 1159 3500 \nL 1159 2956 \nQ 1356 3278 1631 3431 \nQ 1906 3584 2284 3584 \nQ 2666 3584 2933 3390 \nQ 3200 3197 3328 2828 \nz\n\" transform=\"scale(0.015625)\"/>\n     </defs>\n     <use xlink:href=\"#DejaVuSans-4d\"/>\n     <use xlink:href=\"#DejaVuSans-e9\" transform=\"translate(86.279297 0)\"/>\n     <use xlink:href=\"#DejaVuSans-74\" transform=\"translate(147.802734 0)\"/>\n     <use xlink:href=\"#DejaVuSans-72\" transform=\"translate(187.011719 0)\"/>\n     <use xlink:href=\"#DejaVuSans-69\" transform=\"translate(228.125 0)\"/>\n     <use xlink:href=\"#DejaVuSans-63\" transform=\"translate(255.908203 0)\"/>\n     <use xlink:href=\"#DejaVuSans-61\" transform=\"translate(310.888672 0)\"/>\n     <use xlink:href=\"#DejaVuSans-73\" transform=\"translate(372.167969 0)\"/>\n     <use xlink:href=\"#DejaVuSans-20\" transform=\"translate(424.267578 0)\"/>\n     <use xlink:href=\"#DejaVuSans-64\" transform=\"translate(456.054688 0)\"/>\n     <use xlink:href=\"#DejaVuSans-65\" transform=\"translate(519.53125 0)\"/>\n     <use xlink:href=\"#DejaVuSans-20\" transform=\"translate(581.054688 0)\"/>\n     <use xlink:href=\"#DejaVuSans-61\" transform=\"translate(612.841797 0)\"/>\n     <use xlink:href=\"#DejaVuSans-76\" transform=\"translate(674.121094 0)\"/>\n     <use xlink:href=\"#DejaVuSans-61\" transform=\"translate(733.300781 0)\"/>\n     <use xlink:href=\"#DejaVuSans-6c\" transform=\"translate(794.580078 0)\"/>\n     <use xlink:href=\"#DejaVuSans-69\" transform=\"translate(822.363281 0)\"/>\n     <use xlink:href=\"#DejaVuSans-61\" transform=\"translate(850.146484 0)\"/>\n     <use xlink:href=\"#DejaVuSans-e7\" transform=\"translate(911.425781 0)\"/>\n     <use xlink:href=\"#DejaVuSans-e3\" transform=\"translate(966.40625 0)\"/>\n     <use xlink:href=\"#DejaVuSans-6f\" transform=\"translate(1027.685547 0)\"/>\n     <use xlink:href=\"#DejaVuSans-20\" transform=\"translate(1088.867188 0)\"/>\n     <use xlink:href=\"#DejaVuSans-64\" transform=\"translate(1120.654297 0)\"/>\n     <use xlink:href=\"#DejaVuSans-75\" transform=\"translate(1184.130859 0)\"/>\n     <use xlink:href=\"#DejaVuSans-72\" transform=\"translate(1247.509766 0)\"/>\n     <use xlink:href=\"#DejaVuSans-61\" transform=\"translate(1288.623047 0)\"/>\n     <use xlink:href=\"#DejaVuSans-6e\" transform=\"translate(1349.902344 0)\"/>\n     <use xlink:href=\"#DejaVuSans-74\" transform=\"translate(1413.28125 0)\"/>\n     <use xlink:href=\"#DejaVuSans-65\" transform=\"translate(1452.490234 0)\"/>\n     <use xlink:href=\"#DejaVuSans-20\" transform=\"translate(1514.013672 0)\"/>\n     <use xlink:href=\"#DejaVuSans-6f\" transform=\"translate(1545.800781 0)\"/>\n     <use xlink:href=\"#DejaVuSans-20\" transform=\"translate(1606.982422 0)\"/>\n     <use xlink:href=\"#DejaVuSans-74\" transform=\"translate(1638.769531 0)\"/>\n     <use xlink:href=\"#DejaVuSans-72\" transform=\"translate(1677.978516 0)\"/>\n     <use xlink:href=\"#DejaVuSans-65\" transform=\"translate(1716.841797 0)\"/>\n     <use xlink:href=\"#DejaVuSans-69\" transform=\"translate(1778.365234 0)\"/>\n     <use xlink:href=\"#DejaVuSans-6e\" transform=\"translate(1806.148438 0)\"/>\n     <use xlink:href=\"#DejaVuSans-61\" transform=\"translate(1869.527344 0)\"/>\n     <use xlink:href=\"#DejaVuSans-6d\" transform=\"translate(1930.806641 0)\"/>\n     <use xlink:href=\"#DejaVuSans-65\" transform=\"translate(2028.21875 0)\"/>\n     <use xlink:href=\"#DejaVuSans-6e\" transform=\"translate(2089.742188 0)\"/>\n     <use xlink:href=\"#DejaVuSans-74\" transform=\"translate(2153.121094 0)\"/>\n     <use xlink:href=\"#DejaVuSans-6f\" transform=\"translate(2192.330078 0)\"/>\n    </g>\n   </g>\n   <g id=\"legend_1\">\n    <g id=\"patch_7\">\n     <path d=\"M 517.125 74.650625 \nL 594.78125 74.650625 \nQ 596.78125 74.650625 596.78125 72.650625 \nL 596.78125 29.61625 \nQ 596.78125 27.61625 594.78125 27.61625 \nL 517.125 27.61625 \nQ 515.125 27.61625 515.125 29.61625 \nL 515.125 72.650625 \nQ 515.125 74.650625 517.125 74.650625 \nz\n\" style=\"fill: #ffffff; opacity: 0.8; stroke: #cccccc; stroke-linejoin: miter\"/>\n    </g>\n    <g id=\"line2d_34\">\n     <path d=\"M 519.125 35.714687 \nL 529.125 35.714687 \nL 539.125 35.714687 \n\" style=\"fill: none; stroke: #1f77b4; stroke-width: 1.5; stroke-linecap: square\"/>\n     <g>\n      <use xlink:href=\"#m0b681add81\" x=\"529.125\" y=\"35.714687\" style=\"fill: #1f77b4; stroke: #1f77b4\"/>\n     </g>\n    </g>\n    <g id=\"text_19\">\n     <!-- Loss -->\n     <g transform=\"translate(547.125 39.214687) scale(0.1 -0.1)\">\n      <defs>\n       <path id=\"DejaVuSans-4c\" d=\"M 628 4666 \nL 1259 4666 \nL 1259 531 \nL 3531 531 \nL 3531 0 \nL 628 0 \nL 628 4666 \nz\n\" transform=\"scale(0.015625)\"/>\n      </defs>\n      <use xlink:href=\"#DejaVuSans-4c\"/>\n      <use xlink:href=\"#DejaVuSans-6f\" transform=\"translate(53.962891 0)\"/>\n      <use xlink:href=\"#DejaVuSans-73\" transform=\"translate(115.144531 0)\"/>\n      <use xlink:href=\"#DejaVuSans-73\" transform=\"translate(167.244141 0)\"/>\n     </g>\n    </g>\n    <g id=\"line2d_35\">\n     <path d=\"M 519.125 50.392812 \nL 529.125 50.392812 \nL 539.125 50.392812 \n\" style=\"fill: none; stroke: #ff7f0e; stroke-width: 1.5; stroke-linecap: square\"/>\n     <g>\n      <use xlink:href=\"#m47b840253e\" x=\"529.125\" y=\"50.392812\" style=\"fill: #ff7f0e; stroke: #ff7f0e\"/>\n     </g>\n    </g>\n    <g id=\"text_20\">\n     <!-- Accuracy -->\n     <g transform=\"translate(547.125 53.892812) scale(0.1 -0.1)\">\n      <defs>\n       <path id=\"DejaVuSans-41\" d=\"M 2188 4044 \nL 1331 1722 \nL 3047 1722 \nL 2188 4044 \nz\nM 1831 4666 \nL 2547 4666 \nL 4325 0 \nL 3669 0 \nL 3244 1197 \nL 1141 1197 \nL 716 0 \nL 50 0 \nL 1831 4666 \nz\n\" transform=\"scale(0.015625)\"/>\n       <path id=\"DejaVuSans-79\" d=\"M 2059 -325 \nQ 1816 -950 1584 -1140 \nQ 1353 -1331 966 -1331 \nL 506 -1331 \nL 506 -850 \nL 844 -850 \nQ 1081 -850 1212 -737 \nQ 1344 -625 1503 -206 \nL 1606 56 \nL 191 3500 \nL 800 3500 \nL 1894 763 \nL 2988 3500 \nL 3597 3500 \nL 2059 -325 \nz\n\" transform=\"scale(0.015625)\"/>\n      </defs>\n      <use xlink:href=\"#DejaVuSans-41\"/>\n      <use xlink:href=\"#DejaVuSans-63\" transform=\"translate(66.658203 0)\"/>\n      <use xlink:href=\"#DejaVuSans-63\" transform=\"translate(121.638672 0)\"/>\n      <use xlink:href=\"#DejaVuSans-75\" transform=\"translate(176.619141 0)\"/>\n      <use xlink:href=\"#DejaVuSans-72\" transform=\"translate(239.998047 0)\"/>\n      <use xlink:href=\"#DejaVuSans-61\" transform=\"translate(281.111328 0)\"/>\n      <use xlink:href=\"#DejaVuSans-63\" transform=\"translate(342.390625 0)\"/>\n      <use xlink:href=\"#DejaVuSans-79\" transform=\"translate(397.371094 0)\"/>\n     </g>\n    </g>\n    <g id=\"line2d_36\">\n     <path d=\"M 519.125 65.070937 \nL 529.125 65.070937 \nL 539.125 65.070937 \n\" style=\"fill: none; stroke: #2ca02c; stroke-width: 1.5; stroke-linecap: square\"/>\n     <g>\n      <use xlink:href=\"#m0d18e95669\" x=\"529.125\" y=\"65.070937\" style=\"fill: #2ca02c; stroke: #2ca02c; stroke-linejoin: miter\"/>\n     </g>\n    </g>\n    <g id=\"text_21\">\n     <!-- F1-score -->\n     <g transform=\"translate(547.125 68.570937) scale(0.1 -0.1)\">\n      <defs>\n       <path id=\"DejaVuSans-46\" d=\"M 628 4666 \nL 3309 4666 \nL 3309 4134 \nL 1259 4134 \nL 1259 2759 \nL 3109 2759 \nL 3109 2228 \nL 1259 2228 \nL 1259 0 \nL 628 0 \nL 628 4666 \nz\n\" transform=\"scale(0.015625)\"/>\n       <path id=\"DejaVuSans-2d\" d=\"M 313 2009 \nL 1997 2009 \nL 1997 1497 \nL 313 1497 \nL 313 2009 \nz\n\" transform=\"scale(0.015625)\"/>\n      </defs>\n      <use xlink:href=\"#DejaVuSans-46\"/>\n      <use xlink:href=\"#DejaVuSans-31\" transform=\"translate(57.519531 0)\"/>\n      <use xlink:href=\"#DejaVuSans-2d\" transform=\"translate(121.142578 0)\"/>\n      <use xlink:href=\"#DejaVuSans-73\" transform=\"translate(157.226562 0)\"/>\n      <use xlink:href=\"#DejaVuSans-63\" transform=\"translate(209.326172 0)\"/>\n      <use xlink:href=\"#DejaVuSans-6f\" transform=\"translate(264.306641 0)\"/>\n      <use xlink:href=\"#DejaVuSans-72\" transform=\"translate(325.488281 0)\"/>\n      <use xlink:href=\"#DejaVuSans-65\" transform=\"translate(364.351562 0)\"/>\n     </g>\n    </g>\n   </g>\n  </g>\n </g>\n <defs>\n  <clipPath id=\"pf66eca9551\">\n   <rect x=\"43.78125\" y=\"22.61625\" width=\"558\" height=\"277.2\"/>\n  </clipPath>\n </defs>\n</svg>\n"
          },
          "metadata": {}
        }
      ]
    }
  ]
}